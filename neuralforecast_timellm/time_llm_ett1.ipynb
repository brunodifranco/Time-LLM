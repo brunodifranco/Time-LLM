{
 "cells": [
  {
   "cell_type": "code",
   "execution_count": 1,
   "metadata": {},
   "outputs": [
    {
     "name": "stderr",
     "output_type": "stream",
     "text": [
      "/home/bruno/mestrado/Time-LLM/.venv/lib/python3.11/site-packages/tqdm/auto.py:21: TqdmWarning: IProgress not found. Please update jupyter and ipywidgets. See https://ipywidgets.readthedocs.io/en/stable/user_install.html\n",
      "  from .autonotebook import tqdm as notebook_tqdm\n"
     ]
    }
   ],
   "source": [
    "import torch\n",
    "import pandas as pd\n",
    "import matplotlib.pyplot as plt\n",
    "from neuralforecast import NeuralForecast\n",
    "from neuralforecast.models import TimeLLM\n",
    "from sklearn.preprocessing import MinMaxScaler\n",
    "from neuralforecast.losses.pytorch import RMSE\n",
    "from neuralforecast.utils import augment_calendar_df\n",
    "from transformers import GPT2Config, GPT2Model, GPT2Tokenizer, BertConfig, BertModel, BertTokenizer\n",
    "torch.set_float32_matmul_precision('medium')"
   ]
  },
  {
   "cell_type": "code",
   "execution_count": 2,
   "metadata": {},
   "outputs": [],
   "source": [
    "# from datasetsforecast.long_horizon import LongHorizon\n",
    "# Y_df, X_df, _ = LongHorizon.load(directory='./', group='ETTh1')\n",
    "# Y_df['ds'] = pd.to_datetime(Y_df['ds'])\n",
    "# X_df['ds'] = pd.to_datetime(X_df['ds'])\n",
    "# Y_df = Y_df.merge(X_df, on=['unique_id', 'ds'], how='left')"
   ]
  },
  {
   "cell_type": "code",
   "execution_count": 20,
   "metadata": {},
   "outputs": [],
   "source": [
    "df = pd.read_csv(\"dataset/ETT-small/ETTh1.csv\")\n",
    "df = df.rename(columns={\"date\": \"ds\"})\n",
    "df[\"ds\"] = pd.to_datetime(df[\"ds\"])\n",
    "df[\"unique_id\"] = \"OT\" # required for fit function\n",
    "df, calendar_cols = augment_calendar_df(df=df, freq='H')"
   ]
  },
  {
   "cell_type": "code",
   "execution_count": 21,
   "metadata": {},
   "outputs": [],
   "source": [
    "df = df[df[\"ds\"]>\"2018-03-01\"]"
   ]
  },
  {
   "cell_type": "code",
   "execution_count": 22,
   "metadata": {},
   "outputs": [],
   "source": [
    "df = df[[\"unique_id\", \"ds\", \"dayhour\", \"OT\"]]"
   ]
  },
  {
   "cell_type": "code",
   "execution_count": 7,
   "metadata": {},
   "outputs": [],
   "source": [
    "hufl_scaler = MinMaxScaler()\n",
    "hull_scaler = MinMaxScaler()\n",
    "mufl_scaler = MinMaxScaler()\n",
    "mull_scaler = MinMaxScaler()\n",
    "lufl_scaler = MinMaxScaler()\n",
    "lull_scaler = MinMaxScaler()\n",
    "ot_scaler = MinMaxScaler()"
   ]
  },
  {
   "cell_type": "code",
   "execution_count": 23,
   "metadata": {},
   "outputs": [],
   "source": [
    "# df['HUFL'] = hufl_scaler.fit_transform(df[['HUFL']])\n",
    "# df['HULL'] = hull_scaler.fit_transform(df[['HULL']])\n",
    "# df['MUFL'] = mufl_scaler.fit_transform(df[['MUFL']])\n",
    "# df['MULL'] = mull_scaler.fit_transform(df[['MULL']])\n",
    "# df['LUFL'] = lufl_scaler.fit_transform(df[['LUFL']])\n",
    "# df['LULL'] = lull_scaler.fit_transform(df[['LULL']])\n",
    "df['OT'] = ot_scaler.fit_transform(df[['OT']])\n"
   ]
  },
  {
   "cell_type": "code",
   "execution_count": 10,
   "metadata": {},
   "outputs": [
    {
     "data": {
      "text/plain": [
       "168"
      ]
     },
     "execution_count": 10,
     "metadata": {},
     "output_type": "execute_result"
    }
   ],
   "source": [
    "horizon = int(24*7) # predicting 7 days ahead\n",
    "horizon"
   ]
  },
  {
   "cell_type": "code",
   "execution_count": 24,
   "metadata": {},
   "outputs": [],
   "source": [
    "Y_train_df = df[df.ds<df['ds'].values[-horizon]]\n",
    "Y_test_df = df[df.ds>=df['ds'].values[-horizon]].reset_index(drop=True)"
   ]
  },
  {
   "cell_type": "code",
   "execution_count": 25,
   "metadata": {},
   "outputs": [
    {
     "data": {
      "text/html": [
       "<div>\n",
       "<style scoped>\n",
       "    .dataframe tbody tr th:only-of-type {\n",
       "        vertical-align: middle;\n",
       "    }\n",
       "\n",
       "    .dataframe tbody tr th {\n",
       "        vertical-align: top;\n",
       "    }\n",
       "\n",
       "    .dataframe thead th {\n",
       "        text-align: right;\n",
       "    }\n",
       "</style>\n",
       "<table border=\"1\" class=\"dataframe\">\n",
       "  <thead>\n",
       "    <tr style=\"text-align: right;\">\n",
       "      <th></th>\n",
       "      <th>unique_id</th>\n",
       "      <th>ds</th>\n",
       "      <th>dayhour</th>\n",
       "      <th>OT</th>\n",
       "    </tr>\n",
       "  </thead>\n",
       "  <tbody>\n",
       "    <tr>\n",
       "      <th>14593</th>\n",
       "      <td>OT</td>\n",
       "      <td>2018-03-01 01:00:00</td>\n",
       "      <td>-0.456522</td>\n",
       "      <td>0.346294</td>\n",
       "    </tr>\n",
       "    <tr>\n",
       "      <th>14594</th>\n",
       "      <td>OT</td>\n",
       "      <td>2018-03-01 02:00:00</td>\n",
       "      <td>-0.413043</td>\n",
       "      <td>0.361892</td>\n",
       "    </tr>\n",
       "    <tr>\n",
       "      <th>14595</th>\n",
       "      <td>OT</td>\n",
       "      <td>2018-03-01 03:00:00</td>\n",
       "      <td>-0.369565</td>\n",
       "      <td>0.369635</td>\n",
       "    </tr>\n",
       "    <tr>\n",
       "      <th>14596</th>\n",
       "      <td>OT</td>\n",
       "      <td>2018-03-01 04:00:00</td>\n",
       "      <td>-0.326087</td>\n",
       "      <td>0.322954</td>\n",
       "    </tr>\n",
       "    <tr>\n",
       "      <th>14597</th>\n",
       "      <td>OT</td>\n",
       "      <td>2018-03-01 05:00:00</td>\n",
       "      <td>-0.282609</td>\n",
       "      <td>0.365763</td>\n",
       "    </tr>\n",
       "    <tr>\n",
       "      <th>...</th>\n",
       "      <td>...</td>\n",
       "      <td>...</td>\n",
       "      <td>...</td>\n",
       "      <td>...</td>\n",
       "    </tr>\n",
       "    <tr>\n",
       "      <th>17247</th>\n",
       "      <td>OT</td>\n",
       "      <td>2018-06-19 15:00:00</td>\n",
       "      <td>0.152174</td>\n",
       "      <td>0.361892</td>\n",
       "    </tr>\n",
       "    <tr>\n",
       "      <th>17248</th>\n",
       "      <td>OT</td>\n",
       "      <td>2018-06-19 16:00:00</td>\n",
       "      <td>0.195652</td>\n",
       "      <td>0.307411</td>\n",
       "    </tr>\n",
       "    <tr>\n",
       "      <th>17249</th>\n",
       "      <td>OT</td>\n",
       "      <td>2018-06-19 17:00:00</td>\n",
       "      <td>0.239130</td>\n",
       "      <td>0.342423</td>\n",
       "    </tr>\n",
       "    <tr>\n",
       "      <th>17250</th>\n",
       "      <td>OT</td>\n",
       "      <td>2018-06-19 18:00:00</td>\n",
       "      <td>0.282609</td>\n",
       "      <td>0.420243</td>\n",
       "    </tr>\n",
       "    <tr>\n",
       "      <th>17251</th>\n",
       "      <td>OT</td>\n",
       "      <td>2018-06-19 19:00:00</td>\n",
       "      <td>0.326087</td>\n",
       "      <td>0.424115</td>\n",
       "    </tr>\n",
       "  </tbody>\n",
       "</table>\n",
       "<p>2659 rows × 4 columns</p>\n",
       "</div>"
      ],
      "text/plain": [
       "      unique_id                  ds   dayhour        OT\n",
       "14593        OT 2018-03-01 01:00:00 -0.456522  0.346294\n",
       "14594        OT 2018-03-01 02:00:00 -0.413043  0.361892\n",
       "14595        OT 2018-03-01 03:00:00 -0.369565  0.369635\n",
       "14596        OT 2018-03-01 04:00:00 -0.326087  0.322954\n",
       "14597        OT 2018-03-01 05:00:00 -0.282609  0.365763\n",
       "...         ...                 ...       ...       ...\n",
       "17247        OT 2018-06-19 15:00:00  0.152174  0.361892\n",
       "17248        OT 2018-06-19 16:00:00  0.195652  0.307411\n",
       "17249        OT 2018-06-19 17:00:00  0.239130  0.342423\n",
       "17250        OT 2018-06-19 18:00:00  0.282609  0.420243\n",
       "17251        OT 2018-06-19 19:00:00  0.326087  0.424115\n",
       "\n",
       "[2659 rows x 4 columns]"
      ]
     },
     "execution_count": 25,
     "metadata": {},
     "output_type": "execute_result"
    }
   ],
   "source": [
    "Y_train_df"
   ]
  },
  {
   "cell_type": "code",
   "execution_count": 13,
   "metadata": {},
   "outputs": [
    {
     "data": {
      "text/html": [
       "<div>\n",
       "<style scoped>\n",
       "    .dataframe tbody tr th:only-of-type {\n",
       "        vertical-align: middle;\n",
       "    }\n",
       "\n",
       "    .dataframe tbody tr th {\n",
       "        vertical-align: top;\n",
       "    }\n",
       "\n",
       "    .dataframe thead th {\n",
       "        text-align: right;\n",
       "    }\n",
       "</style>\n",
       "<table border=\"1\" class=\"dataframe\">\n",
       "  <thead>\n",
       "    <tr style=\"text-align: right;\">\n",
       "      <th></th>\n",
       "      <th>ds</th>\n",
       "      <th>dayhour</th>\n",
       "      <th>OT</th>\n",
       "    </tr>\n",
       "  </thead>\n",
       "  <tbody>\n",
       "    <tr>\n",
       "      <th>0</th>\n",
       "      <td>2018-06-19 20:00:00</td>\n",
       "      <td>0.369565</td>\n",
       "      <td>0.443584</td>\n",
       "    </tr>\n",
       "    <tr>\n",
       "      <th>1</th>\n",
       "      <td>2018-06-19 21:00:00</td>\n",
       "      <td>0.413043</td>\n",
       "      <td>0.303540</td>\n",
       "    </tr>\n",
       "    <tr>\n",
       "      <th>2</th>\n",
       "      <td>2018-06-19 22:00:00</td>\n",
       "      <td>0.456522</td>\n",
       "      <td>0.334624</td>\n",
       "    </tr>\n",
       "    <tr>\n",
       "      <th>3</th>\n",
       "      <td>2018-06-19 23:00:00</td>\n",
       "      <td>0.500000</td>\n",
       "      <td>0.377434</td>\n",
       "    </tr>\n",
       "    <tr>\n",
       "      <th>4</th>\n",
       "      <td>2018-06-20 00:00:00</td>\n",
       "      <td>-0.500000</td>\n",
       "      <td>0.412445</td>\n",
       "    </tr>\n",
       "    <tr>\n",
       "      <th>...</th>\n",
       "      <td>...</td>\n",
       "      <td>...</td>\n",
       "      <td>...</td>\n",
       "    </tr>\n",
       "    <tr>\n",
       "      <th>163</th>\n",
       "      <td>2018-06-26 15:00:00</td>\n",
       "      <td>0.152174</td>\n",
       "      <td>0.653706</td>\n",
       "    </tr>\n",
       "    <tr>\n",
       "      <th>164</th>\n",
       "      <td>2018-06-26 16:00:00</td>\n",
       "      <td>0.195652</td>\n",
       "      <td>0.661449</td>\n",
       "    </tr>\n",
       "    <tr>\n",
       "      <th>165</th>\n",
       "      <td>2018-06-26 17:00:00</td>\n",
       "      <td>0.239130</td>\n",
       "      <td>0.618695</td>\n",
       "    </tr>\n",
       "    <tr>\n",
       "      <th>166</th>\n",
       "      <td>2018-06-26 18:00:00</td>\n",
       "      <td>0.282609</td>\n",
       "      <td>0.591427</td>\n",
       "    </tr>\n",
       "    <tr>\n",
       "      <th>167</th>\n",
       "      <td>2018-06-26 19:00:00</td>\n",
       "      <td>0.326087</td>\n",
       "      <td>0.579757</td>\n",
       "    </tr>\n",
       "  </tbody>\n",
       "</table>\n",
       "<p>168 rows × 3 columns</p>\n",
       "</div>"
      ],
      "text/plain": [
       "                     ds   dayhour        OT\n",
       "0   2018-06-19 20:00:00  0.369565  0.443584\n",
       "1   2018-06-19 21:00:00  0.413043  0.303540\n",
       "2   2018-06-19 22:00:00  0.456522  0.334624\n",
       "3   2018-06-19 23:00:00  0.500000  0.377434\n",
       "4   2018-06-20 00:00:00 -0.500000  0.412445\n",
       "..                  ...       ...       ...\n",
       "163 2018-06-26 15:00:00  0.152174  0.653706\n",
       "164 2018-06-26 16:00:00  0.195652  0.661449\n",
       "165 2018-06-26 17:00:00  0.239130  0.618695\n",
       "166 2018-06-26 18:00:00  0.282609  0.591427\n",
       "167 2018-06-26 19:00:00  0.326087  0.579757\n",
       "\n",
       "[168 rows x 3 columns]"
      ]
     },
     "execution_count": 13,
     "metadata": {},
     "output_type": "execute_result"
    }
   ],
   "source": [
    "Y_test_df"
   ]
  },
  {
   "cell_type": "code",
   "execution_count": 26,
   "metadata": {},
   "outputs": [],
   "source": [
    "gpt2_config = GPT2Config.from_pretrained('openai-community/gpt2')\n",
    "gpt2 = GPT2Model.from_pretrained('openai-community/gpt2',config=gpt2_config)\n",
    "gpt2_tokenizer = GPT2Tokenizer.from_pretrained('openai-community/gpt2')"
   ]
  },
  {
   "cell_type": "code",
   "execution_count": 13,
   "metadata": {},
   "outputs": [],
   "source": [
    "bert_config = BertConfig.from_pretrained('google-bert/bert-base-uncased')\n",
    "bert = BertModel.from_pretrained('google-bert/bert-base-uncased', config=bert_config)\n",
    "bert_tokenizer = BertTokenizer.from_pretrained('google-bert/bert-base-uncased')"
   ]
  },
  {
   "cell_type": "code",
   "execution_count": 16,
   "metadata": {},
   "outputs": [],
   "source": [
    "prompt_prefix = \"The Electricity Transformer Temperature (ETT) is a crucial indicator in the electric power long-term deployment. This dataset consists of 2 years data from two separated counties in China. To explore the granularity on the Long sequence time-series forecasting (LSTF) problem, different subsets are created, for 1-hour-level. Each data point consists of the target value ”oil temperature” (OT) and 6 power load features. The train/val/test is 3 months/7 days/7 days.\""
   ]
  },
  {
   "cell_type": "code",
   "execution_count": 15,
   "metadata": {},
   "outputs": [],
   "source": [
    "# timellm = TimeLLM(h=12,\n",
    "#                  input_size=36,\n",
    "#                  llm=gpt2,\n",
    "#                  llm_config=gpt2_config,\n",
    "#                  llm_tokenizer=gpt2_tokenizer,\n",
    "#                  prompt_prefix=prompt_prefix,\n",
    "#                  max_steps=1,\n",
    "#                  batch_size=80,                 \n",
    "#                  windows_batch_size=1)"
   ]
  },
  {
   "cell_type": "code",
   "execution_count": 16,
   "metadata": {},
   "outputs": [
    {
     "name": "stderr",
     "output_type": "stream",
     "text": [
      "/home/bruno/mestrado/Time-LLM/.venv/lib/python3.11/site-packages/pytorch_lightning/utilities/parsing.py:199: Attribute 'loss' is an instance of `nn.Module` and is already saved during checkpointing. It is recommended to ignore them using `self.save_hyperparameters(ignore=['loss'])`.\n",
      "/home/bruno/mestrado/Time-LLM/.venv/lib/python3.11/site-packages/pytorch_lightning/utilities/parsing.py:199: Attribute 'llm' is an instance of `nn.Module` and is already saved during checkpointing. It is recommended to ignore them using `self.save_hyperparameters(ignore=['llm'])`.\n",
      "Seed set to 1\n",
      "Using eos_token, but it is not set yet.\n"
     ]
    }
   ],
   "source": [
    "# timellm_bert = TimeLLM(h=horizon,\n",
    "#                  input_size=36,\n",
    "#                  llm=bert,\n",
    "#                  llm_config=bert_config,\n",
    "#                  llm_tokenizer=bert_tokenizer,\n",
    "#                  prompt_prefix=prompt_prefix,\n",
    "#                  max_steps=200,\n",
    "#                  batch_size=8,                 \n",
    "#                  windows_batch_size=2,\n",
    "#                  loss=RMSE(),\n",
    "#                  num_workers_loader=15                \n",
    "#                  )"
   ]
  },
  {
   "cell_type": "code",
   "execution_count": 27,
   "metadata": {},
   "outputs": [
    {
     "name": "stderr",
     "output_type": "stream",
     "text": [
      "/home/bruno/mestrado/Time-LLM/.venv/lib/python3.11/site-packages/pytorch_lightning/utilities/parsing.py:199: Attribute 'loss' is an instance of `nn.Module` and is already saved during checkpointing. It is recommended to ignore them using `self.save_hyperparameters(ignore=['loss'])`.\n",
      "/home/bruno/mestrado/Time-LLM/.venv/lib/python3.11/site-packages/pytorch_lightning/utilities/parsing.py:199: Attribute 'llm' is an instance of `nn.Module` and is already saved during checkpointing. It is recommended to ignore them using `self.save_hyperparameters(ignore=['llm'])`.\n",
      "Seed set to 1\n"
     ]
    }
   ],
   "source": [
    "timellm_gpt2 = TimeLLM(h=horizon,\n",
    "                 input_size=36, # AQUI PRECISA SER MUITO MAIOR (POIS É O número de passos de tempo anteriores que o modelo deve considerar para fazer uma previsão futura )\n",
    "                 llm=gpt2,\n",
    "                 llm_config=gpt2_config,\n",
    "                 llm_tokenizer=gpt2_tokenizer,\n",
    "                 prompt_prefix=prompt_prefix,\n",
    "                 llm_num_hidden_layers=32,\n",
    "                 max_steps=200,\n",
    "                 batch_size=8,                 \n",
    "                 windows_batch_size=2,\n",
    "                 loss=RMSE(),\n",
    "                 num_workers_loader=15                \n",
    "                 )"
   ]
  },
  {
   "cell_type": "code",
   "execution_count": 28,
   "metadata": {},
   "outputs": [],
   "source": [
    "nf = NeuralForecast(\n",
    "    models=[timellm_gpt2],\n",
    "    freq='H',\n",
    ")"
   ]
  },
  {
   "cell_type": "code",
   "execution_count": 29,
   "metadata": {},
   "outputs": [
    {
     "name": "stderr",
     "output_type": "stream",
     "text": [
      "GPU available: True (cuda), used: True\n",
      "TPU available: False, using: 0 TPU cores\n",
      "IPU available: False, using: 0 IPUs\n",
      "HPU available: False, using: 0 HPUs\n",
      "LOCAL_RANK: 0 - CUDA_VISIBLE_DEVICES: [0]\n",
      "\n",
      "  | Name                | Type               | Params\n",
      "-----------------------------------------------------------\n",
      "0 | loss                | RMSE               | 0     \n",
      "1 | padder_train        | ConstantPad1d      | 0     \n",
      "2 | scaler              | TemporalNorm       | 0     \n",
      "3 | llm                 | GPT2Model          | 124 M \n",
      "4 | patch_embedding     | PatchEmbedding     | 1.5 K \n",
      "5 | mapping_layer       | Linear             | 51.5 M\n",
      "6 | reprogramming_layer | ReprogrammingLayer | 2.4 M \n",
      "7 | output_projection   | FlattenHead        | 86.2 K\n",
      "8 | normalize_layers    | Normalize          | 0     \n",
      "-----------------------------------------------------------\n",
      "53.9 M    Trainable params\n",
      "124 M     Non-trainable params\n",
      "178 M     Total params\n",
      "713.550   Total estimated model params size (MB)\n"
     ]
    },
    {
     "name": "stdout",
     "output_type": "stream",
     "text": [
      "Sanity Checking: |          | 0/? [00:00<?, ?it/s]"
     ]
    },
    {
     "name": "stderr",
     "output_type": "stream",
     "text": [
      "/home/bruno/mestrado/Time-LLM/.venv/lib/python3.11/site-packages/neuralforecast/tsdataset.py:54: UserWarning: TypedStorage is deprecated. It will be removed in the future and UntypedStorage will be the only storage class. This should only matter to you if you are using storages directly.  To access UntypedStorage directly, use tensor.untyped_storage() instead of tensor.storage()\n",
      "  storage = elem.storage()._new_shared(numel, device=elem.device)\n"
     ]
    },
    {
     "name": "stdout",
     "output_type": "stream",
     "text": [
      "                                                                           \r"
     ]
    },
    {
     "name": "stderr",
     "output_type": "stream",
     "text": [
      "/home/bruno/mestrado/Time-LLM/.venv/lib/python3.11/site-packages/pytorch_lightning/utilities/data.py:77: Trying to infer the `batch_size` from an ambiguous collection. The batch size we found is 1. To avoid any miscalculations, use `self.log(..., batch_size=batch_size)`.\n",
      "/home/bruno/mestrado/Time-LLM/.venv/lib/python3.11/site-packages/pytorch_lightning/loops/fit_loop.py:298: The number of training batches (1) is smaller than the logging interval Trainer(log_every_n_steps=50). Set a lower value for log_every_n_steps if you want to see logs for the training epoch.\n"
     ]
    },
    {
     "name": "stdout",
     "output_type": "stream",
     "text": [
      "Epoch 0:   0%|          | 0/1 [00:00<?, ?it/s] "
     ]
    },
    {
     "name": "stderr",
     "output_type": "stream",
     "text": [
      "/home/bruno/mestrado/Time-LLM/.venv/lib/python3.11/site-packages/neuralforecast/tsdataset.py:54: UserWarning: TypedStorage is deprecated. It will be removed in the future and UntypedStorage will be the only storage class. This should only matter to you if you are using storages directly.  To access UntypedStorage directly, use tensor.untyped_storage() instead of tensor.storage()\n",
      "  storage = elem.storage()._new_shared(numel, device=elem.device)\n"
     ]
    },
    {
     "name": "stdout",
     "output_type": "stream",
     "text": [
      "Epoch 1:   0%|          | 0/1 [00:00<?, ?it/s, v_num=9, train_loss_step=0.244, train_loss_epoch=0.244]        "
     ]
    },
    {
     "name": "stderr",
     "output_type": "stream",
     "text": [
      "/home/bruno/mestrado/Time-LLM/.venv/lib/python3.11/site-packages/neuralforecast/tsdataset.py:54: UserWarning: TypedStorage is deprecated. It will be removed in the future and UntypedStorage will be the only storage class. This should only matter to you if you are using storages directly.  To access UntypedStorage directly, use tensor.untyped_storage() instead of tensor.storage()\n",
      "  storage = elem.storage()._new_shared(numel, device=elem.device)\n"
     ]
    },
    {
     "name": "stdout",
     "output_type": "stream",
     "text": [
      "Epoch 2:   0%|          | 0/1 [00:00<?, ?it/s, v_num=9, train_loss_step=0.519, train_loss_epoch=0.519]        "
     ]
    },
    {
     "name": "stderr",
     "output_type": "stream",
     "text": [
      "/home/bruno/mestrado/Time-LLM/.venv/lib/python3.11/site-packages/neuralforecast/tsdataset.py:54: UserWarning: TypedStorage is deprecated. It will be removed in the future and UntypedStorage will be the only storage class. This should only matter to you if you are using storages directly.  To access UntypedStorage directly, use tensor.untyped_storage() instead of tensor.storage()\n",
      "  storage = elem.storage()._new_shared(numel, device=elem.device)\n"
     ]
    },
    {
     "name": "stdout",
     "output_type": "stream",
     "text": [
      "Epoch 3:   0%|          | 0/1 [00:00<?, ?it/s, v_num=9, train_loss_step=0.213, train_loss_epoch=0.213]        "
     ]
    },
    {
     "name": "stderr",
     "output_type": "stream",
     "text": [
      "/home/bruno/mestrado/Time-LLM/.venv/lib/python3.11/site-packages/neuralforecast/tsdataset.py:54: UserWarning: TypedStorage is deprecated. It will be removed in the future and UntypedStorage will be the only storage class. This should only matter to you if you are using storages directly.  To access UntypedStorage directly, use tensor.untyped_storage() instead of tensor.storage()\n",
      "  storage = elem.storage()._new_shared(numel, device=elem.device)\n"
     ]
    },
    {
     "name": "stdout",
     "output_type": "stream",
     "text": [
      "Epoch 4:   0%|          | 0/1 [00:00<?, ?it/s, v_num=9, train_loss_step=0.205, train_loss_epoch=0.205]        "
     ]
    },
    {
     "name": "stderr",
     "output_type": "stream",
     "text": [
      "/home/bruno/mestrado/Time-LLM/.venv/lib/python3.11/site-packages/neuralforecast/tsdataset.py:54: UserWarning: TypedStorage is deprecated. It will be removed in the future and UntypedStorage will be the only storage class. This should only matter to you if you are using storages directly.  To access UntypedStorage directly, use tensor.untyped_storage() instead of tensor.storage()\n",
      "  storage = elem.storage()._new_shared(numel, device=elem.device)\n"
     ]
    },
    {
     "name": "stdout",
     "output_type": "stream",
     "text": [
      "Epoch 5:   0%|          | 0/1 [00:00<?, ?it/s, v_num=9, train_loss_step=0.186, train_loss_epoch=0.186]        "
     ]
    },
    {
     "name": "stderr",
     "output_type": "stream",
     "text": [
      "/home/bruno/mestrado/Time-LLM/.venv/lib/python3.11/site-packages/neuralforecast/tsdataset.py:54: UserWarning: TypedStorage is deprecated. It will be removed in the future and UntypedStorage will be the only storage class. This should only matter to you if you are using storages directly.  To access UntypedStorage directly, use tensor.untyped_storage() instead of tensor.storage()\n",
      "  storage = elem.storage()._new_shared(numel, device=elem.device)\n"
     ]
    },
    {
     "name": "stdout",
     "output_type": "stream",
     "text": [
      "Epoch 6:   0%|          | 0/1 [00:00<?, ?it/s, v_num=9, train_loss_step=0.291, train_loss_epoch=0.291]        "
     ]
    },
    {
     "name": "stderr",
     "output_type": "stream",
     "text": [
      "/home/bruno/mestrado/Time-LLM/.venv/lib/python3.11/site-packages/neuralforecast/tsdataset.py:54: UserWarning: TypedStorage is deprecated. It will be removed in the future and UntypedStorage will be the only storage class. This should only matter to you if you are using storages directly.  To access UntypedStorage directly, use tensor.untyped_storage() instead of tensor.storage()\n",
      "  storage = elem.storage()._new_shared(numel, device=elem.device)\n"
     ]
    },
    {
     "name": "stdout",
     "output_type": "stream",
     "text": [
      "Epoch 7:   0%|          | 0/1 [00:00<?, ?it/s, v_num=9, train_loss_step=0.151, train_loss_epoch=0.151]        "
     ]
    },
    {
     "name": "stderr",
     "output_type": "stream",
     "text": [
      "/home/bruno/mestrado/Time-LLM/.venv/lib/python3.11/site-packages/neuralforecast/tsdataset.py:54: UserWarning: TypedStorage is deprecated. It will be removed in the future and UntypedStorage will be the only storage class. This should only matter to you if you are using storages directly.  To access UntypedStorage directly, use tensor.untyped_storage() instead of tensor.storage()\n",
      "  storage = elem.storage()._new_shared(numel, device=elem.device)\n"
     ]
    },
    {
     "name": "stdout",
     "output_type": "stream",
     "text": [
      "Epoch 8:   0%|          | 0/1 [00:00<?, ?it/s, v_num=9, train_loss_step=0.389, train_loss_epoch=0.389]        "
     ]
    },
    {
     "name": "stderr",
     "output_type": "stream",
     "text": [
      "/home/bruno/mestrado/Time-LLM/.venv/lib/python3.11/site-packages/neuralforecast/tsdataset.py:54: UserWarning: TypedStorage is deprecated. It will be removed in the future and UntypedStorage will be the only storage class. This should only matter to you if you are using storages directly.  To access UntypedStorage directly, use tensor.untyped_storage() instead of tensor.storage()\n",
      "  storage = elem.storage()._new_shared(numel, device=elem.device)\n"
     ]
    },
    {
     "name": "stdout",
     "output_type": "stream",
     "text": [
      "Epoch 9:   0%|          | 0/1 [00:00<?, ?it/s, v_num=9, train_loss_step=0.348, train_loss_epoch=0.348]        "
     ]
    },
    {
     "name": "stderr",
     "output_type": "stream",
     "text": [
      "/home/bruno/mestrado/Time-LLM/.venv/lib/python3.11/site-packages/neuralforecast/tsdataset.py:54: UserWarning: TypedStorage is deprecated. It will be removed in the future and UntypedStorage will be the only storage class. This should only matter to you if you are using storages directly.  To access UntypedStorage directly, use tensor.untyped_storage() instead of tensor.storage()\n",
      "  storage = elem.storage()._new_shared(numel, device=elem.device)\n"
     ]
    },
    {
     "name": "stdout",
     "output_type": "stream",
     "text": [
      "Epoch 10:   0%|          | 0/1 [00:00<?, ?it/s, v_num=9, train_loss_step=0.228, train_loss_epoch=0.228]       "
     ]
    },
    {
     "name": "stderr",
     "output_type": "stream",
     "text": [
      "/home/bruno/mestrado/Time-LLM/.venv/lib/python3.11/site-packages/neuralforecast/tsdataset.py:54: UserWarning: TypedStorage is deprecated. It will be removed in the future and UntypedStorage will be the only storage class. This should only matter to you if you are using storages directly.  To access UntypedStorage directly, use tensor.untyped_storage() instead of tensor.storage()\n",
      "  storage = elem.storage()._new_shared(numel, device=elem.device)\n"
     ]
    },
    {
     "name": "stdout",
     "output_type": "stream",
     "text": [
      "Epoch 11:   0%|          | 0/1 [00:00<?, ?it/s, v_num=9, train_loss_step=0.181, train_loss_epoch=0.181]        "
     ]
    },
    {
     "name": "stderr",
     "output_type": "stream",
     "text": [
      "/home/bruno/mestrado/Time-LLM/.venv/lib/python3.11/site-packages/neuralforecast/tsdataset.py:54: UserWarning: TypedStorage is deprecated. It will be removed in the future and UntypedStorage will be the only storage class. This should only matter to you if you are using storages directly.  To access UntypedStorage directly, use tensor.untyped_storage() instead of tensor.storage()\n",
      "  storage = elem.storage()._new_shared(numel, device=elem.device)\n"
     ]
    },
    {
     "name": "stdout",
     "output_type": "stream",
     "text": [
      "Epoch 12:   0%|          | 0/1 [00:00<?, ?it/s, v_num=9, train_loss_step=0.273, train_loss_epoch=0.273]        "
     ]
    },
    {
     "name": "stderr",
     "output_type": "stream",
     "text": [
      "/home/bruno/mestrado/Time-LLM/.venv/lib/python3.11/site-packages/neuralforecast/tsdataset.py:54: UserWarning: TypedStorage is deprecated. It will be removed in the future and UntypedStorage will be the only storage class. This should only matter to you if you are using storages directly.  To access UntypedStorage directly, use tensor.untyped_storage() instead of tensor.storage()\n",
      "  storage = elem.storage()._new_shared(numel, device=elem.device)\n"
     ]
    },
    {
     "name": "stdout",
     "output_type": "stream",
     "text": [
      "Epoch 13:   0%|          | 0/1 [00:00<?, ?it/s, v_num=9, train_loss_step=0.169, train_loss_epoch=0.169]        "
     ]
    },
    {
     "name": "stderr",
     "output_type": "stream",
     "text": [
      "/home/bruno/mestrado/Time-LLM/.venv/lib/python3.11/site-packages/neuralforecast/tsdataset.py:54: UserWarning: TypedStorage is deprecated. It will be removed in the future and UntypedStorage will be the only storage class. This should only matter to you if you are using storages directly.  To access UntypedStorage directly, use tensor.untyped_storage() instead of tensor.storage()\n",
      "  storage = elem.storage()._new_shared(numel, device=elem.device)\n"
     ]
    },
    {
     "name": "stdout",
     "output_type": "stream",
     "text": [
      "Epoch 14:   0%|          | 0/1 [00:00<?, ?it/s, v_num=9, train_loss_step=0.185, train_loss_epoch=0.185]        "
     ]
    },
    {
     "name": "stderr",
     "output_type": "stream",
     "text": [
      "/home/bruno/mestrado/Time-LLM/.venv/lib/python3.11/site-packages/neuralforecast/tsdataset.py:54: UserWarning: TypedStorage is deprecated. It will be removed in the future and UntypedStorage will be the only storage class. This should only matter to you if you are using storages directly.  To access UntypedStorage directly, use tensor.untyped_storage() instead of tensor.storage()\n",
      "  storage = elem.storage()._new_shared(numel, device=elem.device)\n"
     ]
    },
    {
     "name": "stdout",
     "output_type": "stream",
     "text": [
      "Epoch 15:   0%|          | 0/1 [00:00<?, ?it/s, v_num=9, train_loss_step=0.117, train_loss_epoch=0.117]        "
     ]
    },
    {
     "name": "stderr",
     "output_type": "stream",
     "text": [
      "/home/bruno/mestrado/Time-LLM/.venv/lib/python3.11/site-packages/neuralforecast/tsdataset.py:54: UserWarning: TypedStorage is deprecated. It will be removed in the future and UntypedStorage will be the only storage class. This should only matter to you if you are using storages directly.  To access UntypedStorage directly, use tensor.untyped_storage() instead of tensor.storage()\n",
      "  storage = elem.storage()._new_shared(numel, device=elem.device)\n"
     ]
    },
    {
     "name": "stdout",
     "output_type": "stream",
     "text": [
      "Epoch 16:   0%|          | 0/1 [00:00<?, ?it/s, v_num=9, train_loss_step=0.219, train_loss_epoch=0.219]        "
     ]
    },
    {
     "name": "stderr",
     "output_type": "stream",
     "text": [
      "/home/bruno/mestrado/Time-LLM/.venv/lib/python3.11/site-packages/neuralforecast/tsdataset.py:54: UserWarning: TypedStorage is deprecated. It will be removed in the future and UntypedStorage will be the only storage class. This should only matter to you if you are using storages directly.  To access UntypedStorage directly, use tensor.untyped_storage() instead of tensor.storage()\n",
      "  storage = elem.storage()._new_shared(numel, device=elem.device)\n"
     ]
    },
    {
     "name": "stdout",
     "output_type": "stream",
     "text": [
      "Epoch 17:   0%|          | 0/1 [00:00<?, ?it/s, v_num=9, train_loss_step=0.186, train_loss_epoch=0.186]        "
     ]
    },
    {
     "name": "stderr",
     "output_type": "stream",
     "text": [
      "/home/bruno/mestrado/Time-LLM/.venv/lib/python3.11/site-packages/neuralforecast/tsdataset.py:54: UserWarning: TypedStorage is deprecated. It will be removed in the future and UntypedStorage will be the only storage class. This should only matter to you if you are using storages directly.  To access UntypedStorage directly, use tensor.untyped_storage() instead of tensor.storage()\n",
      "  storage = elem.storage()._new_shared(numel, device=elem.device)\n"
     ]
    },
    {
     "name": "stdout",
     "output_type": "stream",
     "text": [
      "Epoch 18:   0%|          | 0/1 [00:00<?, ?it/s, v_num=9, train_loss_step=0.160, train_loss_epoch=0.160]        "
     ]
    },
    {
     "name": "stderr",
     "output_type": "stream",
     "text": [
      "/home/bruno/mestrado/Time-LLM/.venv/lib/python3.11/site-packages/neuralforecast/tsdataset.py:54: UserWarning: TypedStorage is deprecated. It will be removed in the future and UntypedStorage will be the only storage class. This should only matter to you if you are using storages directly.  To access UntypedStorage directly, use tensor.untyped_storage() instead of tensor.storage()\n",
      "  storage = elem.storage()._new_shared(numel, device=elem.device)\n"
     ]
    },
    {
     "name": "stdout",
     "output_type": "stream",
     "text": [
      "Epoch 19:   0%|          | 0/1 [00:00<?, ?it/s, v_num=9, train_loss_step=0.360, train_loss_epoch=0.360]        "
     ]
    },
    {
     "name": "stderr",
     "output_type": "stream",
     "text": [
      "/home/bruno/mestrado/Time-LLM/.venv/lib/python3.11/site-packages/neuralforecast/tsdataset.py:54: UserWarning: TypedStorage is deprecated. It will be removed in the future and UntypedStorage will be the only storage class. This should only matter to you if you are using storages directly.  To access UntypedStorage directly, use tensor.untyped_storage() instead of tensor.storage()\n",
      "  storage = elem.storage()._new_shared(numel, device=elem.device)\n"
     ]
    },
    {
     "name": "stdout",
     "output_type": "stream",
     "text": [
      "Epoch 20:   0%|          | 0/1 [00:00<?, ?it/s, v_num=9, train_loss_step=0.190, train_loss_epoch=0.190]        "
     ]
    },
    {
     "name": "stderr",
     "output_type": "stream",
     "text": [
      "/home/bruno/mestrado/Time-LLM/.venv/lib/python3.11/site-packages/neuralforecast/tsdataset.py:54: UserWarning: TypedStorage is deprecated. It will be removed in the future and UntypedStorage will be the only storage class. This should only matter to you if you are using storages directly.  To access UntypedStorage directly, use tensor.untyped_storage() instead of tensor.storage()\n",
      "  storage = elem.storage()._new_shared(numel, device=elem.device)\n"
     ]
    },
    {
     "name": "stdout",
     "output_type": "stream",
     "text": [
      "Epoch 21:   0%|          | 0/1 [00:00<?, ?it/s, v_num=9, train_loss_step=0.229, train_loss_epoch=0.229]        "
     ]
    },
    {
     "name": "stderr",
     "output_type": "stream",
     "text": [
      "/home/bruno/mestrado/Time-LLM/.venv/lib/python3.11/site-packages/neuralforecast/tsdataset.py:54: UserWarning: TypedStorage is deprecated. It will be removed in the future and UntypedStorage will be the only storage class. This should only matter to you if you are using storages directly.  To access UntypedStorage directly, use tensor.untyped_storage() instead of tensor.storage()\n",
      "  storage = elem.storage()._new_shared(numel, device=elem.device)\n"
     ]
    },
    {
     "name": "stdout",
     "output_type": "stream",
     "text": [
      "Epoch 22:   0%|          | 0/1 [00:00<?, ?it/s, v_num=9, train_loss_step=0.183, train_loss_epoch=0.183]        "
     ]
    },
    {
     "name": "stderr",
     "output_type": "stream",
     "text": [
      "/home/bruno/mestrado/Time-LLM/.venv/lib/python3.11/site-packages/neuralforecast/tsdataset.py:54: UserWarning: TypedStorage is deprecated. It will be removed in the future and UntypedStorage will be the only storage class. This should only matter to you if you are using storages directly.  To access UntypedStorage directly, use tensor.untyped_storage() instead of tensor.storage()\n",
      "  storage = elem.storage()._new_shared(numel, device=elem.device)\n"
     ]
    },
    {
     "name": "stdout",
     "output_type": "stream",
     "text": [
      "Epoch 23:   0%|          | 0/1 [00:00<?, ?it/s, v_num=9, train_loss_step=0.182, train_loss_epoch=0.182]        "
     ]
    },
    {
     "name": "stderr",
     "output_type": "stream",
     "text": [
      "/home/bruno/mestrado/Time-LLM/.venv/lib/python3.11/site-packages/neuralforecast/tsdataset.py:54: UserWarning: TypedStorage is deprecated. It will be removed in the future and UntypedStorage will be the only storage class. This should only matter to you if you are using storages directly.  To access UntypedStorage directly, use tensor.untyped_storage() instead of tensor.storage()\n",
      "  storage = elem.storage()._new_shared(numel, device=elem.device)\n"
     ]
    },
    {
     "name": "stdout",
     "output_type": "stream",
     "text": [
      "Epoch 24:   0%|          | 0/1 [00:00<?, ?it/s, v_num=9, train_loss_step=0.173, train_loss_epoch=0.173]        "
     ]
    },
    {
     "name": "stderr",
     "output_type": "stream",
     "text": [
      "/home/bruno/mestrado/Time-LLM/.venv/lib/python3.11/site-packages/neuralforecast/tsdataset.py:54: UserWarning: TypedStorage is deprecated. It will be removed in the future and UntypedStorage will be the only storage class. This should only matter to you if you are using storages directly.  To access UntypedStorage directly, use tensor.untyped_storage() instead of tensor.storage()\n",
      "  storage = elem.storage()._new_shared(numel, device=elem.device)\n"
     ]
    },
    {
     "name": "stdout",
     "output_type": "stream",
     "text": [
      "Epoch 25:   0%|          | 0/1 [00:00<?, ?it/s, v_num=9, train_loss_step=0.349, train_loss_epoch=0.349]        "
     ]
    },
    {
     "name": "stderr",
     "output_type": "stream",
     "text": [
      "/home/bruno/mestrado/Time-LLM/.venv/lib/python3.11/site-packages/neuralforecast/tsdataset.py:54: UserWarning: TypedStorage is deprecated. It will be removed in the future and UntypedStorage will be the only storage class. This should only matter to you if you are using storages directly.  To access UntypedStorage directly, use tensor.untyped_storage() instead of tensor.storage()\n",
      "  storage = elem.storage()._new_shared(numel, device=elem.device)\n"
     ]
    },
    {
     "name": "stdout",
     "output_type": "stream",
     "text": [
      "Epoch 26:   0%|          | 0/1 [00:00<?, ?it/s, v_num=9, train_loss_step=0.178, train_loss_epoch=0.178]        "
     ]
    },
    {
     "name": "stderr",
     "output_type": "stream",
     "text": [
      "/home/bruno/mestrado/Time-LLM/.venv/lib/python3.11/site-packages/neuralforecast/tsdataset.py:54: UserWarning: TypedStorage is deprecated. It will be removed in the future and UntypedStorage will be the only storage class. This should only matter to you if you are using storages directly.  To access UntypedStorage directly, use tensor.untyped_storage() instead of tensor.storage()\n",
      "  storage = elem.storage()._new_shared(numel, device=elem.device)\n"
     ]
    },
    {
     "name": "stdout",
     "output_type": "stream",
     "text": [
      "Epoch 27:   0%|          | 0/1 [00:00<?, ?it/s, v_num=9, train_loss_step=0.140, train_loss_epoch=0.140]        "
     ]
    },
    {
     "name": "stderr",
     "output_type": "stream",
     "text": [
      "/home/bruno/mestrado/Time-LLM/.venv/lib/python3.11/site-packages/neuralforecast/tsdataset.py:54: UserWarning: TypedStorage is deprecated. It will be removed in the future and UntypedStorage will be the only storage class. This should only matter to you if you are using storages directly.  To access UntypedStorage directly, use tensor.untyped_storage() instead of tensor.storage()\n",
      "  storage = elem.storage()._new_shared(numel, device=elem.device)\n"
     ]
    },
    {
     "name": "stdout",
     "output_type": "stream",
     "text": [
      "Epoch 28:   0%|          | 0/1 [00:00<?, ?it/s, v_num=9, train_loss_step=0.263, train_loss_epoch=0.263]        "
     ]
    },
    {
     "name": "stderr",
     "output_type": "stream",
     "text": [
      "/home/bruno/mestrado/Time-LLM/.venv/lib/python3.11/site-packages/neuralforecast/tsdataset.py:54: UserWarning: TypedStorage is deprecated. It will be removed in the future and UntypedStorage will be the only storage class. This should only matter to you if you are using storages directly.  To access UntypedStorage directly, use tensor.untyped_storage() instead of tensor.storage()\n",
      "  storage = elem.storage()._new_shared(numel, device=elem.device)\n"
     ]
    },
    {
     "name": "stdout",
     "output_type": "stream",
     "text": [
      "Epoch 29:   0%|          | 0/1 [00:00<?, ?it/s, v_num=9, train_loss_step=0.117, train_loss_epoch=0.117]        "
     ]
    },
    {
     "name": "stderr",
     "output_type": "stream",
     "text": [
      "/home/bruno/mestrado/Time-LLM/.venv/lib/python3.11/site-packages/neuralforecast/tsdataset.py:54: UserWarning: TypedStorage is deprecated. It will be removed in the future and UntypedStorage will be the only storage class. This should only matter to you if you are using storages directly.  To access UntypedStorage directly, use tensor.untyped_storage() instead of tensor.storage()\n",
      "  storage = elem.storage()._new_shared(numel, device=elem.device)\n"
     ]
    },
    {
     "name": "stdout",
     "output_type": "stream",
     "text": [
      "Epoch 30:   0%|          | 0/1 [00:00<?, ?it/s, v_num=9, train_loss_step=0.163, train_loss_epoch=0.163]        "
     ]
    },
    {
     "name": "stderr",
     "output_type": "stream",
     "text": [
      "/home/bruno/mestrado/Time-LLM/.venv/lib/python3.11/site-packages/neuralforecast/tsdataset.py:54: UserWarning: TypedStorage is deprecated. It will be removed in the future and UntypedStorage will be the only storage class. This should only matter to you if you are using storages directly.  To access UntypedStorage directly, use tensor.untyped_storage() instead of tensor.storage()\n",
      "  storage = elem.storage()._new_shared(numel, device=elem.device)\n"
     ]
    },
    {
     "name": "stdout",
     "output_type": "stream",
     "text": [
      "Epoch 31:   0%|          | 0/1 [00:00<?, ?it/s, v_num=9, train_loss_step=0.149, train_loss_epoch=0.149]        "
     ]
    },
    {
     "name": "stderr",
     "output_type": "stream",
     "text": [
      "/home/bruno/mestrado/Time-LLM/.venv/lib/python3.11/site-packages/neuralforecast/tsdataset.py:54: UserWarning: TypedStorage is deprecated. It will be removed in the future and UntypedStorage will be the only storage class. This should only matter to you if you are using storages directly.  To access UntypedStorage directly, use tensor.untyped_storage() instead of tensor.storage()\n",
      "  storage = elem.storage()._new_shared(numel, device=elem.device)\n"
     ]
    },
    {
     "name": "stdout",
     "output_type": "stream",
     "text": [
      "Epoch 32:   0%|          | 0/1 [00:00<?, ?it/s, v_num=9, train_loss_step=0.294, train_loss_epoch=0.294]        "
     ]
    },
    {
     "name": "stderr",
     "output_type": "stream",
     "text": [
      "/home/bruno/mestrado/Time-LLM/.venv/lib/python3.11/site-packages/neuralforecast/tsdataset.py:54: UserWarning: TypedStorage is deprecated. It will be removed in the future and UntypedStorage will be the only storage class. This should only matter to you if you are using storages directly.  To access UntypedStorage directly, use tensor.untyped_storage() instead of tensor.storage()\n",
      "  storage = elem.storage()._new_shared(numel, device=elem.device)\n"
     ]
    },
    {
     "name": "stdout",
     "output_type": "stream",
     "text": [
      "Epoch 33:   0%|          | 0/1 [00:00<?, ?it/s, v_num=9, train_loss_step=0.179, train_loss_epoch=0.179]        "
     ]
    },
    {
     "name": "stderr",
     "output_type": "stream",
     "text": [
      "/home/bruno/mestrado/Time-LLM/.venv/lib/python3.11/site-packages/neuralforecast/tsdataset.py:54: UserWarning: TypedStorage is deprecated. It will be removed in the future and UntypedStorage will be the only storage class. This should only matter to you if you are using storages directly.  To access UntypedStorage directly, use tensor.untyped_storage() instead of tensor.storage()\n",
      "  storage = elem.storage()._new_shared(numel, device=elem.device)\n"
     ]
    },
    {
     "name": "stdout",
     "output_type": "stream",
     "text": [
      "Epoch 34:   0%|          | 0/1 [00:00<?, ?it/s, v_num=9, train_loss_step=0.186, train_loss_epoch=0.186]        "
     ]
    },
    {
     "name": "stderr",
     "output_type": "stream",
     "text": [
      "/home/bruno/mestrado/Time-LLM/.venv/lib/python3.11/site-packages/neuralforecast/tsdataset.py:54: UserWarning: TypedStorage is deprecated. It will be removed in the future and UntypedStorage will be the only storage class. This should only matter to you if you are using storages directly.  To access UntypedStorage directly, use tensor.untyped_storage() instead of tensor.storage()\n",
      "  storage = elem.storage()._new_shared(numel, device=elem.device)\n"
     ]
    },
    {
     "name": "stdout",
     "output_type": "stream",
     "text": [
      "Epoch 35:   0%|          | 0/1 [00:00<?, ?it/s, v_num=9, train_loss_step=0.0966, train_loss_epoch=0.0966]        "
     ]
    },
    {
     "name": "stderr",
     "output_type": "stream",
     "text": [
      "/home/bruno/mestrado/Time-LLM/.venv/lib/python3.11/site-packages/neuralforecast/tsdataset.py:54: UserWarning: TypedStorage is deprecated. It will be removed in the future and UntypedStorage will be the only storage class. This should only matter to you if you are using storages directly.  To access UntypedStorage directly, use tensor.untyped_storage() instead of tensor.storage()\n",
      "  storage = elem.storage()._new_shared(numel, device=elem.device)\n"
     ]
    },
    {
     "name": "stdout",
     "output_type": "stream",
     "text": [
      "Epoch 36:   0%|          | 0/1 [00:00<?, ?it/s, v_num=9, train_loss_step=0.145, train_loss_epoch=0.145]          "
     ]
    },
    {
     "name": "stderr",
     "output_type": "stream",
     "text": [
      "/home/bruno/mestrado/Time-LLM/.venv/lib/python3.11/site-packages/neuralforecast/tsdataset.py:54: UserWarning: TypedStorage is deprecated. It will be removed in the future and UntypedStorage will be the only storage class. This should only matter to you if you are using storages directly.  To access UntypedStorage directly, use tensor.untyped_storage() instead of tensor.storage()\n",
      "  storage = elem.storage()._new_shared(numel, device=elem.device)\n"
     ]
    },
    {
     "name": "stdout",
     "output_type": "stream",
     "text": [
      "Epoch 37:   0%|          | 0/1 [00:00<?, ?it/s, v_num=9, train_loss_step=0.234, train_loss_epoch=0.234]        "
     ]
    },
    {
     "name": "stderr",
     "output_type": "stream",
     "text": [
      "/home/bruno/mestrado/Time-LLM/.venv/lib/python3.11/site-packages/neuralforecast/tsdataset.py:54: UserWarning: TypedStorage is deprecated. It will be removed in the future and UntypedStorage will be the only storage class. This should only matter to you if you are using storages directly.  To access UntypedStorage directly, use tensor.untyped_storage() instead of tensor.storage()\n",
      "  storage = elem.storage()._new_shared(numel, device=elem.device)\n"
     ]
    },
    {
     "name": "stdout",
     "output_type": "stream",
     "text": [
      "Epoch 38:   0%|          | 0/1 [00:00<?, ?it/s, v_num=9, train_loss_step=0.278, train_loss_epoch=0.278]        "
     ]
    },
    {
     "name": "stderr",
     "output_type": "stream",
     "text": [
      "/home/bruno/mestrado/Time-LLM/.venv/lib/python3.11/site-packages/neuralforecast/tsdataset.py:54: UserWarning: TypedStorage is deprecated. It will be removed in the future and UntypedStorage will be the only storage class. This should only matter to you if you are using storages directly.  To access UntypedStorage directly, use tensor.untyped_storage() instead of tensor.storage()\n",
      "  storage = elem.storage()._new_shared(numel, device=elem.device)\n"
     ]
    },
    {
     "name": "stdout",
     "output_type": "stream",
     "text": [
      "Epoch 39:   0%|          | 0/1 [00:00<?, ?it/s, v_num=9, train_loss_step=0.276, train_loss_epoch=0.276]        "
     ]
    },
    {
     "name": "stderr",
     "output_type": "stream",
     "text": [
      "/home/bruno/mestrado/Time-LLM/.venv/lib/python3.11/site-packages/neuralforecast/tsdataset.py:54: UserWarning: TypedStorage is deprecated. It will be removed in the future and UntypedStorage will be the only storage class. This should only matter to you if you are using storages directly.  To access UntypedStorage directly, use tensor.untyped_storage() instead of tensor.storage()\n",
      "  storage = elem.storage()._new_shared(numel, device=elem.device)\n"
     ]
    },
    {
     "name": "stdout",
     "output_type": "stream",
     "text": [
      "Epoch 40:   0%|          | 0/1 [00:00<?, ?it/s, v_num=9, train_loss_step=0.265, train_loss_epoch=0.265]        "
     ]
    },
    {
     "name": "stderr",
     "output_type": "stream",
     "text": [
      "/home/bruno/mestrado/Time-LLM/.venv/lib/python3.11/site-packages/neuralforecast/tsdataset.py:54: UserWarning: TypedStorage is deprecated. It will be removed in the future and UntypedStorage will be the only storage class. This should only matter to you if you are using storages directly.  To access UntypedStorage directly, use tensor.untyped_storage() instead of tensor.storage()\n",
      "  storage = elem.storage()._new_shared(numel, device=elem.device)\n"
     ]
    },
    {
     "name": "stdout",
     "output_type": "stream",
     "text": [
      "Epoch 41:   0%|          | 0/1 [00:00<?, ?it/s, v_num=9, train_loss_step=0.182, train_loss_epoch=0.182]        "
     ]
    },
    {
     "name": "stderr",
     "output_type": "stream",
     "text": [
      "/home/bruno/mestrado/Time-LLM/.venv/lib/python3.11/site-packages/neuralforecast/tsdataset.py:54: UserWarning: TypedStorage is deprecated. It will be removed in the future and UntypedStorage will be the only storage class. This should only matter to you if you are using storages directly.  To access UntypedStorage directly, use tensor.untyped_storage() instead of tensor.storage()\n",
      "  storage = elem.storage()._new_shared(numel, device=elem.device)\n"
     ]
    },
    {
     "name": "stdout",
     "output_type": "stream",
     "text": [
      "Epoch 42:   0%|          | 0/1 [00:00<?, ?it/s, v_num=9, train_loss_step=0.161, train_loss_epoch=0.161]        "
     ]
    },
    {
     "name": "stderr",
     "output_type": "stream",
     "text": [
      "/home/bruno/mestrado/Time-LLM/.venv/lib/python3.11/site-packages/neuralforecast/tsdataset.py:54: UserWarning: TypedStorage is deprecated. It will be removed in the future and UntypedStorage will be the only storage class. This should only matter to you if you are using storages directly.  To access UntypedStorage directly, use tensor.untyped_storage() instead of tensor.storage()\n",
      "  storage = elem.storage()._new_shared(numel, device=elem.device)\n"
     ]
    },
    {
     "name": "stdout",
     "output_type": "stream",
     "text": [
      "Epoch 43:   0%|          | 0/1 [00:00<?, ?it/s, v_num=9, train_loss_step=0.147, train_loss_epoch=0.147]        "
     ]
    },
    {
     "name": "stderr",
     "output_type": "stream",
     "text": [
      "/home/bruno/mestrado/Time-LLM/.venv/lib/python3.11/site-packages/neuralforecast/tsdataset.py:54: UserWarning: TypedStorage is deprecated. It will be removed in the future and UntypedStorage will be the only storage class. This should only matter to you if you are using storages directly.  To access UntypedStorage directly, use tensor.untyped_storage() instead of tensor.storage()\n",
      "  storage = elem.storage()._new_shared(numel, device=elem.device)\n"
     ]
    },
    {
     "name": "stdout",
     "output_type": "stream",
     "text": [
      "Epoch 44:   0%|          | 0/1 [00:00<?, ?it/s, v_num=9, train_loss_step=0.124, train_loss_epoch=0.124]        "
     ]
    },
    {
     "name": "stderr",
     "output_type": "stream",
     "text": [
      "/home/bruno/mestrado/Time-LLM/.venv/lib/python3.11/site-packages/neuralforecast/tsdataset.py:54: UserWarning: TypedStorage is deprecated. It will be removed in the future and UntypedStorage will be the only storage class. This should only matter to you if you are using storages directly.  To access UntypedStorage directly, use tensor.untyped_storage() instead of tensor.storage()\n",
      "  storage = elem.storage()._new_shared(numel, device=elem.device)\n"
     ]
    },
    {
     "name": "stdout",
     "output_type": "stream",
     "text": [
      "Epoch 45:   0%|          | 0/1 [00:00<?, ?it/s, v_num=9, train_loss_step=0.249, train_loss_epoch=0.249]        "
     ]
    },
    {
     "name": "stderr",
     "output_type": "stream",
     "text": [
      "/home/bruno/mestrado/Time-LLM/.venv/lib/python3.11/site-packages/neuralforecast/tsdataset.py:54: UserWarning: TypedStorage is deprecated. It will be removed in the future and UntypedStorage will be the only storage class. This should only matter to you if you are using storages directly.  To access UntypedStorage directly, use tensor.untyped_storage() instead of tensor.storage()\n",
      "  storage = elem.storage()._new_shared(numel, device=elem.device)\n"
     ]
    },
    {
     "name": "stdout",
     "output_type": "stream",
     "text": [
      "Epoch 46:   0%|          | 0/1 [00:00<?, ?it/s, v_num=9, train_loss_step=0.236, train_loss_epoch=0.236]        "
     ]
    },
    {
     "name": "stderr",
     "output_type": "stream",
     "text": [
      "/home/bruno/mestrado/Time-LLM/.venv/lib/python3.11/site-packages/neuralforecast/tsdataset.py:54: UserWarning: TypedStorage is deprecated. It will be removed in the future and UntypedStorage will be the only storage class. This should only matter to you if you are using storages directly.  To access UntypedStorage directly, use tensor.untyped_storage() instead of tensor.storage()\n",
      "  storage = elem.storage()._new_shared(numel, device=elem.device)\n"
     ]
    },
    {
     "name": "stdout",
     "output_type": "stream",
     "text": [
      "Epoch 47:   0%|          | 0/1 [00:00<?, ?it/s, v_num=9, train_loss_step=0.306, train_loss_epoch=0.306]        "
     ]
    },
    {
     "name": "stderr",
     "output_type": "stream",
     "text": [
      "/home/bruno/mestrado/Time-LLM/.venv/lib/python3.11/site-packages/neuralforecast/tsdataset.py:54: UserWarning: TypedStorage is deprecated. It will be removed in the future and UntypedStorage will be the only storage class. This should only matter to you if you are using storages directly.  To access UntypedStorage directly, use tensor.untyped_storage() instead of tensor.storage()\n",
      "  storage = elem.storage()._new_shared(numel, device=elem.device)\n"
     ]
    },
    {
     "name": "stdout",
     "output_type": "stream",
     "text": [
      "Epoch 48:   0%|          | 0/1 [00:00<?, ?it/s, v_num=9, train_loss_step=0.125, train_loss_epoch=0.125]        "
     ]
    },
    {
     "name": "stderr",
     "output_type": "stream",
     "text": [
      "/home/bruno/mestrado/Time-LLM/.venv/lib/python3.11/site-packages/neuralforecast/tsdataset.py:54: UserWarning: TypedStorage is deprecated. It will be removed in the future and UntypedStorage will be the only storage class. This should only matter to you if you are using storages directly.  To access UntypedStorage directly, use tensor.untyped_storage() instead of tensor.storage()\n",
      "  storage = elem.storage()._new_shared(numel, device=elem.device)\n"
     ]
    },
    {
     "name": "stdout",
     "output_type": "stream",
     "text": [
      "Epoch 49:   0%|          | 0/1 [00:00<?, ?it/s, v_num=9, train_loss_step=0.228, train_loss_epoch=0.228]        "
     ]
    },
    {
     "name": "stderr",
     "output_type": "stream",
     "text": [
      "/home/bruno/mestrado/Time-LLM/.venv/lib/python3.11/site-packages/neuralforecast/tsdataset.py:54: UserWarning: TypedStorage is deprecated. It will be removed in the future and UntypedStorage will be the only storage class. This should only matter to you if you are using storages directly.  To access UntypedStorage directly, use tensor.untyped_storage() instead of tensor.storage()\n",
      "  storage = elem.storage()._new_shared(numel, device=elem.device)\n"
     ]
    },
    {
     "name": "stdout",
     "output_type": "stream",
     "text": [
      "Epoch 50:   0%|          | 0/1 [00:00<?, ?it/s, v_num=9, train_loss_step=0.321, train_loss_epoch=0.321]        "
     ]
    },
    {
     "name": "stderr",
     "output_type": "stream",
     "text": [
      "/home/bruno/mestrado/Time-LLM/.venv/lib/python3.11/site-packages/neuralforecast/tsdataset.py:54: UserWarning: TypedStorage is deprecated. It will be removed in the future and UntypedStorage will be the only storage class. This should only matter to you if you are using storages directly.  To access UntypedStorage directly, use tensor.untyped_storage() instead of tensor.storage()\n",
      "  storage = elem.storage()._new_shared(numel, device=elem.device)\n"
     ]
    },
    {
     "name": "stdout",
     "output_type": "stream",
     "text": [
      "Epoch 51:   0%|          | 0/1 [00:00<?, ?it/s, v_num=9, train_loss_step=0.189, train_loss_epoch=0.189]        "
     ]
    },
    {
     "name": "stderr",
     "output_type": "stream",
     "text": [
      "/home/bruno/mestrado/Time-LLM/.venv/lib/python3.11/site-packages/neuralforecast/tsdataset.py:54: UserWarning: TypedStorage is deprecated. It will be removed in the future and UntypedStorage will be the only storage class. This should only matter to you if you are using storages directly.  To access UntypedStorage directly, use tensor.untyped_storage() instead of tensor.storage()\n",
      "  storage = elem.storage()._new_shared(numel, device=elem.device)\n"
     ]
    },
    {
     "name": "stdout",
     "output_type": "stream",
     "text": [
      "Epoch 52:   0%|          | 0/1 [00:00<?, ?it/s, v_num=9, train_loss_step=0.194, train_loss_epoch=0.194]        "
     ]
    },
    {
     "name": "stderr",
     "output_type": "stream",
     "text": [
      "/home/bruno/mestrado/Time-LLM/.venv/lib/python3.11/site-packages/neuralforecast/tsdataset.py:54: UserWarning: TypedStorage is deprecated. It will be removed in the future and UntypedStorage will be the only storage class. This should only matter to you if you are using storages directly.  To access UntypedStorage directly, use tensor.untyped_storage() instead of tensor.storage()\n",
      "  storage = elem.storage()._new_shared(numel, device=elem.device)\n"
     ]
    },
    {
     "name": "stdout",
     "output_type": "stream",
     "text": [
      "Epoch 53:   0%|          | 0/1 [00:00<?, ?it/s, v_num=9, train_loss_step=0.178, train_loss_epoch=0.178]        "
     ]
    },
    {
     "name": "stderr",
     "output_type": "stream",
     "text": [
      "/home/bruno/mestrado/Time-LLM/.venv/lib/python3.11/site-packages/neuralforecast/tsdataset.py:54: UserWarning: TypedStorage is deprecated. It will be removed in the future and UntypedStorage will be the only storage class. This should only matter to you if you are using storages directly.  To access UntypedStorage directly, use tensor.untyped_storage() instead of tensor.storage()\n",
      "  storage = elem.storage()._new_shared(numel, device=elem.device)\n"
     ]
    },
    {
     "name": "stdout",
     "output_type": "stream",
     "text": [
      "Epoch 54:   0%|          | 0/1 [00:00<?, ?it/s, v_num=9, train_loss_step=0.118, train_loss_epoch=0.118]        "
     ]
    },
    {
     "name": "stderr",
     "output_type": "stream",
     "text": [
      "/home/bruno/mestrado/Time-LLM/.venv/lib/python3.11/site-packages/neuralforecast/tsdataset.py:54: UserWarning: TypedStorage is deprecated. It will be removed in the future and UntypedStorage will be the only storage class. This should only matter to you if you are using storages directly.  To access UntypedStorage directly, use tensor.untyped_storage() instead of tensor.storage()\n",
      "  storage = elem.storage()._new_shared(numel, device=elem.device)\n"
     ]
    },
    {
     "name": "stdout",
     "output_type": "stream",
     "text": [
      "Epoch 55:   0%|          | 0/1 [00:00<?, ?it/s, v_num=9, train_loss_step=0.285, train_loss_epoch=0.285]        "
     ]
    },
    {
     "name": "stderr",
     "output_type": "stream",
     "text": [
      "/home/bruno/mestrado/Time-LLM/.venv/lib/python3.11/site-packages/neuralforecast/tsdataset.py:54: UserWarning: TypedStorage is deprecated. It will be removed in the future and UntypedStorage will be the only storage class. This should only matter to you if you are using storages directly.  To access UntypedStorage directly, use tensor.untyped_storage() instead of tensor.storage()\n",
      "  storage = elem.storage()._new_shared(numel, device=elem.device)\n"
     ]
    },
    {
     "name": "stdout",
     "output_type": "stream",
     "text": [
      "Epoch 56:   0%|          | 0/1 [00:00<?, ?it/s, v_num=9, train_loss_step=0.184, train_loss_epoch=0.184]        "
     ]
    },
    {
     "name": "stderr",
     "output_type": "stream",
     "text": [
      "/home/bruno/mestrado/Time-LLM/.venv/lib/python3.11/site-packages/neuralforecast/tsdataset.py:54: UserWarning: TypedStorage is deprecated. It will be removed in the future and UntypedStorage will be the only storage class. This should only matter to you if you are using storages directly.  To access UntypedStorage directly, use tensor.untyped_storage() instead of tensor.storage()\n",
      "  storage = elem.storage()._new_shared(numel, device=elem.device)\n"
     ]
    },
    {
     "name": "stdout",
     "output_type": "stream",
     "text": [
      "Epoch 57:   0%|          | 0/1 [00:00<?, ?it/s, v_num=9, train_loss_step=0.179, train_loss_epoch=0.179]        "
     ]
    },
    {
     "name": "stderr",
     "output_type": "stream",
     "text": [
      "/home/bruno/mestrado/Time-LLM/.venv/lib/python3.11/site-packages/neuralforecast/tsdataset.py:54: UserWarning: TypedStorage is deprecated. It will be removed in the future and UntypedStorage will be the only storage class. This should only matter to you if you are using storages directly.  To access UntypedStorage directly, use tensor.untyped_storage() instead of tensor.storage()\n",
      "  storage = elem.storage()._new_shared(numel, device=elem.device)\n"
     ]
    },
    {
     "name": "stdout",
     "output_type": "stream",
     "text": [
      "Epoch 58:   0%|          | 0/1 [00:00<?, ?it/s, v_num=9, train_loss_step=0.159, train_loss_epoch=0.159]        "
     ]
    },
    {
     "name": "stderr",
     "output_type": "stream",
     "text": [
      "/home/bruno/mestrado/Time-LLM/.venv/lib/python3.11/site-packages/neuralforecast/tsdataset.py:54: UserWarning: TypedStorage is deprecated. It will be removed in the future and UntypedStorage will be the only storage class. This should only matter to you if you are using storages directly.  To access UntypedStorage directly, use tensor.untyped_storage() instead of tensor.storage()\n",
      "  storage = elem.storage()._new_shared(numel, device=elem.device)\n"
     ]
    },
    {
     "name": "stdout",
     "output_type": "stream",
     "text": [
      "Epoch 59:   0%|          | 0/1 [00:00<?, ?it/s, v_num=9, train_loss_step=0.135, train_loss_epoch=0.135]        "
     ]
    },
    {
     "name": "stderr",
     "output_type": "stream",
     "text": [
      "/home/bruno/mestrado/Time-LLM/.venv/lib/python3.11/site-packages/neuralforecast/tsdataset.py:54: UserWarning: TypedStorage is deprecated. It will be removed in the future and UntypedStorage will be the only storage class. This should only matter to you if you are using storages directly.  To access UntypedStorage directly, use tensor.untyped_storage() instead of tensor.storage()\n",
      "  storage = elem.storage()._new_shared(numel, device=elem.device)\n"
     ]
    },
    {
     "name": "stdout",
     "output_type": "stream",
     "text": [
      "Epoch 60:   0%|          | 0/1 [00:00<?, ?it/s, v_num=9, train_loss_step=0.214, train_loss_epoch=0.214]        "
     ]
    },
    {
     "name": "stderr",
     "output_type": "stream",
     "text": [
      "/home/bruno/mestrado/Time-LLM/.venv/lib/python3.11/site-packages/neuralforecast/tsdataset.py:54: UserWarning: TypedStorage is deprecated. It will be removed in the future and UntypedStorage will be the only storage class. This should only matter to you if you are using storages directly.  To access UntypedStorage directly, use tensor.untyped_storage() instead of tensor.storage()\n",
      "  storage = elem.storage()._new_shared(numel, device=elem.device)\n"
     ]
    },
    {
     "name": "stdout",
     "output_type": "stream",
     "text": [
      "Epoch 61:   0%|          | 0/1 [00:00<?, ?it/s, v_num=9, train_loss_step=0.151, train_loss_epoch=0.151]        "
     ]
    },
    {
     "name": "stderr",
     "output_type": "stream",
     "text": [
      "/home/bruno/mestrado/Time-LLM/.venv/lib/python3.11/site-packages/neuralforecast/tsdataset.py:54: UserWarning: TypedStorage is deprecated. It will be removed in the future and UntypedStorage will be the only storage class. This should only matter to you if you are using storages directly.  To access UntypedStorage directly, use tensor.untyped_storage() instead of tensor.storage()\n",
      "  storage = elem.storage()._new_shared(numel, device=elem.device)\n"
     ]
    },
    {
     "name": "stdout",
     "output_type": "stream",
     "text": [
      "Epoch 62:   0%|          | 0/1 [00:00<?, ?it/s, v_num=9, train_loss_step=0.136, train_loss_epoch=0.136]        "
     ]
    },
    {
     "name": "stderr",
     "output_type": "stream",
     "text": [
      "/home/bruno/mestrado/Time-LLM/.venv/lib/python3.11/site-packages/neuralforecast/tsdataset.py:54: UserWarning: TypedStorage is deprecated. It will be removed in the future and UntypedStorage will be the only storage class. This should only matter to you if you are using storages directly.  To access UntypedStorage directly, use tensor.untyped_storage() instead of tensor.storage()\n",
      "  storage = elem.storage()._new_shared(numel, device=elem.device)\n"
     ]
    },
    {
     "name": "stdout",
     "output_type": "stream",
     "text": [
      "Epoch 63:   0%|          | 0/1 [00:00<?, ?it/s, v_num=9, train_loss_step=0.230, train_loss_epoch=0.230]        "
     ]
    },
    {
     "name": "stderr",
     "output_type": "stream",
     "text": [
      "/home/bruno/mestrado/Time-LLM/.venv/lib/python3.11/site-packages/neuralforecast/tsdataset.py:54: UserWarning: TypedStorage is deprecated. It will be removed in the future and UntypedStorage will be the only storage class. This should only matter to you if you are using storages directly.  To access UntypedStorage directly, use tensor.untyped_storage() instead of tensor.storage()\n",
      "  storage = elem.storage()._new_shared(numel, device=elem.device)\n"
     ]
    },
    {
     "name": "stdout",
     "output_type": "stream",
     "text": [
      "Epoch 64:   0%|          | 0/1 [00:00<?, ?it/s, v_num=9, train_loss_step=0.186, train_loss_epoch=0.186]        "
     ]
    },
    {
     "name": "stderr",
     "output_type": "stream",
     "text": [
      "/home/bruno/mestrado/Time-LLM/.venv/lib/python3.11/site-packages/neuralforecast/tsdataset.py:54: UserWarning: TypedStorage is deprecated. It will be removed in the future and UntypedStorage will be the only storage class. This should only matter to you if you are using storages directly.  To access UntypedStorage directly, use tensor.untyped_storage() instead of tensor.storage()\n",
      "  storage = elem.storage()._new_shared(numel, device=elem.device)\n"
     ]
    },
    {
     "name": "stdout",
     "output_type": "stream",
     "text": [
      "Epoch 65:   0%|          | 0/1 [00:00<?, ?it/s, v_num=9, train_loss_step=0.253, train_loss_epoch=0.253]        "
     ]
    },
    {
     "name": "stderr",
     "output_type": "stream",
     "text": [
      "/home/bruno/mestrado/Time-LLM/.venv/lib/python3.11/site-packages/neuralforecast/tsdataset.py:54: UserWarning: TypedStorage is deprecated. It will be removed in the future and UntypedStorage will be the only storage class. This should only matter to you if you are using storages directly.  To access UntypedStorage directly, use tensor.untyped_storage() instead of tensor.storage()\n",
      "  storage = elem.storage()._new_shared(numel, device=elem.device)\n"
     ]
    },
    {
     "name": "stdout",
     "output_type": "stream",
     "text": [
      "Epoch 66:   0%|          | 0/1 [00:00<?, ?it/s, v_num=9, train_loss_step=0.277, train_loss_epoch=0.277]        "
     ]
    },
    {
     "name": "stderr",
     "output_type": "stream",
     "text": [
      "/home/bruno/mestrado/Time-LLM/.venv/lib/python3.11/site-packages/neuralforecast/tsdataset.py:54: UserWarning: TypedStorage is deprecated. It will be removed in the future and UntypedStorage will be the only storage class. This should only matter to you if you are using storages directly.  To access UntypedStorage directly, use tensor.untyped_storage() instead of tensor.storage()\n",
      "  storage = elem.storage()._new_shared(numel, device=elem.device)\n"
     ]
    },
    {
     "name": "stdout",
     "output_type": "stream",
     "text": [
      "Epoch 67:   0%|          | 0/1 [00:00<?, ?it/s, v_num=9, train_loss_step=0.261, train_loss_epoch=0.261]        "
     ]
    },
    {
     "name": "stderr",
     "output_type": "stream",
     "text": [
      "/home/bruno/mestrado/Time-LLM/.venv/lib/python3.11/site-packages/neuralforecast/tsdataset.py:54: UserWarning: TypedStorage is deprecated. It will be removed in the future and UntypedStorage will be the only storage class. This should only matter to you if you are using storages directly.  To access UntypedStorage directly, use tensor.untyped_storage() instead of tensor.storage()\n",
      "  storage = elem.storage()._new_shared(numel, device=elem.device)\n"
     ]
    },
    {
     "name": "stdout",
     "output_type": "stream",
     "text": [
      "Epoch 68:   0%|          | 0/1 [00:00<?, ?it/s, v_num=9, train_loss_step=0.170, train_loss_epoch=0.170]        "
     ]
    },
    {
     "name": "stderr",
     "output_type": "stream",
     "text": [
      "/home/bruno/mestrado/Time-LLM/.venv/lib/python3.11/site-packages/neuralforecast/tsdataset.py:54: UserWarning: TypedStorage is deprecated. It will be removed in the future and UntypedStorage will be the only storage class. This should only matter to you if you are using storages directly.  To access UntypedStorage directly, use tensor.untyped_storage() instead of tensor.storage()\n",
      "  storage = elem.storage()._new_shared(numel, device=elem.device)\n"
     ]
    },
    {
     "name": "stdout",
     "output_type": "stream",
     "text": [
      "Epoch 69:   0%|          | 0/1 [00:00<?, ?it/s, v_num=9, train_loss_step=0.142, train_loss_epoch=0.142]        "
     ]
    },
    {
     "name": "stderr",
     "output_type": "stream",
     "text": [
      "/home/bruno/mestrado/Time-LLM/.venv/lib/python3.11/site-packages/neuralforecast/tsdataset.py:54: UserWarning: TypedStorage is deprecated. It will be removed in the future and UntypedStorage will be the only storage class. This should only matter to you if you are using storages directly.  To access UntypedStorage directly, use tensor.untyped_storage() instead of tensor.storage()\n",
      "  storage = elem.storage()._new_shared(numel, device=elem.device)\n"
     ]
    },
    {
     "name": "stdout",
     "output_type": "stream",
     "text": [
      "Epoch 70:   0%|          | 0/1 [00:00<?, ?it/s, v_num=9, train_loss_step=0.141, train_loss_epoch=0.141]        "
     ]
    },
    {
     "name": "stderr",
     "output_type": "stream",
     "text": [
      "/home/bruno/mestrado/Time-LLM/.venv/lib/python3.11/site-packages/neuralforecast/tsdataset.py:54: UserWarning: TypedStorage is deprecated. It will be removed in the future and UntypedStorage will be the only storage class. This should only matter to you if you are using storages directly.  To access UntypedStorage directly, use tensor.untyped_storage() instead of tensor.storage()\n",
      "  storage = elem.storage()._new_shared(numel, device=elem.device)\n"
     ]
    },
    {
     "name": "stdout",
     "output_type": "stream",
     "text": [
      "Epoch 71:   0%|          | 0/1 [00:00<?, ?it/s, v_num=9, train_loss_step=0.216, train_loss_epoch=0.216]        "
     ]
    },
    {
     "name": "stderr",
     "output_type": "stream",
     "text": [
      "/home/bruno/mestrado/Time-LLM/.venv/lib/python3.11/site-packages/neuralforecast/tsdataset.py:54: UserWarning: TypedStorage is deprecated. It will be removed in the future and UntypedStorage will be the only storage class. This should only matter to you if you are using storages directly.  To access UntypedStorage directly, use tensor.untyped_storage() instead of tensor.storage()\n",
      "  storage = elem.storage()._new_shared(numel, device=elem.device)\n"
     ]
    },
    {
     "name": "stdout",
     "output_type": "stream",
     "text": [
      "Epoch 72:   0%|          | 0/1 [00:00<?, ?it/s, v_num=9, train_loss_step=0.221, train_loss_epoch=0.221]        "
     ]
    },
    {
     "name": "stderr",
     "output_type": "stream",
     "text": [
      "/home/bruno/mestrado/Time-LLM/.venv/lib/python3.11/site-packages/neuralforecast/tsdataset.py:54: UserWarning: TypedStorage is deprecated. It will be removed in the future and UntypedStorage will be the only storage class. This should only matter to you if you are using storages directly.  To access UntypedStorage directly, use tensor.untyped_storage() instead of tensor.storage()\n",
      "  storage = elem.storage()._new_shared(numel, device=elem.device)\n"
     ]
    },
    {
     "name": "stdout",
     "output_type": "stream",
     "text": [
      "Epoch 73:   0%|          | 0/1 [00:00<?, ?it/s, v_num=9, train_loss_step=0.228, train_loss_epoch=0.228]        "
     ]
    },
    {
     "name": "stderr",
     "output_type": "stream",
     "text": [
      "/home/bruno/mestrado/Time-LLM/.venv/lib/python3.11/site-packages/neuralforecast/tsdataset.py:54: UserWarning: TypedStorage is deprecated. It will be removed in the future and UntypedStorage will be the only storage class. This should only matter to you if you are using storages directly.  To access UntypedStorage directly, use tensor.untyped_storage() instead of tensor.storage()\n",
      "  storage = elem.storage()._new_shared(numel, device=elem.device)\n"
     ]
    },
    {
     "name": "stdout",
     "output_type": "stream",
     "text": [
      "Epoch 74:   0%|          | 0/1 [00:00<?, ?it/s, v_num=9, train_loss_step=0.187, train_loss_epoch=0.187]        "
     ]
    },
    {
     "name": "stderr",
     "output_type": "stream",
     "text": [
      "/home/bruno/mestrado/Time-LLM/.venv/lib/python3.11/site-packages/neuralforecast/tsdataset.py:54: UserWarning: TypedStorage is deprecated. It will be removed in the future and UntypedStorage will be the only storage class. This should only matter to you if you are using storages directly.  To access UntypedStorage directly, use tensor.untyped_storage() instead of tensor.storage()\n",
      "  storage = elem.storage()._new_shared(numel, device=elem.device)\n"
     ]
    },
    {
     "name": "stdout",
     "output_type": "stream",
     "text": [
      "Epoch 75:   0%|          | 0/1 [00:00<?, ?it/s, v_num=9, train_loss_step=0.176, train_loss_epoch=0.176]        "
     ]
    },
    {
     "name": "stderr",
     "output_type": "stream",
     "text": [
      "/home/bruno/mestrado/Time-LLM/.venv/lib/python3.11/site-packages/neuralforecast/tsdataset.py:54: UserWarning: TypedStorage is deprecated. It will be removed in the future and UntypedStorage will be the only storage class. This should only matter to you if you are using storages directly.  To access UntypedStorage directly, use tensor.untyped_storage() instead of tensor.storage()\n",
      "  storage = elem.storage()._new_shared(numel, device=elem.device)\n"
     ]
    },
    {
     "name": "stdout",
     "output_type": "stream",
     "text": [
      "Epoch 76:   0%|          | 0/1 [00:00<?, ?it/s, v_num=9, train_loss_step=0.148, train_loss_epoch=0.148]        "
     ]
    },
    {
     "name": "stderr",
     "output_type": "stream",
     "text": [
      "/home/bruno/mestrado/Time-LLM/.venv/lib/python3.11/site-packages/neuralforecast/tsdataset.py:54: UserWarning: TypedStorage is deprecated. It will be removed in the future and UntypedStorage will be the only storage class. This should only matter to you if you are using storages directly.  To access UntypedStorage directly, use tensor.untyped_storage() instead of tensor.storage()\n",
      "  storage = elem.storage()._new_shared(numel, device=elem.device)\n"
     ]
    },
    {
     "name": "stdout",
     "output_type": "stream",
     "text": [
      "Epoch 77:   0%|          | 0/1 [00:00<?, ?it/s, v_num=9, train_loss_step=0.212, train_loss_epoch=0.212]        "
     ]
    },
    {
     "name": "stderr",
     "output_type": "stream",
     "text": [
      "/home/bruno/mestrado/Time-LLM/.venv/lib/python3.11/site-packages/neuralforecast/tsdataset.py:54: UserWarning: TypedStorage is deprecated. It will be removed in the future and UntypedStorage will be the only storage class. This should only matter to you if you are using storages directly.  To access UntypedStorage directly, use tensor.untyped_storage() instead of tensor.storage()\n",
      "  storage = elem.storage()._new_shared(numel, device=elem.device)\n"
     ]
    },
    {
     "name": "stdout",
     "output_type": "stream",
     "text": [
      "Epoch 78:   0%|          | 0/1 [00:00<?, ?it/s, v_num=9, train_loss_step=0.291, train_loss_epoch=0.291]        "
     ]
    },
    {
     "name": "stderr",
     "output_type": "stream",
     "text": [
      "/home/bruno/mestrado/Time-LLM/.venv/lib/python3.11/site-packages/neuralforecast/tsdataset.py:54: UserWarning: TypedStorage is deprecated. It will be removed in the future and UntypedStorage will be the only storage class. This should only matter to you if you are using storages directly.  To access UntypedStorage directly, use tensor.untyped_storage() instead of tensor.storage()\n",
      "  storage = elem.storage()._new_shared(numel, device=elem.device)\n"
     ]
    },
    {
     "name": "stdout",
     "output_type": "stream",
     "text": [
      "Epoch 79:   0%|          | 0/1 [00:00<?, ?it/s, v_num=9, train_loss_step=0.202, train_loss_epoch=0.202]        "
     ]
    },
    {
     "name": "stderr",
     "output_type": "stream",
     "text": [
      "/home/bruno/mestrado/Time-LLM/.venv/lib/python3.11/site-packages/neuralforecast/tsdataset.py:54: UserWarning: TypedStorage is deprecated. It will be removed in the future and UntypedStorage will be the only storage class. This should only matter to you if you are using storages directly.  To access UntypedStorage directly, use tensor.untyped_storage() instead of tensor.storage()\n",
      "  storage = elem.storage()._new_shared(numel, device=elem.device)\n"
     ]
    },
    {
     "name": "stdout",
     "output_type": "stream",
     "text": [
      "Epoch 80:   0%|          | 0/1 [00:00<?, ?it/s, v_num=9, train_loss_step=0.126, train_loss_epoch=0.126]        "
     ]
    },
    {
     "name": "stderr",
     "output_type": "stream",
     "text": [
      "/home/bruno/mestrado/Time-LLM/.venv/lib/python3.11/site-packages/neuralforecast/tsdataset.py:54: UserWarning: TypedStorage is deprecated. It will be removed in the future and UntypedStorage will be the only storage class. This should only matter to you if you are using storages directly.  To access UntypedStorage directly, use tensor.untyped_storage() instead of tensor.storage()\n",
      "  storage = elem.storage()._new_shared(numel, device=elem.device)\n"
     ]
    },
    {
     "name": "stdout",
     "output_type": "stream",
     "text": [
      "Epoch 81:   0%|          | 0/1 [00:00<?, ?it/s, v_num=9, train_loss_step=0.189, train_loss_epoch=0.189]        "
     ]
    },
    {
     "name": "stderr",
     "output_type": "stream",
     "text": [
      "/home/bruno/mestrado/Time-LLM/.venv/lib/python3.11/site-packages/neuralforecast/tsdataset.py:54: UserWarning: TypedStorage is deprecated. It will be removed in the future and UntypedStorage will be the only storage class. This should only matter to you if you are using storages directly.  To access UntypedStorage directly, use tensor.untyped_storage() instead of tensor.storage()\n",
      "  storage = elem.storage()._new_shared(numel, device=elem.device)\n"
     ]
    },
    {
     "name": "stdout",
     "output_type": "stream",
     "text": [
      "Epoch 82:   0%|          | 0/1 [00:00<?, ?it/s, v_num=9, train_loss_step=0.136, train_loss_epoch=0.136]        "
     ]
    },
    {
     "name": "stderr",
     "output_type": "stream",
     "text": [
      "/home/bruno/mestrado/Time-LLM/.venv/lib/python3.11/site-packages/neuralforecast/tsdataset.py:54: UserWarning: TypedStorage is deprecated. It will be removed in the future and UntypedStorage will be the only storage class. This should only matter to you if you are using storages directly.  To access UntypedStorage directly, use tensor.untyped_storage() instead of tensor.storage()\n",
      "  storage = elem.storage()._new_shared(numel, device=elem.device)\n"
     ]
    },
    {
     "name": "stdout",
     "output_type": "stream",
     "text": [
      "Epoch 83:   0%|          | 0/1 [00:00<?, ?it/s, v_num=9, train_loss_step=0.104, train_loss_epoch=0.104]        "
     ]
    },
    {
     "name": "stderr",
     "output_type": "stream",
     "text": [
      "/home/bruno/mestrado/Time-LLM/.venv/lib/python3.11/site-packages/neuralforecast/tsdataset.py:54: UserWarning: TypedStorage is deprecated. It will be removed in the future and UntypedStorage will be the only storage class. This should only matter to you if you are using storages directly.  To access UntypedStorage directly, use tensor.untyped_storage() instead of tensor.storage()\n",
      "  storage = elem.storage()._new_shared(numel, device=elem.device)\n"
     ]
    },
    {
     "name": "stdout",
     "output_type": "stream",
     "text": [
      "Epoch 84:   0%|          | 0/1 [00:00<?, ?it/s, v_num=9, train_loss_step=0.346, train_loss_epoch=0.346]        "
     ]
    },
    {
     "name": "stderr",
     "output_type": "stream",
     "text": [
      "/home/bruno/mestrado/Time-LLM/.venv/lib/python3.11/site-packages/neuralforecast/tsdataset.py:54: UserWarning: TypedStorage is deprecated. It will be removed in the future and UntypedStorage will be the only storage class. This should only matter to you if you are using storages directly.  To access UntypedStorage directly, use tensor.untyped_storage() instead of tensor.storage()\n",
      "  storage = elem.storage()._new_shared(numel, device=elem.device)\n"
     ]
    },
    {
     "name": "stdout",
     "output_type": "stream",
     "text": [
      "Epoch 85:   0%|          | 0/1 [00:00<?, ?it/s, v_num=9, train_loss_step=0.278, train_loss_epoch=0.278]        "
     ]
    },
    {
     "name": "stderr",
     "output_type": "stream",
     "text": [
      "/home/bruno/mestrado/Time-LLM/.venv/lib/python3.11/site-packages/neuralforecast/tsdataset.py:54: UserWarning: TypedStorage is deprecated. It will be removed in the future and UntypedStorage will be the only storage class. This should only matter to you if you are using storages directly.  To access UntypedStorage directly, use tensor.untyped_storage() instead of tensor.storage()\n",
      "  storage = elem.storage()._new_shared(numel, device=elem.device)\n"
     ]
    },
    {
     "name": "stdout",
     "output_type": "stream",
     "text": [
      "Epoch 86:   0%|          | 0/1 [00:00<?, ?it/s, v_num=9, train_loss_step=0.197, train_loss_epoch=0.197]        "
     ]
    },
    {
     "name": "stderr",
     "output_type": "stream",
     "text": [
      "/home/bruno/mestrado/Time-LLM/.venv/lib/python3.11/site-packages/neuralforecast/tsdataset.py:54: UserWarning: TypedStorage is deprecated. It will be removed in the future and UntypedStorage will be the only storage class. This should only matter to you if you are using storages directly.  To access UntypedStorage directly, use tensor.untyped_storage() instead of tensor.storage()\n",
      "  storage = elem.storage()._new_shared(numel, device=elem.device)\n"
     ]
    },
    {
     "name": "stdout",
     "output_type": "stream",
     "text": [
      "Epoch 87:   0%|          | 0/1 [00:00<?, ?it/s, v_num=9, train_loss_step=0.150, train_loss_epoch=0.150]        "
     ]
    },
    {
     "name": "stderr",
     "output_type": "stream",
     "text": [
      "/home/bruno/mestrado/Time-LLM/.venv/lib/python3.11/site-packages/neuralforecast/tsdataset.py:54: UserWarning: TypedStorage is deprecated. It will be removed in the future and UntypedStorage will be the only storage class. This should only matter to you if you are using storages directly.  To access UntypedStorage directly, use tensor.untyped_storage() instead of tensor.storage()\n",
      "  storage = elem.storage()._new_shared(numel, device=elem.device)\n"
     ]
    },
    {
     "name": "stdout",
     "output_type": "stream",
     "text": [
      "Epoch 88:   0%|          | 0/1 [00:00<?, ?it/s, v_num=9, train_loss_step=0.162, train_loss_epoch=0.162]        "
     ]
    },
    {
     "name": "stderr",
     "output_type": "stream",
     "text": [
      "/home/bruno/mestrado/Time-LLM/.venv/lib/python3.11/site-packages/neuralforecast/tsdataset.py:54: UserWarning: TypedStorage is deprecated. It will be removed in the future and UntypedStorage will be the only storage class. This should only matter to you if you are using storages directly.  To access UntypedStorage directly, use tensor.untyped_storage() instead of tensor.storage()\n",
      "  storage = elem.storage()._new_shared(numel, device=elem.device)\n"
     ]
    },
    {
     "name": "stdout",
     "output_type": "stream",
     "text": [
      "Epoch 89:   0%|          | 0/1 [00:00<?, ?it/s, v_num=9, train_loss_step=0.241, train_loss_epoch=0.241]        "
     ]
    },
    {
     "name": "stderr",
     "output_type": "stream",
     "text": [
      "/home/bruno/mestrado/Time-LLM/.venv/lib/python3.11/site-packages/neuralforecast/tsdataset.py:54: UserWarning: TypedStorage is deprecated. It will be removed in the future and UntypedStorage will be the only storage class. This should only matter to you if you are using storages directly.  To access UntypedStorage directly, use tensor.untyped_storage() instead of tensor.storage()\n",
      "  storage = elem.storage()._new_shared(numel, device=elem.device)\n"
     ]
    },
    {
     "name": "stdout",
     "output_type": "stream",
     "text": [
      "Epoch 90:   0%|          | 0/1 [00:00<?, ?it/s, v_num=9, train_loss_step=0.125, train_loss_epoch=0.125]        "
     ]
    },
    {
     "name": "stderr",
     "output_type": "stream",
     "text": [
      "/home/bruno/mestrado/Time-LLM/.venv/lib/python3.11/site-packages/neuralforecast/tsdataset.py:54: UserWarning: TypedStorage is deprecated. It will be removed in the future and UntypedStorage will be the only storage class. This should only matter to you if you are using storages directly.  To access UntypedStorage directly, use tensor.untyped_storage() instead of tensor.storage()\n",
      "  storage = elem.storage()._new_shared(numel, device=elem.device)\n"
     ]
    },
    {
     "name": "stdout",
     "output_type": "stream",
     "text": [
      "Epoch 91:   0%|          | 0/1 [00:00<?, ?it/s, v_num=9, train_loss_step=0.141, train_loss_epoch=0.141]        "
     ]
    },
    {
     "name": "stderr",
     "output_type": "stream",
     "text": [
      "/home/bruno/mestrado/Time-LLM/.venv/lib/python3.11/site-packages/neuralforecast/tsdataset.py:54: UserWarning: TypedStorage is deprecated. It will be removed in the future and UntypedStorage will be the only storage class. This should only matter to you if you are using storages directly.  To access UntypedStorage directly, use tensor.untyped_storage() instead of tensor.storage()\n",
      "  storage = elem.storage()._new_shared(numel, device=elem.device)\n"
     ]
    },
    {
     "name": "stdout",
     "output_type": "stream",
     "text": [
      "Epoch 92:   0%|          | 0/1 [00:00<?, ?it/s, v_num=9, train_loss_step=0.266, train_loss_epoch=0.266]        "
     ]
    },
    {
     "name": "stderr",
     "output_type": "stream",
     "text": [
      "/home/bruno/mestrado/Time-LLM/.venv/lib/python3.11/site-packages/neuralforecast/tsdataset.py:54: UserWarning: TypedStorage is deprecated. It will be removed in the future and UntypedStorage will be the only storage class. This should only matter to you if you are using storages directly.  To access UntypedStorage directly, use tensor.untyped_storage() instead of tensor.storage()\n",
      "  storage = elem.storage()._new_shared(numel, device=elem.device)\n"
     ]
    },
    {
     "name": "stdout",
     "output_type": "stream",
     "text": [
      "Epoch 93:   0%|          | 0/1 [00:00<?, ?it/s, v_num=9, train_loss_step=0.137, train_loss_epoch=0.137]        "
     ]
    },
    {
     "name": "stderr",
     "output_type": "stream",
     "text": [
      "/home/bruno/mestrado/Time-LLM/.venv/lib/python3.11/site-packages/neuralforecast/tsdataset.py:54: UserWarning: TypedStorage is deprecated. It will be removed in the future and UntypedStorage will be the only storage class. This should only matter to you if you are using storages directly.  To access UntypedStorage directly, use tensor.untyped_storage() instead of tensor.storage()\n",
      "  storage = elem.storage()._new_shared(numel, device=elem.device)\n"
     ]
    },
    {
     "name": "stdout",
     "output_type": "stream",
     "text": [
      "Epoch 94:   0%|          | 0/1 [00:00<?, ?it/s, v_num=9, train_loss_step=0.274, train_loss_epoch=0.274]        "
     ]
    },
    {
     "name": "stderr",
     "output_type": "stream",
     "text": [
      "/home/bruno/mestrado/Time-LLM/.venv/lib/python3.11/site-packages/neuralforecast/tsdataset.py:54: UserWarning: TypedStorage is deprecated. It will be removed in the future and UntypedStorage will be the only storage class. This should only matter to you if you are using storages directly.  To access UntypedStorage directly, use tensor.untyped_storage() instead of tensor.storage()\n",
      "  storage = elem.storage()._new_shared(numel, device=elem.device)\n"
     ]
    },
    {
     "name": "stdout",
     "output_type": "stream",
     "text": [
      "Epoch 95:   0%|          | 0/1 [00:00<?, ?it/s, v_num=9, train_loss_step=0.254, train_loss_epoch=0.254]        "
     ]
    },
    {
     "name": "stderr",
     "output_type": "stream",
     "text": [
      "/home/bruno/mestrado/Time-LLM/.venv/lib/python3.11/site-packages/neuralforecast/tsdataset.py:54: UserWarning: TypedStorage is deprecated. It will be removed in the future and UntypedStorage will be the only storage class. This should only matter to you if you are using storages directly.  To access UntypedStorage directly, use tensor.untyped_storage() instead of tensor.storage()\n",
      "  storage = elem.storage()._new_shared(numel, device=elem.device)\n"
     ]
    },
    {
     "name": "stdout",
     "output_type": "stream",
     "text": [
      "Epoch 96:   0%|          | 0/1 [00:00<?, ?it/s, v_num=9, train_loss_step=0.142, train_loss_epoch=0.142]        "
     ]
    },
    {
     "name": "stderr",
     "output_type": "stream",
     "text": [
      "/home/bruno/mestrado/Time-LLM/.venv/lib/python3.11/site-packages/neuralforecast/tsdataset.py:54: UserWarning: TypedStorage is deprecated. It will be removed in the future and UntypedStorage will be the only storage class. This should only matter to you if you are using storages directly.  To access UntypedStorage directly, use tensor.untyped_storage() instead of tensor.storage()\n",
      "  storage = elem.storage()._new_shared(numel, device=elem.device)\n"
     ]
    },
    {
     "name": "stdout",
     "output_type": "stream",
     "text": [
      "Epoch 97:   0%|          | 0/1 [00:00<?, ?it/s, v_num=9, train_loss_step=0.149, train_loss_epoch=0.149]        "
     ]
    },
    {
     "name": "stderr",
     "output_type": "stream",
     "text": [
      "/home/bruno/mestrado/Time-LLM/.venv/lib/python3.11/site-packages/neuralforecast/tsdataset.py:54: UserWarning: TypedStorage is deprecated. It will be removed in the future and UntypedStorage will be the only storage class. This should only matter to you if you are using storages directly.  To access UntypedStorage directly, use tensor.untyped_storage() instead of tensor.storage()\n",
      "  storage = elem.storage()._new_shared(numel, device=elem.device)\n"
     ]
    },
    {
     "name": "stdout",
     "output_type": "stream",
     "text": [
      "Epoch 98:   0%|          | 0/1 [00:00<?, ?it/s, v_num=9, train_loss_step=0.177, train_loss_epoch=0.177]        "
     ]
    },
    {
     "name": "stderr",
     "output_type": "stream",
     "text": [
      "/home/bruno/mestrado/Time-LLM/.venv/lib/python3.11/site-packages/neuralforecast/tsdataset.py:54: UserWarning: TypedStorage is deprecated. It will be removed in the future and UntypedStorage will be the only storage class. This should only matter to you if you are using storages directly.  To access UntypedStorage directly, use tensor.untyped_storage() instead of tensor.storage()\n",
      "  storage = elem.storage()._new_shared(numel, device=elem.device)\n"
     ]
    },
    {
     "name": "stdout",
     "output_type": "stream",
     "text": [
      "Epoch 99:   0%|          | 0/1 [00:00<?, ?it/s, v_num=9, train_loss_step=0.124, train_loss_epoch=0.124]        "
     ]
    },
    {
     "name": "stderr",
     "output_type": "stream",
     "text": [
      "/home/bruno/mestrado/Time-LLM/.venv/lib/python3.11/site-packages/neuralforecast/tsdataset.py:54: UserWarning: TypedStorage is deprecated. It will be removed in the future and UntypedStorage will be the only storage class. This should only matter to you if you are using storages directly.  To access UntypedStorage directly, use tensor.untyped_storage() instead of tensor.storage()\n",
      "  storage = elem.storage()._new_shared(numel, device=elem.device)\n"
     ]
    },
    {
     "name": "stdout",
     "output_type": "stream",
     "text": [
      "Epoch 99: 100%|██████████| 1/1 [00:01<00:00,  0.99it/s, v_num=9, train_loss_step=0.273, train_loss_epoch=0.124]"
     ]
    },
    {
     "name": "stderr",
     "output_type": "stream",
     "text": [
      "/home/bruno/mestrado/Time-LLM/.venv/lib/python3.11/site-packages/neuralforecast/tsdataset.py:54: UserWarning: TypedStorage is deprecated. It will be removed in the future and UntypedStorage will be the only storage class. This should only matter to you if you are using storages directly.  To access UntypedStorage directly, use tensor.untyped_storage() instead of tensor.storage()\n",
      "  storage = elem.storage()._new_shared(numel, device=elem.device)\n"
     ]
    },
    {
     "name": "stdout",
     "output_type": "stream",
     "text": [
      "Epoch 100:   0%|          | 0/1 [00:00<?, ?it/s, v_num=9, train_loss_step=0.273, train_loss_epoch=0.273, valid_loss=0.103]       "
     ]
    },
    {
     "name": "stderr",
     "output_type": "stream",
     "text": [
      "/home/bruno/mestrado/Time-LLM/.venv/lib/python3.11/site-packages/neuralforecast/tsdataset.py:54: UserWarning: TypedStorage is deprecated. It will be removed in the future and UntypedStorage will be the only storage class. This should only matter to you if you are using storages directly.  To access UntypedStorage directly, use tensor.untyped_storage() instead of tensor.storage()\n",
      "  storage = elem.storage()._new_shared(numel, device=elem.device)\n"
     ]
    },
    {
     "name": "stdout",
     "output_type": "stream",
     "text": [
      "Epoch 101:   0%|          | 0/1 [00:00<?, ?it/s, v_num=9, train_loss_step=0.259, train_loss_epoch=0.259, valid_loss=0.103]        "
     ]
    },
    {
     "name": "stderr",
     "output_type": "stream",
     "text": [
      "/home/bruno/mestrado/Time-LLM/.venv/lib/python3.11/site-packages/neuralforecast/tsdataset.py:54: UserWarning: TypedStorage is deprecated. It will be removed in the future and UntypedStorage will be the only storage class. This should only matter to you if you are using storages directly.  To access UntypedStorage directly, use tensor.untyped_storage() instead of tensor.storage()\n",
      "  storage = elem.storage()._new_shared(numel, device=elem.device)\n"
     ]
    },
    {
     "name": "stdout",
     "output_type": "stream",
     "text": [
      "Epoch 102:   0%|          | 0/1 [00:00<?, ?it/s, v_num=9, train_loss_step=0.138, train_loss_epoch=0.138, valid_loss=0.103]        "
     ]
    },
    {
     "name": "stderr",
     "output_type": "stream",
     "text": [
      "/home/bruno/mestrado/Time-LLM/.venv/lib/python3.11/site-packages/neuralforecast/tsdataset.py:54: UserWarning: TypedStorage is deprecated. It will be removed in the future and UntypedStorage will be the only storage class. This should only matter to you if you are using storages directly.  To access UntypedStorage directly, use tensor.untyped_storage() instead of tensor.storage()\n",
      "  storage = elem.storage()._new_shared(numel, device=elem.device)\n"
     ]
    },
    {
     "name": "stdout",
     "output_type": "stream",
     "text": [
      "Epoch 103:   0%|          | 0/1 [00:00<?, ?it/s, v_num=9, train_loss_step=0.0701, train_loss_epoch=0.0701, valid_loss=0.103]        "
     ]
    },
    {
     "name": "stderr",
     "output_type": "stream",
     "text": [
      "/home/bruno/mestrado/Time-LLM/.venv/lib/python3.11/site-packages/neuralforecast/tsdataset.py:54: UserWarning: TypedStorage is deprecated. It will be removed in the future and UntypedStorage will be the only storage class. This should only matter to you if you are using storages directly.  To access UntypedStorage directly, use tensor.untyped_storage() instead of tensor.storage()\n",
      "  storage = elem.storage()._new_shared(numel, device=elem.device)\n"
     ]
    },
    {
     "name": "stdout",
     "output_type": "stream",
     "text": [
      "Epoch 104:   0%|          | 0/1 [00:00<?, ?it/s, v_num=9, train_loss_step=0.150, train_loss_epoch=0.150, valid_loss=0.103]          "
     ]
    },
    {
     "name": "stderr",
     "output_type": "stream",
     "text": [
      "/home/bruno/mestrado/Time-LLM/.venv/lib/python3.11/site-packages/neuralforecast/tsdataset.py:54: UserWarning: TypedStorage is deprecated. It will be removed in the future and UntypedStorage will be the only storage class. This should only matter to you if you are using storages directly.  To access UntypedStorage directly, use tensor.untyped_storage() instead of tensor.storage()\n",
      "  storage = elem.storage()._new_shared(numel, device=elem.device)\n"
     ]
    },
    {
     "name": "stdout",
     "output_type": "stream",
     "text": [
      "Epoch 105:   0%|          | 0/1 [00:00<?, ?it/s, v_num=9, train_loss_step=0.222, train_loss_epoch=0.222, valid_loss=0.103]        "
     ]
    },
    {
     "name": "stderr",
     "output_type": "stream",
     "text": [
      "/home/bruno/mestrado/Time-LLM/.venv/lib/python3.11/site-packages/neuralforecast/tsdataset.py:54: UserWarning: TypedStorage is deprecated. It will be removed in the future and UntypedStorage will be the only storage class. This should only matter to you if you are using storages directly.  To access UntypedStorage directly, use tensor.untyped_storage() instead of tensor.storage()\n",
      "  storage = elem.storage()._new_shared(numel, device=elem.device)\n"
     ]
    },
    {
     "name": "stdout",
     "output_type": "stream",
     "text": [
      "Epoch 106:   0%|          | 0/1 [00:00<?, ?it/s, v_num=9, train_loss_step=0.163, train_loss_epoch=0.163, valid_loss=0.103]        "
     ]
    },
    {
     "name": "stderr",
     "output_type": "stream",
     "text": [
      "/home/bruno/mestrado/Time-LLM/.venv/lib/python3.11/site-packages/neuralforecast/tsdataset.py:54: UserWarning: TypedStorage is deprecated. It will be removed in the future and UntypedStorage will be the only storage class. This should only matter to you if you are using storages directly.  To access UntypedStorage directly, use tensor.untyped_storage() instead of tensor.storage()\n",
      "  storage = elem.storage()._new_shared(numel, device=elem.device)\n"
     ]
    },
    {
     "name": "stdout",
     "output_type": "stream",
     "text": [
      "Epoch 107:   0%|          | 0/1 [00:00<?, ?it/s, v_num=9, train_loss_step=0.250, train_loss_epoch=0.250, valid_loss=0.103]        "
     ]
    },
    {
     "name": "stderr",
     "output_type": "stream",
     "text": [
      "/home/bruno/mestrado/Time-LLM/.venv/lib/python3.11/site-packages/neuralforecast/tsdataset.py:54: UserWarning: TypedStorage is deprecated. It will be removed in the future and UntypedStorage will be the only storage class. This should only matter to you if you are using storages directly.  To access UntypedStorage directly, use tensor.untyped_storage() instead of tensor.storage()\n",
      "  storage = elem.storage()._new_shared(numel, device=elem.device)\n"
     ]
    },
    {
     "name": "stdout",
     "output_type": "stream",
     "text": [
      "Epoch 108:   0%|          | 0/1 [00:00<?, ?it/s, v_num=9, train_loss_step=0.0942, train_loss_epoch=0.0942, valid_loss=0.103]        "
     ]
    },
    {
     "name": "stderr",
     "output_type": "stream",
     "text": [
      "/home/bruno/mestrado/Time-LLM/.venv/lib/python3.11/site-packages/neuralforecast/tsdataset.py:54: UserWarning: TypedStorage is deprecated. It will be removed in the future and UntypedStorage will be the only storage class. This should only matter to you if you are using storages directly.  To access UntypedStorage directly, use tensor.untyped_storage() instead of tensor.storage()\n",
      "  storage = elem.storage()._new_shared(numel, device=elem.device)\n"
     ]
    },
    {
     "name": "stdout",
     "output_type": "stream",
     "text": [
      "Epoch 109:   0%|          | 0/1 [00:00<?, ?it/s, v_num=9, train_loss_step=0.145, train_loss_epoch=0.145, valid_loss=0.103]          "
     ]
    },
    {
     "name": "stderr",
     "output_type": "stream",
     "text": [
      "/home/bruno/mestrado/Time-LLM/.venv/lib/python3.11/site-packages/neuralforecast/tsdataset.py:54: UserWarning: TypedStorage is deprecated. It will be removed in the future and UntypedStorage will be the only storage class. This should only matter to you if you are using storages directly.  To access UntypedStorage directly, use tensor.untyped_storage() instead of tensor.storage()\n",
      "  storage = elem.storage()._new_shared(numel, device=elem.device)\n"
     ]
    },
    {
     "name": "stdout",
     "output_type": "stream",
     "text": [
      "Epoch 110:   0%|          | 0/1 [00:00<?, ?it/s, v_num=9, train_loss_step=0.180, train_loss_epoch=0.180, valid_loss=0.103]        "
     ]
    },
    {
     "name": "stderr",
     "output_type": "stream",
     "text": [
      "/home/bruno/mestrado/Time-LLM/.venv/lib/python3.11/site-packages/neuralforecast/tsdataset.py:54: UserWarning: TypedStorage is deprecated. It will be removed in the future and UntypedStorage will be the only storage class. This should only matter to you if you are using storages directly.  To access UntypedStorage directly, use tensor.untyped_storage() instead of tensor.storage()\n",
      "  storage = elem.storage()._new_shared(numel, device=elem.device)\n"
     ]
    },
    {
     "name": "stdout",
     "output_type": "stream",
     "text": [
      "Epoch 111:   0%|          | 0/1 [00:00<?, ?it/s, v_num=9, train_loss_step=0.134, train_loss_epoch=0.134, valid_loss=0.103]        "
     ]
    },
    {
     "name": "stderr",
     "output_type": "stream",
     "text": [
      "/home/bruno/mestrado/Time-LLM/.venv/lib/python3.11/site-packages/neuralforecast/tsdataset.py:54: UserWarning: TypedStorage is deprecated. It will be removed in the future and UntypedStorage will be the only storage class. This should only matter to you if you are using storages directly.  To access UntypedStorage directly, use tensor.untyped_storage() instead of tensor.storage()\n",
      "  storage = elem.storage()._new_shared(numel, device=elem.device)\n"
     ]
    },
    {
     "name": "stdout",
     "output_type": "stream",
     "text": [
      "Epoch 112:   0%|          | 0/1 [00:00<?, ?it/s, v_num=9, train_loss_step=0.226, train_loss_epoch=0.226, valid_loss=0.103]        "
     ]
    },
    {
     "name": "stderr",
     "output_type": "stream",
     "text": [
      "/home/bruno/mestrado/Time-LLM/.venv/lib/python3.11/site-packages/neuralforecast/tsdataset.py:54: UserWarning: TypedStorage is deprecated. It will be removed in the future and UntypedStorage will be the only storage class. This should only matter to you if you are using storages directly.  To access UntypedStorage directly, use tensor.untyped_storage() instead of tensor.storage()\n",
      "  storage = elem.storage()._new_shared(numel, device=elem.device)\n"
     ]
    },
    {
     "name": "stdout",
     "output_type": "stream",
     "text": [
      "Epoch 113:   0%|          | 0/1 [00:00<?, ?it/s, v_num=9, train_loss_step=0.159, train_loss_epoch=0.159, valid_loss=0.103]        "
     ]
    },
    {
     "name": "stderr",
     "output_type": "stream",
     "text": [
      "/home/bruno/mestrado/Time-LLM/.venv/lib/python3.11/site-packages/neuralforecast/tsdataset.py:54: UserWarning: TypedStorage is deprecated. It will be removed in the future and UntypedStorage will be the only storage class. This should only matter to you if you are using storages directly.  To access UntypedStorage directly, use tensor.untyped_storage() instead of tensor.storage()\n",
      "  storage = elem.storage()._new_shared(numel, device=elem.device)\n"
     ]
    },
    {
     "name": "stdout",
     "output_type": "stream",
     "text": [
      "Epoch 114:   0%|          | 0/1 [00:00<?, ?it/s, v_num=9, train_loss_step=0.200, train_loss_epoch=0.200, valid_loss=0.103]        "
     ]
    },
    {
     "name": "stderr",
     "output_type": "stream",
     "text": [
      "/home/bruno/mestrado/Time-LLM/.venv/lib/python3.11/site-packages/neuralforecast/tsdataset.py:54: UserWarning: TypedStorage is deprecated. It will be removed in the future and UntypedStorage will be the only storage class. This should only matter to you if you are using storages directly.  To access UntypedStorage directly, use tensor.untyped_storage() instead of tensor.storage()\n",
      "  storage = elem.storage()._new_shared(numel, device=elem.device)\n"
     ]
    },
    {
     "name": "stdout",
     "output_type": "stream",
     "text": [
      "Epoch 115:   0%|          | 0/1 [00:00<?, ?it/s, v_num=9, train_loss_step=0.248, train_loss_epoch=0.248, valid_loss=0.103]        "
     ]
    },
    {
     "name": "stderr",
     "output_type": "stream",
     "text": [
      "/home/bruno/mestrado/Time-LLM/.venv/lib/python3.11/site-packages/neuralforecast/tsdataset.py:54: UserWarning: TypedStorage is deprecated. It will be removed in the future and UntypedStorage will be the only storage class. This should only matter to you if you are using storages directly.  To access UntypedStorage directly, use tensor.untyped_storage() instead of tensor.storage()\n",
      "  storage = elem.storage()._new_shared(numel, device=elem.device)\n"
     ]
    },
    {
     "name": "stdout",
     "output_type": "stream",
     "text": [
      "Epoch 116:   0%|          | 0/1 [00:00<?, ?it/s, v_num=9, train_loss_step=0.198, train_loss_epoch=0.198, valid_loss=0.103]        "
     ]
    },
    {
     "name": "stderr",
     "output_type": "stream",
     "text": [
      "/home/bruno/mestrado/Time-LLM/.venv/lib/python3.11/site-packages/neuralforecast/tsdataset.py:54: UserWarning: TypedStorage is deprecated. It will be removed in the future and UntypedStorage will be the only storage class. This should only matter to you if you are using storages directly.  To access UntypedStorage directly, use tensor.untyped_storage() instead of tensor.storage()\n",
      "  storage = elem.storage()._new_shared(numel, device=elem.device)\n"
     ]
    },
    {
     "name": "stdout",
     "output_type": "stream",
     "text": [
      "Epoch 117:   0%|          | 0/1 [00:00<?, ?it/s, v_num=9, train_loss_step=0.140, train_loss_epoch=0.140, valid_loss=0.103]        "
     ]
    },
    {
     "name": "stderr",
     "output_type": "stream",
     "text": [
      "/home/bruno/mestrado/Time-LLM/.venv/lib/python3.11/site-packages/neuralforecast/tsdataset.py:54: UserWarning: TypedStorage is deprecated. It will be removed in the future and UntypedStorage will be the only storage class. This should only matter to you if you are using storages directly.  To access UntypedStorage directly, use tensor.untyped_storage() instead of tensor.storage()\n",
      "  storage = elem.storage()._new_shared(numel, device=elem.device)\n"
     ]
    },
    {
     "name": "stdout",
     "output_type": "stream",
     "text": [
      "Epoch 118:   0%|          | 0/1 [00:00<?, ?it/s, v_num=9, train_loss_step=0.382, train_loss_epoch=0.382, valid_loss=0.103]        "
     ]
    },
    {
     "name": "stderr",
     "output_type": "stream",
     "text": [
      "/home/bruno/mestrado/Time-LLM/.venv/lib/python3.11/site-packages/neuralforecast/tsdataset.py:54: UserWarning: TypedStorage is deprecated. It will be removed in the future and UntypedStorage will be the only storage class. This should only matter to you if you are using storages directly.  To access UntypedStorage directly, use tensor.untyped_storage() instead of tensor.storage()\n",
      "  storage = elem.storage()._new_shared(numel, device=elem.device)\n"
     ]
    },
    {
     "name": "stdout",
     "output_type": "stream",
     "text": [
      "Epoch 119:   0%|          | 0/1 [00:00<?, ?it/s, v_num=9, train_loss_step=0.216, train_loss_epoch=0.216, valid_loss=0.103]        "
     ]
    },
    {
     "name": "stderr",
     "output_type": "stream",
     "text": [
      "/home/bruno/mestrado/Time-LLM/.venv/lib/python3.11/site-packages/neuralforecast/tsdataset.py:54: UserWarning: TypedStorage is deprecated. It will be removed in the future and UntypedStorage will be the only storage class. This should only matter to you if you are using storages directly.  To access UntypedStorage directly, use tensor.untyped_storage() instead of tensor.storage()\n",
      "  storage = elem.storage()._new_shared(numel, device=elem.device)\n"
     ]
    },
    {
     "name": "stdout",
     "output_type": "stream",
     "text": [
      "Epoch 120:   0%|          | 0/1 [00:00<?, ?it/s, v_num=9, train_loss_step=0.167, train_loss_epoch=0.167, valid_loss=0.103]        "
     ]
    },
    {
     "name": "stderr",
     "output_type": "stream",
     "text": [
      "/home/bruno/mestrado/Time-LLM/.venv/lib/python3.11/site-packages/neuralforecast/tsdataset.py:54: UserWarning: TypedStorage is deprecated. It will be removed in the future and UntypedStorage will be the only storage class. This should only matter to you if you are using storages directly.  To access UntypedStorage directly, use tensor.untyped_storage() instead of tensor.storage()\n",
      "  storage = elem.storage()._new_shared(numel, device=elem.device)\n"
     ]
    },
    {
     "name": "stdout",
     "output_type": "stream",
     "text": [
      "Epoch 121:   0%|          | 0/1 [00:00<?, ?it/s, v_num=9, train_loss_step=0.187, train_loss_epoch=0.187, valid_loss=0.103]        "
     ]
    },
    {
     "name": "stderr",
     "output_type": "stream",
     "text": [
      "/home/bruno/mestrado/Time-LLM/.venv/lib/python3.11/site-packages/neuralforecast/tsdataset.py:54: UserWarning: TypedStorage is deprecated. It will be removed in the future and UntypedStorage will be the only storage class. This should only matter to you if you are using storages directly.  To access UntypedStorage directly, use tensor.untyped_storage() instead of tensor.storage()\n",
      "  storage = elem.storage()._new_shared(numel, device=elem.device)\n"
     ]
    },
    {
     "name": "stdout",
     "output_type": "stream",
     "text": [
      "Epoch 122:   0%|          | 0/1 [00:00<?, ?it/s, v_num=9, train_loss_step=0.183, train_loss_epoch=0.183, valid_loss=0.103]        "
     ]
    },
    {
     "name": "stderr",
     "output_type": "stream",
     "text": [
      "/home/bruno/mestrado/Time-LLM/.venv/lib/python3.11/site-packages/neuralforecast/tsdataset.py:54: UserWarning: TypedStorage is deprecated. It will be removed in the future and UntypedStorage will be the only storage class. This should only matter to you if you are using storages directly.  To access UntypedStorage directly, use tensor.untyped_storage() instead of tensor.storage()\n",
      "  storage = elem.storage()._new_shared(numel, device=elem.device)\n"
     ]
    },
    {
     "name": "stdout",
     "output_type": "stream",
     "text": [
      "Epoch 123:   0%|          | 0/1 [00:00<?, ?it/s, v_num=9, train_loss_step=0.126, train_loss_epoch=0.126, valid_loss=0.103]        "
     ]
    },
    {
     "name": "stderr",
     "output_type": "stream",
     "text": [
      "/home/bruno/mestrado/Time-LLM/.venv/lib/python3.11/site-packages/neuralforecast/tsdataset.py:54: UserWarning: TypedStorage is deprecated. It will be removed in the future and UntypedStorage will be the only storage class. This should only matter to you if you are using storages directly.  To access UntypedStorage directly, use tensor.untyped_storage() instead of tensor.storage()\n",
      "  storage = elem.storage()._new_shared(numel, device=elem.device)\n"
     ]
    },
    {
     "name": "stdout",
     "output_type": "stream",
     "text": [
      "Epoch 124:   0%|          | 0/1 [00:00<?, ?it/s, v_num=9, train_loss_step=0.190, train_loss_epoch=0.190, valid_loss=0.103]        "
     ]
    },
    {
     "name": "stderr",
     "output_type": "stream",
     "text": [
      "/home/bruno/mestrado/Time-LLM/.venv/lib/python3.11/site-packages/neuralforecast/tsdataset.py:54: UserWarning: TypedStorage is deprecated. It will be removed in the future and UntypedStorage will be the only storage class. This should only matter to you if you are using storages directly.  To access UntypedStorage directly, use tensor.untyped_storage() instead of tensor.storage()\n",
      "  storage = elem.storage()._new_shared(numel, device=elem.device)\n"
     ]
    },
    {
     "name": "stdout",
     "output_type": "stream",
     "text": [
      "Epoch 125:   0%|          | 0/1 [00:00<?, ?it/s, v_num=9, train_loss_step=0.191, train_loss_epoch=0.191, valid_loss=0.103]        "
     ]
    },
    {
     "name": "stderr",
     "output_type": "stream",
     "text": [
      "/home/bruno/mestrado/Time-LLM/.venv/lib/python3.11/site-packages/neuralforecast/tsdataset.py:54: UserWarning: TypedStorage is deprecated. It will be removed in the future and UntypedStorage will be the only storage class. This should only matter to you if you are using storages directly.  To access UntypedStorage directly, use tensor.untyped_storage() instead of tensor.storage()\n",
      "  storage = elem.storage()._new_shared(numel, device=elem.device)\n"
     ]
    },
    {
     "name": "stdout",
     "output_type": "stream",
     "text": [
      "Epoch 126:   0%|          | 0/1 [00:00<?, ?it/s, v_num=9, train_loss_step=0.220, train_loss_epoch=0.220, valid_loss=0.103]        "
     ]
    },
    {
     "name": "stderr",
     "output_type": "stream",
     "text": [
      "/home/bruno/mestrado/Time-LLM/.venv/lib/python3.11/site-packages/neuralforecast/tsdataset.py:54: UserWarning: TypedStorage is deprecated. It will be removed in the future and UntypedStorage will be the only storage class. This should only matter to you if you are using storages directly.  To access UntypedStorage directly, use tensor.untyped_storage() instead of tensor.storage()\n",
      "  storage = elem.storage()._new_shared(numel, device=elem.device)\n"
     ]
    },
    {
     "name": "stdout",
     "output_type": "stream",
     "text": [
      "Epoch 127:   0%|          | 0/1 [00:00<?, ?it/s, v_num=9, train_loss_step=0.188, train_loss_epoch=0.188, valid_loss=0.103]        "
     ]
    },
    {
     "name": "stderr",
     "output_type": "stream",
     "text": [
      "/home/bruno/mestrado/Time-LLM/.venv/lib/python3.11/site-packages/neuralforecast/tsdataset.py:54: UserWarning: TypedStorage is deprecated. It will be removed in the future and UntypedStorage will be the only storage class. This should only matter to you if you are using storages directly.  To access UntypedStorage directly, use tensor.untyped_storage() instead of tensor.storage()\n",
      "  storage = elem.storage()._new_shared(numel, device=elem.device)\n"
     ]
    },
    {
     "name": "stdout",
     "output_type": "stream",
     "text": [
      "Epoch 128:   0%|          | 0/1 [00:00<?, ?it/s, v_num=9, train_loss_step=0.230, train_loss_epoch=0.230, valid_loss=0.103]        "
     ]
    },
    {
     "name": "stderr",
     "output_type": "stream",
     "text": [
      "/home/bruno/mestrado/Time-LLM/.venv/lib/python3.11/site-packages/neuralforecast/tsdataset.py:54: UserWarning: TypedStorage is deprecated. It will be removed in the future and UntypedStorage will be the only storage class. This should only matter to you if you are using storages directly.  To access UntypedStorage directly, use tensor.untyped_storage() instead of tensor.storage()\n",
      "  storage = elem.storage()._new_shared(numel, device=elem.device)\n"
     ]
    },
    {
     "name": "stdout",
     "output_type": "stream",
     "text": [
      "Epoch 129:   0%|          | 0/1 [00:00<?, ?it/s, v_num=9, train_loss_step=0.231, train_loss_epoch=0.231, valid_loss=0.103]        "
     ]
    },
    {
     "name": "stderr",
     "output_type": "stream",
     "text": [
      "/home/bruno/mestrado/Time-LLM/.venv/lib/python3.11/site-packages/neuralforecast/tsdataset.py:54: UserWarning: TypedStorage is deprecated. It will be removed in the future and UntypedStorage will be the only storage class. This should only matter to you if you are using storages directly.  To access UntypedStorage directly, use tensor.untyped_storage() instead of tensor.storage()\n",
      "  storage = elem.storage()._new_shared(numel, device=elem.device)\n"
     ]
    },
    {
     "name": "stdout",
     "output_type": "stream",
     "text": [
      "Epoch 130:   0%|          | 0/1 [00:00<?, ?it/s, v_num=9, train_loss_step=0.139, train_loss_epoch=0.139, valid_loss=0.103]        "
     ]
    },
    {
     "name": "stderr",
     "output_type": "stream",
     "text": [
      "/home/bruno/mestrado/Time-LLM/.venv/lib/python3.11/site-packages/neuralforecast/tsdataset.py:54: UserWarning: TypedStorage is deprecated. It will be removed in the future and UntypedStorage will be the only storage class. This should only matter to you if you are using storages directly.  To access UntypedStorage directly, use tensor.untyped_storage() instead of tensor.storage()\n",
      "  storage = elem.storage()._new_shared(numel, device=elem.device)\n"
     ]
    },
    {
     "name": "stdout",
     "output_type": "stream",
     "text": [
      "Epoch 131:   0%|          | 0/1 [00:00<?, ?it/s, v_num=9, train_loss_step=0.122, train_loss_epoch=0.122, valid_loss=0.103]        "
     ]
    },
    {
     "name": "stderr",
     "output_type": "stream",
     "text": [
      "/home/bruno/mestrado/Time-LLM/.venv/lib/python3.11/site-packages/neuralforecast/tsdataset.py:54: UserWarning: TypedStorage is deprecated. It will be removed in the future and UntypedStorage will be the only storage class. This should only matter to you if you are using storages directly.  To access UntypedStorage directly, use tensor.untyped_storage() instead of tensor.storage()\n",
      "  storage = elem.storage()._new_shared(numel, device=elem.device)\n"
     ]
    },
    {
     "name": "stdout",
     "output_type": "stream",
     "text": [
      "Epoch 132:   0%|          | 0/1 [00:00<?, ?it/s, v_num=9, train_loss_step=0.113, train_loss_epoch=0.113, valid_loss=0.103]        "
     ]
    },
    {
     "name": "stderr",
     "output_type": "stream",
     "text": [
      "/home/bruno/mestrado/Time-LLM/.venv/lib/python3.11/site-packages/neuralforecast/tsdataset.py:54: UserWarning: TypedStorage is deprecated. It will be removed in the future and UntypedStorage will be the only storage class. This should only matter to you if you are using storages directly.  To access UntypedStorage directly, use tensor.untyped_storage() instead of tensor.storage()\n",
      "  storage = elem.storage()._new_shared(numel, device=elem.device)\n"
     ]
    },
    {
     "name": "stdout",
     "output_type": "stream",
     "text": [
      "Epoch 133:   0%|          | 0/1 [00:00<?, ?it/s, v_num=9, train_loss_step=0.239, train_loss_epoch=0.239, valid_loss=0.103]        "
     ]
    },
    {
     "name": "stderr",
     "output_type": "stream",
     "text": [
      "/home/bruno/mestrado/Time-LLM/.venv/lib/python3.11/site-packages/neuralforecast/tsdataset.py:54: UserWarning: TypedStorage is deprecated. It will be removed in the future and UntypedStorage will be the only storage class. This should only matter to you if you are using storages directly.  To access UntypedStorage directly, use tensor.untyped_storage() instead of tensor.storage()\n",
      "  storage = elem.storage()._new_shared(numel, device=elem.device)\n"
     ]
    },
    {
     "name": "stdout",
     "output_type": "stream",
     "text": [
      "Epoch 134:   0%|          | 0/1 [00:00<?, ?it/s, v_num=9, train_loss_step=0.111, train_loss_epoch=0.111, valid_loss=0.103]        "
     ]
    },
    {
     "name": "stderr",
     "output_type": "stream",
     "text": [
      "/home/bruno/mestrado/Time-LLM/.venv/lib/python3.11/site-packages/neuralforecast/tsdataset.py:54: UserWarning: TypedStorage is deprecated. It will be removed in the future and UntypedStorage will be the only storage class. This should only matter to you if you are using storages directly.  To access UntypedStorage directly, use tensor.untyped_storage() instead of tensor.storage()\n",
      "  storage = elem.storage()._new_shared(numel, device=elem.device)\n"
     ]
    },
    {
     "name": "stdout",
     "output_type": "stream",
     "text": [
      "Epoch 135:   0%|          | 0/1 [00:00<?, ?it/s, v_num=9, train_loss_step=0.245, train_loss_epoch=0.245, valid_loss=0.103]        "
     ]
    },
    {
     "name": "stderr",
     "output_type": "stream",
     "text": [
      "/home/bruno/mestrado/Time-LLM/.venv/lib/python3.11/site-packages/neuralforecast/tsdataset.py:54: UserWarning: TypedStorage is deprecated. It will be removed in the future and UntypedStorage will be the only storage class. This should only matter to you if you are using storages directly.  To access UntypedStorage directly, use tensor.untyped_storage() instead of tensor.storage()\n",
      "  storage = elem.storage()._new_shared(numel, device=elem.device)\n"
     ]
    },
    {
     "name": "stdout",
     "output_type": "stream",
     "text": [
      "Epoch 136:   0%|          | 0/1 [00:00<?, ?it/s, v_num=9, train_loss_step=0.269, train_loss_epoch=0.269, valid_loss=0.103]        "
     ]
    },
    {
     "name": "stderr",
     "output_type": "stream",
     "text": [
      "/home/bruno/mestrado/Time-LLM/.venv/lib/python3.11/site-packages/neuralforecast/tsdataset.py:54: UserWarning: TypedStorage is deprecated. It will be removed in the future and UntypedStorage will be the only storage class. This should only matter to you if you are using storages directly.  To access UntypedStorage directly, use tensor.untyped_storage() instead of tensor.storage()\n",
      "  storage = elem.storage()._new_shared(numel, device=elem.device)\n"
     ]
    },
    {
     "name": "stdout",
     "output_type": "stream",
     "text": [
      "Epoch 137:   0%|          | 0/1 [00:00<?, ?it/s, v_num=9, train_loss_step=0.188, train_loss_epoch=0.188, valid_loss=0.103]        "
     ]
    },
    {
     "name": "stderr",
     "output_type": "stream",
     "text": [
      "/home/bruno/mestrado/Time-LLM/.venv/lib/python3.11/site-packages/neuralforecast/tsdataset.py:54: UserWarning: TypedStorage is deprecated. It will be removed in the future and UntypedStorage will be the only storage class. This should only matter to you if you are using storages directly.  To access UntypedStorage directly, use tensor.untyped_storage() instead of tensor.storage()\n",
      "  storage = elem.storage()._new_shared(numel, device=elem.device)\n"
     ]
    },
    {
     "name": "stdout",
     "output_type": "stream",
     "text": [
      "Epoch 138:   0%|          | 0/1 [00:00<?, ?it/s, v_num=9, train_loss_step=0.0946, train_loss_epoch=0.0946, valid_loss=0.103]        "
     ]
    },
    {
     "name": "stderr",
     "output_type": "stream",
     "text": [
      "/home/bruno/mestrado/Time-LLM/.venv/lib/python3.11/site-packages/neuralforecast/tsdataset.py:54: UserWarning: TypedStorage is deprecated. It will be removed in the future and UntypedStorage will be the only storage class. This should only matter to you if you are using storages directly.  To access UntypedStorage directly, use tensor.untyped_storage() instead of tensor.storage()\n",
      "  storage = elem.storage()._new_shared(numel, device=elem.device)\n"
     ]
    },
    {
     "name": "stdout",
     "output_type": "stream",
     "text": [
      "Epoch 139:   0%|          | 0/1 [00:00<?, ?it/s, v_num=9, train_loss_step=0.115, train_loss_epoch=0.115, valid_loss=0.103]          "
     ]
    },
    {
     "name": "stderr",
     "output_type": "stream",
     "text": [
      "/home/bruno/mestrado/Time-LLM/.venv/lib/python3.11/site-packages/neuralforecast/tsdataset.py:54: UserWarning: TypedStorage is deprecated. It will be removed in the future and UntypedStorage will be the only storage class. This should only matter to you if you are using storages directly.  To access UntypedStorage directly, use tensor.untyped_storage() instead of tensor.storage()\n",
      "  storage = elem.storage()._new_shared(numel, device=elem.device)\n"
     ]
    },
    {
     "name": "stdout",
     "output_type": "stream",
     "text": [
      "Epoch 140:   0%|          | 0/1 [00:00<?, ?it/s, v_num=9, train_loss_step=0.139, train_loss_epoch=0.139, valid_loss=0.103]        "
     ]
    },
    {
     "name": "stderr",
     "output_type": "stream",
     "text": [
      "/home/bruno/mestrado/Time-LLM/.venv/lib/python3.11/site-packages/neuralforecast/tsdataset.py:54: UserWarning: TypedStorage is deprecated. It will be removed in the future and UntypedStorage will be the only storage class. This should only matter to you if you are using storages directly.  To access UntypedStorage directly, use tensor.untyped_storage() instead of tensor.storage()\n",
      "  storage = elem.storage()._new_shared(numel, device=elem.device)\n"
     ]
    },
    {
     "name": "stdout",
     "output_type": "stream",
     "text": [
      "Epoch 141:   0%|          | 0/1 [00:00<?, ?it/s, v_num=9, train_loss_step=0.146, train_loss_epoch=0.146, valid_loss=0.103]        "
     ]
    },
    {
     "name": "stderr",
     "output_type": "stream",
     "text": [
      "/home/bruno/mestrado/Time-LLM/.venv/lib/python3.11/site-packages/neuralforecast/tsdataset.py:54: UserWarning: TypedStorage is deprecated. It will be removed in the future and UntypedStorage will be the only storage class. This should only matter to you if you are using storages directly.  To access UntypedStorage directly, use tensor.untyped_storage() instead of tensor.storage()\n",
      "  storage = elem.storage()._new_shared(numel, device=elem.device)\n"
     ]
    },
    {
     "name": "stdout",
     "output_type": "stream",
     "text": [
      "Epoch 142:   0%|          | 0/1 [00:00<?, ?it/s, v_num=9, train_loss_step=0.136, train_loss_epoch=0.136, valid_loss=0.103]        "
     ]
    },
    {
     "name": "stderr",
     "output_type": "stream",
     "text": [
      "/home/bruno/mestrado/Time-LLM/.venv/lib/python3.11/site-packages/neuralforecast/tsdataset.py:54: UserWarning: TypedStorage is deprecated. It will be removed in the future and UntypedStorage will be the only storage class. This should only matter to you if you are using storages directly.  To access UntypedStorage directly, use tensor.untyped_storage() instead of tensor.storage()\n",
      "  storage = elem.storage()._new_shared(numel, device=elem.device)\n"
     ]
    },
    {
     "name": "stdout",
     "output_type": "stream",
     "text": [
      "Epoch 143:   0%|          | 0/1 [00:00<?, ?it/s, v_num=9, train_loss_step=0.259, train_loss_epoch=0.259, valid_loss=0.103]        "
     ]
    },
    {
     "name": "stderr",
     "output_type": "stream",
     "text": [
      "/home/bruno/mestrado/Time-LLM/.venv/lib/python3.11/site-packages/neuralforecast/tsdataset.py:54: UserWarning: TypedStorage is deprecated. It will be removed in the future and UntypedStorage will be the only storage class. This should only matter to you if you are using storages directly.  To access UntypedStorage directly, use tensor.untyped_storage() instead of tensor.storage()\n",
      "  storage = elem.storage()._new_shared(numel, device=elem.device)\n"
     ]
    },
    {
     "name": "stdout",
     "output_type": "stream",
     "text": [
      "Epoch 144:   0%|          | 0/1 [00:00<?, ?it/s, v_num=9, train_loss_step=0.295, train_loss_epoch=0.295, valid_loss=0.103]        "
     ]
    },
    {
     "name": "stderr",
     "output_type": "stream",
     "text": [
      "/home/bruno/mestrado/Time-LLM/.venv/lib/python3.11/site-packages/neuralforecast/tsdataset.py:54: UserWarning: TypedStorage is deprecated. It will be removed in the future and UntypedStorage will be the only storage class. This should only matter to you if you are using storages directly.  To access UntypedStorage directly, use tensor.untyped_storage() instead of tensor.storage()\n",
      "  storage = elem.storage()._new_shared(numel, device=elem.device)\n"
     ]
    },
    {
     "name": "stdout",
     "output_type": "stream",
     "text": [
      "Epoch 145:   0%|          | 0/1 [00:00<?, ?it/s, v_num=9, train_loss_step=0.296, train_loss_epoch=0.296, valid_loss=0.103]        "
     ]
    },
    {
     "name": "stderr",
     "output_type": "stream",
     "text": [
      "/home/bruno/mestrado/Time-LLM/.venv/lib/python3.11/site-packages/neuralforecast/tsdataset.py:54: UserWarning: TypedStorage is deprecated. It will be removed in the future and UntypedStorage will be the only storage class. This should only matter to you if you are using storages directly.  To access UntypedStorage directly, use tensor.untyped_storage() instead of tensor.storage()\n",
      "  storage = elem.storage()._new_shared(numel, device=elem.device)\n"
     ]
    },
    {
     "name": "stdout",
     "output_type": "stream",
     "text": [
      "Epoch 146:   0%|          | 0/1 [00:00<?, ?it/s, v_num=9, train_loss_step=0.165, train_loss_epoch=0.165, valid_loss=0.103]        "
     ]
    },
    {
     "name": "stderr",
     "output_type": "stream",
     "text": [
      "/home/bruno/mestrado/Time-LLM/.venv/lib/python3.11/site-packages/neuralforecast/tsdataset.py:54: UserWarning: TypedStorage is deprecated. It will be removed in the future and UntypedStorage will be the only storage class. This should only matter to you if you are using storages directly.  To access UntypedStorage directly, use tensor.untyped_storage() instead of tensor.storage()\n",
      "  storage = elem.storage()._new_shared(numel, device=elem.device)\n"
     ]
    },
    {
     "name": "stdout",
     "output_type": "stream",
     "text": [
      "Epoch 147:   0%|          | 0/1 [00:00<?, ?it/s, v_num=9, train_loss_step=0.173, train_loss_epoch=0.173, valid_loss=0.103]        "
     ]
    },
    {
     "name": "stderr",
     "output_type": "stream",
     "text": [
      "/home/bruno/mestrado/Time-LLM/.venv/lib/python3.11/site-packages/neuralforecast/tsdataset.py:54: UserWarning: TypedStorage is deprecated. It will be removed in the future and UntypedStorage will be the only storage class. This should only matter to you if you are using storages directly.  To access UntypedStorage directly, use tensor.untyped_storage() instead of tensor.storage()\n",
      "  storage = elem.storage()._new_shared(numel, device=elem.device)\n"
     ]
    },
    {
     "name": "stdout",
     "output_type": "stream",
     "text": [
      "Epoch 148:   0%|          | 0/1 [00:00<?, ?it/s, v_num=9, train_loss_step=0.180, train_loss_epoch=0.180, valid_loss=0.103]        "
     ]
    },
    {
     "name": "stderr",
     "output_type": "stream",
     "text": [
      "/home/bruno/mestrado/Time-LLM/.venv/lib/python3.11/site-packages/neuralforecast/tsdataset.py:54: UserWarning: TypedStorage is deprecated. It will be removed in the future and UntypedStorage will be the only storage class. This should only matter to you if you are using storages directly.  To access UntypedStorage directly, use tensor.untyped_storage() instead of tensor.storage()\n",
      "  storage = elem.storage()._new_shared(numel, device=elem.device)\n"
     ]
    },
    {
     "name": "stdout",
     "output_type": "stream",
     "text": [
      "Epoch 149:   0%|          | 0/1 [00:00<?, ?it/s, v_num=9, train_loss_step=0.242, train_loss_epoch=0.242, valid_loss=0.103]        "
     ]
    },
    {
     "name": "stderr",
     "output_type": "stream",
     "text": [
      "/home/bruno/mestrado/Time-LLM/.venv/lib/python3.11/site-packages/neuralforecast/tsdataset.py:54: UserWarning: TypedStorage is deprecated. It will be removed in the future and UntypedStorage will be the only storage class. This should only matter to you if you are using storages directly.  To access UntypedStorage directly, use tensor.untyped_storage() instead of tensor.storage()\n",
      "  storage = elem.storage()._new_shared(numel, device=elem.device)\n"
     ]
    },
    {
     "name": "stdout",
     "output_type": "stream",
     "text": [
      "Epoch 150:   0%|          | 0/1 [00:00<?, ?it/s, v_num=9, train_loss_step=0.332, train_loss_epoch=0.332, valid_loss=0.103]        "
     ]
    },
    {
     "name": "stderr",
     "output_type": "stream",
     "text": [
      "/home/bruno/mestrado/Time-LLM/.venv/lib/python3.11/site-packages/neuralforecast/tsdataset.py:54: UserWarning: TypedStorage is deprecated. It will be removed in the future and UntypedStorage will be the only storage class. This should only matter to you if you are using storages directly.  To access UntypedStorage directly, use tensor.untyped_storage() instead of tensor.storage()\n",
      "  storage = elem.storage()._new_shared(numel, device=elem.device)\n"
     ]
    },
    {
     "name": "stdout",
     "output_type": "stream",
     "text": [
      "Epoch 151:   0%|          | 0/1 [00:00<?, ?it/s, v_num=9, train_loss_step=0.113, train_loss_epoch=0.113, valid_loss=0.103]        "
     ]
    },
    {
     "name": "stderr",
     "output_type": "stream",
     "text": [
      "/home/bruno/mestrado/Time-LLM/.venv/lib/python3.11/site-packages/neuralforecast/tsdataset.py:54: UserWarning: TypedStorage is deprecated. It will be removed in the future and UntypedStorage will be the only storage class. This should only matter to you if you are using storages directly.  To access UntypedStorage directly, use tensor.untyped_storage() instead of tensor.storage()\n",
      "  storage = elem.storage()._new_shared(numel, device=elem.device)\n"
     ]
    },
    {
     "name": "stdout",
     "output_type": "stream",
     "text": [
      "Epoch 152:   0%|          | 0/1 [00:00<?, ?it/s, v_num=9, train_loss_step=0.251, train_loss_epoch=0.251, valid_loss=0.103]        "
     ]
    },
    {
     "name": "stderr",
     "output_type": "stream",
     "text": [
      "/home/bruno/mestrado/Time-LLM/.venv/lib/python3.11/site-packages/neuralforecast/tsdataset.py:54: UserWarning: TypedStorage is deprecated. It will be removed in the future and UntypedStorage will be the only storage class. This should only matter to you if you are using storages directly.  To access UntypedStorage directly, use tensor.untyped_storage() instead of tensor.storage()\n",
      "  storage = elem.storage()._new_shared(numel, device=elem.device)\n"
     ]
    },
    {
     "name": "stdout",
     "output_type": "stream",
     "text": [
      "Epoch 153:   0%|          | 0/1 [00:00<?, ?it/s, v_num=9, train_loss_step=0.150, train_loss_epoch=0.150, valid_loss=0.103]        "
     ]
    },
    {
     "name": "stderr",
     "output_type": "stream",
     "text": [
      "/home/bruno/mestrado/Time-LLM/.venv/lib/python3.11/site-packages/neuralforecast/tsdataset.py:54: UserWarning: TypedStorage is deprecated. It will be removed in the future and UntypedStorage will be the only storage class. This should only matter to you if you are using storages directly.  To access UntypedStorage directly, use tensor.untyped_storage() instead of tensor.storage()\n",
      "  storage = elem.storage()._new_shared(numel, device=elem.device)\n"
     ]
    },
    {
     "name": "stdout",
     "output_type": "stream",
     "text": [
      "Epoch 154:   0%|          | 0/1 [00:00<?, ?it/s, v_num=9, train_loss_step=0.164, train_loss_epoch=0.164, valid_loss=0.103]        "
     ]
    },
    {
     "name": "stderr",
     "output_type": "stream",
     "text": [
      "/home/bruno/mestrado/Time-LLM/.venv/lib/python3.11/site-packages/neuralforecast/tsdataset.py:54: UserWarning: TypedStorage is deprecated. It will be removed in the future and UntypedStorage will be the only storage class. This should only matter to you if you are using storages directly.  To access UntypedStorage directly, use tensor.untyped_storage() instead of tensor.storage()\n",
      "  storage = elem.storage()._new_shared(numel, device=elem.device)\n"
     ]
    },
    {
     "name": "stdout",
     "output_type": "stream",
     "text": [
      "Epoch 155:   0%|          | 0/1 [00:00<?, ?it/s, v_num=9, train_loss_step=0.175, train_loss_epoch=0.175, valid_loss=0.103]        "
     ]
    },
    {
     "name": "stderr",
     "output_type": "stream",
     "text": [
      "/home/bruno/mestrado/Time-LLM/.venv/lib/python3.11/site-packages/neuralforecast/tsdataset.py:54: UserWarning: TypedStorage is deprecated. It will be removed in the future and UntypedStorage will be the only storage class. This should only matter to you if you are using storages directly.  To access UntypedStorage directly, use tensor.untyped_storage() instead of tensor.storage()\n",
      "  storage = elem.storage()._new_shared(numel, device=elem.device)\n"
     ]
    },
    {
     "name": "stdout",
     "output_type": "stream",
     "text": [
      "Epoch 156:   0%|          | 0/1 [00:00<?, ?it/s, v_num=9, train_loss_step=0.136, train_loss_epoch=0.136, valid_loss=0.103]        "
     ]
    },
    {
     "name": "stderr",
     "output_type": "stream",
     "text": [
      "/home/bruno/mestrado/Time-LLM/.venv/lib/python3.11/site-packages/neuralforecast/tsdataset.py:54: UserWarning: TypedStorage is deprecated. It will be removed in the future and UntypedStorage will be the only storage class. This should only matter to you if you are using storages directly.  To access UntypedStorage directly, use tensor.untyped_storage() instead of tensor.storage()\n",
      "  storage = elem.storage()._new_shared(numel, device=elem.device)\n"
     ]
    },
    {
     "name": "stdout",
     "output_type": "stream",
     "text": [
      "Epoch 157:   0%|          | 0/1 [00:00<?, ?it/s, v_num=9, train_loss_step=0.123, train_loss_epoch=0.123, valid_loss=0.103]        "
     ]
    },
    {
     "name": "stderr",
     "output_type": "stream",
     "text": [
      "/home/bruno/mestrado/Time-LLM/.venv/lib/python3.11/site-packages/neuralforecast/tsdataset.py:54: UserWarning: TypedStorage is deprecated. It will be removed in the future and UntypedStorage will be the only storage class. This should only matter to you if you are using storages directly.  To access UntypedStorage directly, use tensor.untyped_storage() instead of tensor.storage()\n",
      "  storage = elem.storage()._new_shared(numel, device=elem.device)\n"
     ]
    },
    {
     "name": "stdout",
     "output_type": "stream",
     "text": [
      "Epoch 158:   0%|          | 0/1 [00:00<?, ?it/s, v_num=9, train_loss_step=0.220, train_loss_epoch=0.220, valid_loss=0.103]        "
     ]
    },
    {
     "name": "stderr",
     "output_type": "stream",
     "text": [
      "/home/bruno/mestrado/Time-LLM/.venv/lib/python3.11/site-packages/neuralforecast/tsdataset.py:54: UserWarning: TypedStorage is deprecated. It will be removed in the future and UntypedStorage will be the only storage class. This should only matter to you if you are using storages directly.  To access UntypedStorage directly, use tensor.untyped_storage() instead of tensor.storage()\n",
      "  storage = elem.storage()._new_shared(numel, device=elem.device)\n"
     ]
    },
    {
     "name": "stdout",
     "output_type": "stream",
     "text": [
      "Epoch 159:   0%|          | 0/1 [00:00<?, ?it/s, v_num=9, train_loss_step=0.163, train_loss_epoch=0.163, valid_loss=0.103]        "
     ]
    },
    {
     "name": "stderr",
     "output_type": "stream",
     "text": [
      "/home/bruno/mestrado/Time-LLM/.venv/lib/python3.11/site-packages/neuralforecast/tsdataset.py:54: UserWarning: TypedStorage is deprecated. It will be removed in the future and UntypedStorage will be the only storage class. This should only matter to you if you are using storages directly.  To access UntypedStorage directly, use tensor.untyped_storage() instead of tensor.storage()\n",
      "  storage = elem.storage()._new_shared(numel, device=elem.device)\n"
     ]
    },
    {
     "name": "stdout",
     "output_type": "stream",
     "text": [
      "Epoch 160:   0%|          | 0/1 [00:00<?, ?it/s, v_num=9, train_loss_step=0.129, train_loss_epoch=0.129, valid_loss=0.103]        "
     ]
    },
    {
     "name": "stderr",
     "output_type": "stream",
     "text": [
      "/home/bruno/mestrado/Time-LLM/.venv/lib/python3.11/site-packages/neuralforecast/tsdataset.py:54: UserWarning: TypedStorage is deprecated. It will be removed in the future and UntypedStorage will be the only storage class. This should only matter to you if you are using storages directly.  To access UntypedStorage directly, use tensor.untyped_storage() instead of tensor.storage()\n",
      "  storage = elem.storage()._new_shared(numel, device=elem.device)\n"
     ]
    },
    {
     "name": "stdout",
     "output_type": "stream",
     "text": [
      "Epoch 161:   0%|          | 0/1 [00:00<?, ?it/s, v_num=9, train_loss_step=0.212, train_loss_epoch=0.212, valid_loss=0.103]        "
     ]
    },
    {
     "name": "stderr",
     "output_type": "stream",
     "text": [
      "/home/bruno/mestrado/Time-LLM/.venv/lib/python3.11/site-packages/neuralforecast/tsdataset.py:54: UserWarning: TypedStorage is deprecated. It will be removed in the future and UntypedStorage will be the only storage class. This should only matter to you if you are using storages directly.  To access UntypedStorage directly, use tensor.untyped_storage() instead of tensor.storage()\n",
      "  storage = elem.storage()._new_shared(numel, device=elem.device)\n"
     ]
    },
    {
     "name": "stdout",
     "output_type": "stream",
     "text": [
      "Epoch 162:   0%|          | 0/1 [00:00<?, ?it/s, v_num=9, train_loss_step=0.217, train_loss_epoch=0.217, valid_loss=0.103]        "
     ]
    },
    {
     "name": "stderr",
     "output_type": "stream",
     "text": [
      "/home/bruno/mestrado/Time-LLM/.venv/lib/python3.11/site-packages/neuralforecast/tsdataset.py:54: UserWarning: TypedStorage is deprecated. It will be removed in the future and UntypedStorage will be the only storage class. This should only matter to you if you are using storages directly.  To access UntypedStorage directly, use tensor.untyped_storage() instead of tensor.storage()\n",
      "  storage = elem.storage()._new_shared(numel, device=elem.device)\n"
     ]
    },
    {
     "name": "stdout",
     "output_type": "stream",
     "text": [
      "Epoch 163:   0%|          | 0/1 [00:00<?, ?it/s, v_num=9, train_loss_step=0.134, train_loss_epoch=0.134, valid_loss=0.103]        "
     ]
    },
    {
     "name": "stderr",
     "output_type": "stream",
     "text": [
      "/home/bruno/mestrado/Time-LLM/.venv/lib/python3.11/site-packages/neuralforecast/tsdataset.py:54: UserWarning: TypedStorage is deprecated. It will be removed in the future and UntypedStorage will be the only storage class. This should only matter to you if you are using storages directly.  To access UntypedStorage directly, use tensor.untyped_storage() instead of tensor.storage()\n",
      "  storage = elem.storage()._new_shared(numel, device=elem.device)\n"
     ]
    },
    {
     "name": "stdout",
     "output_type": "stream",
     "text": [
      "Epoch 164:   0%|          | 0/1 [00:00<?, ?it/s, v_num=9, train_loss_step=0.156, train_loss_epoch=0.156, valid_loss=0.103]        "
     ]
    },
    {
     "name": "stderr",
     "output_type": "stream",
     "text": [
      "/home/bruno/mestrado/Time-LLM/.venv/lib/python3.11/site-packages/neuralforecast/tsdataset.py:54: UserWarning: TypedStorage is deprecated. It will be removed in the future and UntypedStorage will be the only storage class. This should only matter to you if you are using storages directly.  To access UntypedStorage directly, use tensor.untyped_storage() instead of tensor.storage()\n",
      "  storage = elem.storage()._new_shared(numel, device=elem.device)\n"
     ]
    },
    {
     "name": "stdout",
     "output_type": "stream",
     "text": [
      "Epoch 165:   0%|          | 0/1 [00:00<?, ?it/s, v_num=9, train_loss_step=0.245, train_loss_epoch=0.245, valid_loss=0.103]        "
     ]
    },
    {
     "name": "stderr",
     "output_type": "stream",
     "text": [
      "/home/bruno/mestrado/Time-LLM/.venv/lib/python3.11/site-packages/neuralforecast/tsdataset.py:54: UserWarning: TypedStorage is deprecated. It will be removed in the future and UntypedStorage will be the only storage class. This should only matter to you if you are using storages directly.  To access UntypedStorage directly, use tensor.untyped_storage() instead of tensor.storage()\n",
      "  storage = elem.storage()._new_shared(numel, device=elem.device)\n"
     ]
    },
    {
     "name": "stdout",
     "output_type": "stream",
     "text": [
      "Epoch 166:   0%|          | 0/1 [00:00<?, ?it/s, v_num=9, train_loss_step=0.238, train_loss_epoch=0.238, valid_loss=0.103]        "
     ]
    },
    {
     "name": "stderr",
     "output_type": "stream",
     "text": [
      "/home/bruno/mestrado/Time-LLM/.venv/lib/python3.11/site-packages/neuralforecast/tsdataset.py:54: UserWarning: TypedStorage is deprecated. It will be removed in the future and UntypedStorage will be the only storage class. This should only matter to you if you are using storages directly.  To access UntypedStorage directly, use tensor.untyped_storage() instead of tensor.storage()\n",
      "  storage = elem.storage()._new_shared(numel, device=elem.device)\n"
     ]
    },
    {
     "name": "stdout",
     "output_type": "stream",
     "text": [
      "Epoch 167:   0%|          | 0/1 [00:00<?, ?it/s, v_num=9, train_loss_step=0.189, train_loss_epoch=0.189, valid_loss=0.103]        "
     ]
    },
    {
     "name": "stderr",
     "output_type": "stream",
     "text": [
      "/home/bruno/mestrado/Time-LLM/.venv/lib/python3.11/site-packages/neuralforecast/tsdataset.py:54: UserWarning: TypedStorage is deprecated. It will be removed in the future and UntypedStorage will be the only storage class. This should only matter to you if you are using storages directly.  To access UntypedStorage directly, use tensor.untyped_storage() instead of tensor.storage()\n",
      "  storage = elem.storage()._new_shared(numel, device=elem.device)\n"
     ]
    },
    {
     "name": "stdout",
     "output_type": "stream",
     "text": [
      "Epoch 168:   0%|          | 0/1 [00:00<?, ?it/s, v_num=9, train_loss_step=0.176, train_loss_epoch=0.176, valid_loss=0.103]        "
     ]
    },
    {
     "name": "stderr",
     "output_type": "stream",
     "text": [
      "/home/bruno/mestrado/Time-LLM/.venv/lib/python3.11/site-packages/neuralforecast/tsdataset.py:54: UserWarning: TypedStorage is deprecated. It will be removed in the future and UntypedStorage will be the only storage class. This should only matter to you if you are using storages directly.  To access UntypedStorage directly, use tensor.untyped_storage() instead of tensor.storage()\n",
      "  storage = elem.storage()._new_shared(numel, device=elem.device)\n"
     ]
    },
    {
     "name": "stdout",
     "output_type": "stream",
     "text": [
      "Epoch 169:   0%|          | 0/1 [00:00<?, ?it/s, v_num=9, train_loss_step=0.185, train_loss_epoch=0.185, valid_loss=0.103]        "
     ]
    },
    {
     "name": "stderr",
     "output_type": "stream",
     "text": [
      "/home/bruno/mestrado/Time-LLM/.venv/lib/python3.11/site-packages/neuralforecast/tsdataset.py:54: UserWarning: TypedStorage is deprecated. It will be removed in the future and UntypedStorage will be the only storage class. This should only matter to you if you are using storages directly.  To access UntypedStorage directly, use tensor.untyped_storage() instead of tensor.storage()\n",
      "  storage = elem.storage()._new_shared(numel, device=elem.device)\n"
     ]
    },
    {
     "name": "stdout",
     "output_type": "stream",
     "text": [
      "Epoch 170:   0%|          | 0/1 [00:00<?, ?it/s, v_num=9, train_loss_step=0.192, train_loss_epoch=0.192, valid_loss=0.103]        "
     ]
    },
    {
     "name": "stderr",
     "output_type": "stream",
     "text": [
      "/home/bruno/mestrado/Time-LLM/.venv/lib/python3.11/site-packages/neuralforecast/tsdataset.py:54: UserWarning: TypedStorage is deprecated. It will be removed in the future and UntypedStorage will be the only storage class. This should only matter to you if you are using storages directly.  To access UntypedStorage directly, use tensor.untyped_storage() instead of tensor.storage()\n",
      "  storage = elem.storage()._new_shared(numel, device=elem.device)\n"
     ]
    },
    {
     "name": "stdout",
     "output_type": "stream",
     "text": [
      "Epoch 171:   0%|          | 0/1 [00:00<?, ?it/s, v_num=9, train_loss_step=0.141, train_loss_epoch=0.141, valid_loss=0.103]        "
     ]
    },
    {
     "name": "stderr",
     "output_type": "stream",
     "text": [
      "/home/bruno/mestrado/Time-LLM/.venv/lib/python3.11/site-packages/neuralforecast/tsdataset.py:54: UserWarning: TypedStorage is deprecated. It will be removed in the future and UntypedStorage will be the only storage class. This should only matter to you if you are using storages directly.  To access UntypedStorage directly, use tensor.untyped_storage() instead of tensor.storage()\n",
      "  storage = elem.storage()._new_shared(numel, device=elem.device)\n"
     ]
    },
    {
     "name": "stdout",
     "output_type": "stream",
     "text": [
      "Epoch 172:   0%|          | 0/1 [00:00<?, ?it/s, v_num=9, train_loss_step=0.215, train_loss_epoch=0.215, valid_loss=0.103]        "
     ]
    },
    {
     "name": "stderr",
     "output_type": "stream",
     "text": [
      "/home/bruno/mestrado/Time-LLM/.venv/lib/python3.11/site-packages/neuralforecast/tsdataset.py:54: UserWarning: TypedStorage is deprecated. It will be removed in the future and UntypedStorage will be the only storage class. This should only matter to you if you are using storages directly.  To access UntypedStorage directly, use tensor.untyped_storage() instead of tensor.storage()\n",
      "  storage = elem.storage()._new_shared(numel, device=elem.device)\n"
     ]
    },
    {
     "name": "stdout",
     "output_type": "stream",
     "text": [
      "Epoch 173:   0%|          | 0/1 [00:00<?, ?it/s, v_num=9, train_loss_step=0.124, train_loss_epoch=0.124, valid_loss=0.103]        "
     ]
    },
    {
     "name": "stderr",
     "output_type": "stream",
     "text": [
      "/home/bruno/mestrado/Time-LLM/.venv/lib/python3.11/site-packages/neuralforecast/tsdataset.py:54: UserWarning: TypedStorage is deprecated. It will be removed in the future and UntypedStorage will be the only storage class. This should only matter to you if you are using storages directly.  To access UntypedStorage directly, use tensor.untyped_storage() instead of tensor.storage()\n",
      "  storage = elem.storage()._new_shared(numel, device=elem.device)\n"
     ]
    },
    {
     "name": "stdout",
     "output_type": "stream",
     "text": [
      "Epoch 174:   0%|          | 0/1 [00:00<?, ?it/s, v_num=9, train_loss_step=0.192, train_loss_epoch=0.192, valid_loss=0.103]        "
     ]
    },
    {
     "name": "stderr",
     "output_type": "stream",
     "text": [
      "/home/bruno/mestrado/Time-LLM/.venv/lib/python3.11/site-packages/neuralforecast/tsdataset.py:54: UserWarning: TypedStorage is deprecated. It will be removed in the future and UntypedStorage will be the only storage class. This should only matter to you if you are using storages directly.  To access UntypedStorage directly, use tensor.untyped_storage() instead of tensor.storage()\n",
      "  storage = elem.storage()._new_shared(numel, device=elem.device)\n"
     ]
    },
    {
     "name": "stdout",
     "output_type": "stream",
     "text": [
      "Epoch 175:   0%|          | 0/1 [00:00<?, ?it/s, v_num=9, train_loss_step=0.203, train_loss_epoch=0.203, valid_loss=0.103]        "
     ]
    },
    {
     "name": "stderr",
     "output_type": "stream",
     "text": [
      "/home/bruno/mestrado/Time-LLM/.venv/lib/python3.11/site-packages/neuralforecast/tsdataset.py:54: UserWarning: TypedStorage is deprecated. It will be removed in the future and UntypedStorage will be the only storage class. This should only matter to you if you are using storages directly.  To access UntypedStorage directly, use tensor.untyped_storage() instead of tensor.storage()\n",
      "  storage = elem.storage()._new_shared(numel, device=elem.device)\n"
     ]
    },
    {
     "name": "stdout",
     "output_type": "stream",
     "text": [
      "Epoch 176:   0%|          | 0/1 [00:00<?, ?it/s, v_num=9, train_loss_step=0.249, train_loss_epoch=0.249, valid_loss=0.103]        "
     ]
    },
    {
     "name": "stderr",
     "output_type": "stream",
     "text": [
      "/home/bruno/mestrado/Time-LLM/.venv/lib/python3.11/site-packages/neuralforecast/tsdataset.py:54: UserWarning: TypedStorage is deprecated. It will be removed in the future and UntypedStorage will be the only storage class. This should only matter to you if you are using storages directly.  To access UntypedStorage directly, use tensor.untyped_storage() instead of tensor.storage()\n",
      "  storage = elem.storage()._new_shared(numel, device=elem.device)\n"
     ]
    },
    {
     "name": "stdout",
     "output_type": "stream",
     "text": [
      "Epoch 177:   0%|          | 0/1 [00:00<?, ?it/s, v_num=9, train_loss_step=0.186, train_loss_epoch=0.186, valid_loss=0.103]        "
     ]
    },
    {
     "name": "stderr",
     "output_type": "stream",
     "text": [
      "/home/bruno/mestrado/Time-LLM/.venv/lib/python3.11/site-packages/neuralforecast/tsdataset.py:54: UserWarning: TypedStorage is deprecated. It will be removed in the future and UntypedStorage will be the only storage class. This should only matter to you if you are using storages directly.  To access UntypedStorage directly, use tensor.untyped_storage() instead of tensor.storage()\n",
      "  storage = elem.storage()._new_shared(numel, device=elem.device)\n"
     ]
    },
    {
     "name": "stdout",
     "output_type": "stream",
     "text": [
      "Epoch 178:   0%|          | 0/1 [00:00<?, ?it/s, v_num=9, train_loss_step=0.0999, train_loss_epoch=0.0999, valid_loss=0.103]        "
     ]
    },
    {
     "name": "stderr",
     "output_type": "stream",
     "text": [
      "/home/bruno/mestrado/Time-LLM/.venv/lib/python3.11/site-packages/neuralforecast/tsdataset.py:54: UserWarning: TypedStorage is deprecated. It will be removed in the future and UntypedStorage will be the only storage class. This should only matter to you if you are using storages directly.  To access UntypedStorage directly, use tensor.untyped_storage() instead of tensor.storage()\n",
      "  storage = elem.storage()._new_shared(numel, device=elem.device)\n"
     ]
    },
    {
     "name": "stdout",
     "output_type": "stream",
     "text": [
      "Epoch 179:   0%|          | 0/1 [00:00<?, ?it/s, v_num=9, train_loss_step=0.185, train_loss_epoch=0.185, valid_loss=0.103]          "
     ]
    },
    {
     "name": "stderr",
     "output_type": "stream",
     "text": [
      "/home/bruno/mestrado/Time-LLM/.venv/lib/python3.11/site-packages/neuralforecast/tsdataset.py:54: UserWarning: TypedStorage is deprecated. It will be removed in the future and UntypedStorage will be the only storage class. This should only matter to you if you are using storages directly.  To access UntypedStorage directly, use tensor.untyped_storage() instead of tensor.storage()\n",
      "  storage = elem.storage()._new_shared(numel, device=elem.device)\n"
     ]
    },
    {
     "name": "stdout",
     "output_type": "stream",
     "text": [
      "Epoch 180:   0%|          | 0/1 [00:00<?, ?it/s, v_num=9, train_loss_step=0.156, train_loss_epoch=0.156, valid_loss=0.103]        "
     ]
    },
    {
     "name": "stderr",
     "output_type": "stream",
     "text": [
      "/home/bruno/mestrado/Time-LLM/.venv/lib/python3.11/site-packages/neuralforecast/tsdataset.py:54: UserWarning: TypedStorage is deprecated. It will be removed in the future and UntypedStorage will be the only storage class. This should only matter to you if you are using storages directly.  To access UntypedStorage directly, use tensor.untyped_storage() instead of tensor.storage()\n",
      "  storage = elem.storage()._new_shared(numel, device=elem.device)\n"
     ]
    },
    {
     "name": "stdout",
     "output_type": "stream",
     "text": [
      "Epoch 181:   0%|          | 0/1 [00:00<?, ?it/s, v_num=9, train_loss_step=0.297, train_loss_epoch=0.297, valid_loss=0.103]        "
     ]
    },
    {
     "name": "stderr",
     "output_type": "stream",
     "text": [
      "/home/bruno/mestrado/Time-LLM/.venv/lib/python3.11/site-packages/neuralforecast/tsdataset.py:54: UserWarning: TypedStorage is deprecated. It will be removed in the future and UntypedStorage will be the only storage class. This should only matter to you if you are using storages directly.  To access UntypedStorage directly, use tensor.untyped_storage() instead of tensor.storage()\n",
      "  storage = elem.storage()._new_shared(numel, device=elem.device)\n"
     ]
    },
    {
     "name": "stdout",
     "output_type": "stream",
     "text": [
      "Epoch 182:   0%|          | 0/1 [00:00<?, ?it/s, v_num=9, train_loss_step=0.171, train_loss_epoch=0.171, valid_loss=0.103]        "
     ]
    },
    {
     "name": "stderr",
     "output_type": "stream",
     "text": [
      "/home/bruno/mestrado/Time-LLM/.venv/lib/python3.11/site-packages/neuralforecast/tsdataset.py:54: UserWarning: TypedStorage is deprecated. It will be removed in the future and UntypedStorage will be the only storage class. This should only matter to you if you are using storages directly.  To access UntypedStorage directly, use tensor.untyped_storage() instead of tensor.storage()\n",
      "  storage = elem.storage()._new_shared(numel, device=elem.device)\n"
     ]
    },
    {
     "name": "stdout",
     "output_type": "stream",
     "text": [
      "Epoch 183:   0%|          | 0/1 [00:00<?, ?it/s, v_num=9, train_loss_step=0.145, train_loss_epoch=0.145, valid_loss=0.103]        "
     ]
    },
    {
     "name": "stderr",
     "output_type": "stream",
     "text": [
      "/home/bruno/mestrado/Time-LLM/.venv/lib/python3.11/site-packages/neuralforecast/tsdataset.py:54: UserWarning: TypedStorage is deprecated. It will be removed in the future and UntypedStorage will be the only storage class. This should only matter to you if you are using storages directly.  To access UntypedStorage directly, use tensor.untyped_storage() instead of tensor.storage()\n",
      "  storage = elem.storage()._new_shared(numel, device=elem.device)\n"
     ]
    },
    {
     "name": "stdout",
     "output_type": "stream",
     "text": [
      "Epoch 184:   0%|          | 0/1 [00:00<?, ?it/s, v_num=9, train_loss_step=0.0994, train_loss_epoch=0.0994, valid_loss=0.103]        "
     ]
    },
    {
     "name": "stderr",
     "output_type": "stream",
     "text": [
      "/home/bruno/mestrado/Time-LLM/.venv/lib/python3.11/site-packages/neuralforecast/tsdataset.py:54: UserWarning: TypedStorage is deprecated. It will be removed in the future and UntypedStorage will be the only storage class. This should only matter to you if you are using storages directly.  To access UntypedStorage directly, use tensor.untyped_storage() instead of tensor.storage()\n",
      "  storage = elem.storage()._new_shared(numel, device=elem.device)\n"
     ]
    },
    {
     "name": "stdout",
     "output_type": "stream",
     "text": [
      "Epoch 185:   0%|          | 0/1 [00:00<?, ?it/s, v_num=9, train_loss_step=0.144, train_loss_epoch=0.144, valid_loss=0.103]          "
     ]
    },
    {
     "name": "stderr",
     "output_type": "stream",
     "text": [
      "/home/bruno/mestrado/Time-LLM/.venv/lib/python3.11/site-packages/neuralforecast/tsdataset.py:54: UserWarning: TypedStorage is deprecated. It will be removed in the future and UntypedStorage will be the only storage class. This should only matter to you if you are using storages directly.  To access UntypedStorage directly, use tensor.untyped_storage() instead of tensor.storage()\n",
      "  storage = elem.storage()._new_shared(numel, device=elem.device)\n"
     ]
    },
    {
     "name": "stdout",
     "output_type": "stream",
     "text": [
      "Epoch 186:   0%|          | 0/1 [00:00<?, ?it/s, v_num=9, train_loss_step=0.253, train_loss_epoch=0.253, valid_loss=0.103]        "
     ]
    },
    {
     "name": "stderr",
     "output_type": "stream",
     "text": [
      "/home/bruno/mestrado/Time-LLM/.venv/lib/python3.11/site-packages/neuralforecast/tsdataset.py:54: UserWarning: TypedStorage is deprecated. It will be removed in the future and UntypedStorage will be the only storage class. This should only matter to you if you are using storages directly.  To access UntypedStorage directly, use tensor.untyped_storage() instead of tensor.storage()\n",
      "  storage = elem.storage()._new_shared(numel, device=elem.device)\n"
     ]
    },
    {
     "name": "stdout",
     "output_type": "stream",
     "text": [
      "Epoch 187:   0%|          | 0/1 [00:00<?, ?it/s, v_num=9, train_loss_step=0.284, train_loss_epoch=0.284, valid_loss=0.103]        "
     ]
    },
    {
     "name": "stderr",
     "output_type": "stream",
     "text": [
      "/home/bruno/mestrado/Time-LLM/.venv/lib/python3.11/site-packages/neuralforecast/tsdataset.py:54: UserWarning: TypedStorage is deprecated. It will be removed in the future and UntypedStorage will be the only storage class. This should only matter to you if you are using storages directly.  To access UntypedStorage directly, use tensor.untyped_storage() instead of tensor.storage()\n",
      "  storage = elem.storage()._new_shared(numel, device=elem.device)\n"
     ]
    },
    {
     "name": "stdout",
     "output_type": "stream",
     "text": [
      "Epoch 188:   0%|          | 0/1 [00:00<?, ?it/s, v_num=9, train_loss_step=0.254, train_loss_epoch=0.254, valid_loss=0.103]        "
     ]
    },
    {
     "name": "stderr",
     "output_type": "stream",
     "text": [
      "/home/bruno/mestrado/Time-LLM/.venv/lib/python3.11/site-packages/neuralforecast/tsdataset.py:54: UserWarning: TypedStorage is deprecated. It will be removed in the future and UntypedStorage will be the only storage class. This should only matter to you if you are using storages directly.  To access UntypedStorage directly, use tensor.untyped_storage() instead of tensor.storage()\n",
      "  storage = elem.storage()._new_shared(numel, device=elem.device)\n"
     ]
    },
    {
     "name": "stdout",
     "output_type": "stream",
     "text": [
      "Epoch 189:   0%|          | 0/1 [00:00<?, ?it/s, v_num=9, train_loss_step=0.224, train_loss_epoch=0.224, valid_loss=0.103]        "
     ]
    },
    {
     "name": "stderr",
     "output_type": "stream",
     "text": [
      "/home/bruno/mestrado/Time-LLM/.venv/lib/python3.11/site-packages/neuralforecast/tsdataset.py:54: UserWarning: TypedStorage is deprecated. It will be removed in the future and UntypedStorage will be the only storage class. This should only matter to you if you are using storages directly.  To access UntypedStorage directly, use tensor.untyped_storage() instead of tensor.storage()\n",
      "  storage = elem.storage()._new_shared(numel, device=elem.device)\n"
     ]
    },
    {
     "name": "stdout",
     "output_type": "stream",
     "text": [
      "Epoch 190:   0%|          | 0/1 [00:00<?, ?it/s, v_num=9, train_loss_step=0.169, train_loss_epoch=0.169, valid_loss=0.103]        "
     ]
    },
    {
     "name": "stderr",
     "output_type": "stream",
     "text": [
      "/home/bruno/mestrado/Time-LLM/.venv/lib/python3.11/site-packages/neuralforecast/tsdataset.py:54: UserWarning: TypedStorage is deprecated. It will be removed in the future and UntypedStorage will be the only storage class. This should only matter to you if you are using storages directly.  To access UntypedStorage directly, use tensor.untyped_storage() instead of tensor.storage()\n",
      "  storage = elem.storage()._new_shared(numel, device=elem.device)\n"
     ]
    },
    {
     "name": "stdout",
     "output_type": "stream",
     "text": [
      "Epoch 191:   0%|          | 0/1 [00:00<?, ?it/s, v_num=9, train_loss_step=0.128, train_loss_epoch=0.128, valid_loss=0.103]        "
     ]
    },
    {
     "name": "stderr",
     "output_type": "stream",
     "text": [
      "/home/bruno/mestrado/Time-LLM/.venv/lib/python3.11/site-packages/neuralforecast/tsdataset.py:54: UserWarning: TypedStorage is deprecated. It will be removed in the future and UntypedStorage will be the only storage class. This should only matter to you if you are using storages directly.  To access UntypedStorage directly, use tensor.untyped_storage() instead of tensor.storage()\n",
      "  storage = elem.storage()._new_shared(numel, device=elem.device)\n"
     ]
    },
    {
     "name": "stdout",
     "output_type": "stream",
     "text": [
      "Epoch 192:   0%|          | 0/1 [00:00<?, ?it/s, v_num=9, train_loss_step=0.340, train_loss_epoch=0.340, valid_loss=0.103]        "
     ]
    },
    {
     "name": "stderr",
     "output_type": "stream",
     "text": [
      "/home/bruno/mestrado/Time-LLM/.venv/lib/python3.11/site-packages/neuralforecast/tsdataset.py:54: UserWarning: TypedStorage is deprecated. It will be removed in the future and UntypedStorage will be the only storage class. This should only matter to you if you are using storages directly.  To access UntypedStorage directly, use tensor.untyped_storage() instead of tensor.storage()\n",
      "  storage = elem.storage()._new_shared(numel, device=elem.device)\n"
     ]
    },
    {
     "name": "stdout",
     "output_type": "stream",
     "text": [
      "Epoch 193:   0%|          | 0/1 [00:00<?, ?it/s, v_num=9, train_loss_step=0.311, train_loss_epoch=0.311, valid_loss=0.103]        "
     ]
    },
    {
     "name": "stderr",
     "output_type": "stream",
     "text": [
      "/home/bruno/mestrado/Time-LLM/.venv/lib/python3.11/site-packages/neuralforecast/tsdataset.py:54: UserWarning: TypedStorage is deprecated. It will be removed in the future and UntypedStorage will be the only storage class. This should only matter to you if you are using storages directly.  To access UntypedStorage directly, use tensor.untyped_storage() instead of tensor.storage()\n",
      "  storage = elem.storage()._new_shared(numel, device=elem.device)\n"
     ]
    },
    {
     "name": "stdout",
     "output_type": "stream",
     "text": [
      "Epoch 194:   0%|          | 0/1 [00:00<?, ?it/s, v_num=9, train_loss_step=0.170, train_loss_epoch=0.170, valid_loss=0.103]        "
     ]
    },
    {
     "name": "stderr",
     "output_type": "stream",
     "text": [
      "/home/bruno/mestrado/Time-LLM/.venv/lib/python3.11/site-packages/neuralforecast/tsdataset.py:54: UserWarning: TypedStorage is deprecated. It will be removed in the future and UntypedStorage will be the only storage class. This should only matter to you if you are using storages directly.  To access UntypedStorage directly, use tensor.untyped_storage() instead of tensor.storage()\n",
      "  storage = elem.storage()._new_shared(numel, device=elem.device)\n"
     ]
    },
    {
     "name": "stdout",
     "output_type": "stream",
     "text": [
      "Epoch 195:   0%|          | 0/1 [00:00<?, ?it/s, v_num=9, train_loss_step=0.167, train_loss_epoch=0.167, valid_loss=0.103]        "
     ]
    },
    {
     "name": "stderr",
     "output_type": "stream",
     "text": [
      "/home/bruno/mestrado/Time-LLM/.venv/lib/python3.11/site-packages/neuralforecast/tsdataset.py:54: UserWarning: TypedStorage is deprecated. It will be removed in the future and UntypedStorage will be the only storage class. This should only matter to you if you are using storages directly.  To access UntypedStorage directly, use tensor.untyped_storage() instead of tensor.storage()\n",
      "  storage = elem.storage()._new_shared(numel, device=elem.device)\n"
     ]
    },
    {
     "name": "stdout",
     "output_type": "stream",
     "text": [
      "Epoch 196:   0%|          | 0/1 [00:00<?, ?it/s, v_num=9, train_loss_step=0.288, train_loss_epoch=0.288, valid_loss=0.103]        "
     ]
    },
    {
     "name": "stderr",
     "output_type": "stream",
     "text": [
      "/home/bruno/mestrado/Time-LLM/.venv/lib/python3.11/site-packages/neuralforecast/tsdataset.py:54: UserWarning: TypedStorage is deprecated. It will be removed in the future and UntypedStorage will be the only storage class. This should only matter to you if you are using storages directly.  To access UntypedStorage directly, use tensor.untyped_storage() instead of tensor.storage()\n",
      "  storage = elem.storage()._new_shared(numel, device=elem.device)\n"
     ]
    },
    {
     "name": "stdout",
     "output_type": "stream",
     "text": [
      "Epoch 197:   0%|          | 0/1 [00:00<?, ?it/s, v_num=9, train_loss_step=0.163, train_loss_epoch=0.163, valid_loss=0.103]        "
     ]
    },
    {
     "name": "stderr",
     "output_type": "stream",
     "text": [
      "/home/bruno/mestrado/Time-LLM/.venv/lib/python3.11/site-packages/neuralforecast/tsdataset.py:54: UserWarning: TypedStorage is deprecated. It will be removed in the future and UntypedStorage will be the only storage class. This should only matter to you if you are using storages directly.  To access UntypedStorage directly, use tensor.untyped_storage() instead of tensor.storage()\n",
      "  storage = elem.storage()._new_shared(numel, device=elem.device)\n"
     ]
    },
    {
     "name": "stdout",
     "output_type": "stream",
     "text": [
      "Epoch 198:   0%|          | 0/1 [00:00<?, ?it/s, v_num=9, train_loss_step=0.180, train_loss_epoch=0.180, valid_loss=0.103]        "
     ]
    },
    {
     "name": "stderr",
     "output_type": "stream",
     "text": [
      "/home/bruno/mestrado/Time-LLM/.venv/lib/python3.11/site-packages/neuralforecast/tsdataset.py:54: UserWarning: TypedStorage is deprecated. It will be removed in the future and UntypedStorage will be the only storage class. This should only matter to you if you are using storages directly.  To access UntypedStorage directly, use tensor.untyped_storage() instead of tensor.storage()\n",
      "  storage = elem.storage()._new_shared(numel, device=elem.device)\n"
     ]
    },
    {
     "name": "stdout",
     "output_type": "stream",
     "text": [
      "Epoch 199:   0%|          | 0/1 [00:00<?, ?it/s, v_num=9, train_loss_step=0.104, train_loss_epoch=0.104, valid_loss=0.103]        "
     ]
    },
    {
     "name": "stderr",
     "output_type": "stream",
     "text": [
      "/home/bruno/mestrado/Time-LLM/.venv/lib/python3.11/site-packages/neuralforecast/tsdataset.py:54: UserWarning: TypedStorage is deprecated. It will be removed in the future and UntypedStorage will be the only storage class. This should only matter to you if you are using storages directly.  To access UntypedStorage directly, use tensor.untyped_storage() instead of tensor.storage()\n",
      "  storage = elem.storage()._new_shared(numel, device=elem.device)\n"
     ]
    },
    {
     "name": "stdout",
     "output_type": "stream",
     "text": [
      "Epoch 199: 100%|██████████| 1/1 [00:01<00:00,  0.91it/s, v_num=9, train_loss_step=0.158, train_loss_epoch=0.104, valid_loss=0.103]"
     ]
    },
    {
     "name": "stderr",
     "output_type": "stream",
     "text": [
      "/home/bruno/mestrado/Time-LLM/.venv/lib/python3.11/site-packages/neuralforecast/tsdataset.py:54: UserWarning: TypedStorage is deprecated. It will be removed in the future and UntypedStorage will be the only storage class. This should only matter to you if you are using storages directly.  To access UntypedStorage directly, use tensor.untyped_storage() instead of tensor.storage()\n",
      "  storage = elem.storage()._new_shared(numel, device=elem.device)\n"
     ]
    },
    {
     "name": "stdout",
     "output_type": "stream",
     "text": [
      "Epoch 199: 100%|██████████| 1/1 [00:02<00:00,  0.46it/s, v_num=9, train_loss_step=0.158, train_loss_epoch=0.158, valid_loss=0.0975]"
     ]
    },
    {
     "name": "stderr",
     "output_type": "stream",
     "text": [
      "`Trainer.fit` stopped: `max_steps=200` reached.\n"
     ]
    },
    {
     "name": "stdout",
     "output_type": "stream",
     "text": [
      "Epoch 199: 100%|██████████| 1/1 [00:02<00:00,  0.46it/s, v_num=9, train_loss_step=0.158, train_loss_epoch=0.158, valid_loss=0.0975]\n"
     ]
    }
   ],
   "source": [
    "nf.fit(df=Y_train_df, val_size=horizon, target_col=\"OT\", verbose=True)"
   ]
  },
  {
   "cell_type": "code",
   "execution_count": 30,
   "metadata": {},
   "outputs": [
    {
     "name": "stderr",
     "output_type": "stream",
     "text": [
      "/home/bruno/mestrado/Time-LLM/.venv/lib/python3.11/site-packages/neuralforecast/tsdataset.py:92: UserWarning: To copy construct from a tensor, it is recommended to use sourceTensor.clone().detach() or sourceTensor.clone().detach().requires_grad_(True), rather than torch.tensor(sourceTensor).\n",
      "  self.temporal = torch.tensor(temporal, dtype=torch.float)\n",
      "GPU available: True (cuda), used: True\n",
      "TPU available: False, using: 0 TPU cores\n",
      "IPU available: False, using: 0 IPUs\n",
      "HPU available: False, using: 0 HPUs\n"
     ]
    },
    {
     "name": "stdout",
     "output_type": "stream",
     "text": [
      "Using stored dataset.\n"
     ]
    },
    {
     "name": "stderr",
     "output_type": "stream",
     "text": [
      "LOCAL_RANK: 0 - CUDA_VISIBLE_DEVICES: [0]\n",
      "/home/bruno/mestrado/Time-LLM/.venv/lib/python3.11/site-packages/pytorch_lightning/trainer/connectors/data_connector.py:441: The 'predict_dataloader' does not have many workers which may be a bottleneck. Consider increasing the value of the `num_workers` argument` to `num_workers=15` in the `DataLoader` to improve performance.\n"
     ]
    },
    {
     "name": "stdout",
     "output_type": "stream",
     "text": [
      "Predicting DataLoader 0: 100%|██████████| 1/1 [00:00<00:00, 31.15it/s]\n"
     ]
    },
    {
     "name": "stderr",
     "output_type": "stream",
     "text": [
      "/home/bruno/mestrado/Time-LLM/.venv/lib/python3.11/site-packages/neuralforecast/core.py:184: FutureWarning: In a future version the predictions will have the id as a column. You can set the `NIXTLA_ID_AS_COL` environment variable to adopt the new behavior and to suppress this warning.\n",
      "  warnings.warn(\n"
     ]
    }
   ],
   "source": [
    "forecasts = nf.predict(futr_df=Y_test_df, verbose=True)"
   ]
  },
  {
   "cell_type": "code",
   "execution_count": 31,
   "metadata": {},
   "outputs": [],
   "source": [
    "Y_test_df['TimeLL_gpt2'] = forecasts[\"TimeLLM\"].values\n",
    "\n"
   ]
  },
  {
   "cell_type": "code",
   "execution_count": 32,
   "metadata": {},
   "outputs": [
    {
     "data": {
      "text/html": [
       "<div>\n",
       "<style scoped>\n",
       "    .dataframe tbody tr th:only-of-type {\n",
       "        vertical-align: middle;\n",
       "    }\n",
       "\n",
       "    .dataframe tbody tr th {\n",
       "        vertical-align: top;\n",
       "    }\n",
       "\n",
       "    .dataframe thead th {\n",
       "        text-align: right;\n",
       "    }\n",
       "</style>\n",
       "<table border=\"1\" class=\"dataframe\">\n",
       "  <thead>\n",
       "    <tr style=\"text-align: right;\">\n",
       "      <th></th>\n",
       "      <th>unique_id</th>\n",
       "      <th>ds</th>\n",
       "      <th>dayhour</th>\n",
       "      <th>OT</th>\n",
       "      <th>TimeLL_gpt2</th>\n",
       "    </tr>\n",
       "  </thead>\n",
       "  <tbody>\n",
       "    <tr>\n",
       "      <th>0</th>\n",
       "      <td>OT</td>\n",
       "      <td>2018-06-19 20:00:00</td>\n",
       "      <td>0.369565</td>\n",
       "      <td>0.443584</td>\n",
       "      <td>0.567137</td>\n",
       "    </tr>\n",
       "    <tr>\n",
       "      <th>1</th>\n",
       "      <td>OT</td>\n",
       "      <td>2018-06-19 21:00:00</td>\n",
       "      <td>0.413043</td>\n",
       "      <td>0.303540</td>\n",
       "      <td>0.580921</td>\n",
       "    </tr>\n",
       "    <tr>\n",
       "      <th>2</th>\n",
       "      <td>OT</td>\n",
       "      <td>2018-06-19 22:00:00</td>\n",
       "      <td>0.456522</td>\n",
       "      <td>0.334624</td>\n",
       "      <td>0.590469</td>\n",
       "    </tr>\n",
       "    <tr>\n",
       "      <th>3</th>\n",
       "      <td>OT</td>\n",
       "      <td>2018-06-19 23:00:00</td>\n",
       "      <td>0.500000</td>\n",
       "      <td>0.377434</td>\n",
       "      <td>0.565925</td>\n",
       "    </tr>\n",
       "    <tr>\n",
       "      <th>4</th>\n",
       "      <td>OT</td>\n",
       "      <td>2018-06-20 00:00:00</td>\n",
       "      <td>-0.500000</td>\n",
       "      <td>0.412445</td>\n",
       "      <td>0.588435</td>\n",
       "    </tr>\n",
       "    <tr>\n",
       "      <th>...</th>\n",
       "      <td>...</td>\n",
       "      <td>...</td>\n",
       "      <td>...</td>\n",
       "      <td>...</td>\n",
       "      <td>...</td>\n",
       "    </tr>\n",
       "    <tr>\n",
       "      <th>163</th>\n",
       "      <td>OT</td>\n",
       "      <td>2018-06-26 15:00:00</td>\n",
       "      <td>0.152174</td>\n",
       "      <td>0.653706</td>\n",
       "      <td>0.613228</td>\n",
       "    </tr>\n",
       "    <tr>\n",
       "      <th>164</th>\n",
       "      <td>OT</td>\n",
       "      <td>2018-06-26 16:00:00</td>\n",
       "      <td>0.195652</td>\n",
       "      <td>0.661449</td>\n",
       "      <td>0.605517</td>\n",
       "    </tr>\n",
       "    <tr>\n",
       "      <th>165</th>\n",
       "      <td>OT</td>\n",
       "      <td>2018-06-26 17:00:00</td>\n",
       "      <td>0.239130</td>\n",
       "      <td>0.618695</td>\n",
       "      <td>0.620055</td>\n",
       "    </tr>\n",
       "    <tr>\n",
       "      <th>166</th>\n",
       "      <td>OT</td>\n",
       "      <td>2018-06-26 18:00:00</td>\n",
       "      <td>0.282609</td>\n",
       "      <td>0.591427</td>\n",
       "      <td>0.632654</td>\n",
       "    </tr>\n",
       "    <tr>\n",
       "      <th>167</th>\n",
       "      <td>OT</td>\n",
       "      <td>2018-06-26 19:00:00</td>\n",
       "      <td>0.326087</td>\n",
       "      <td>0.579757</td>\n",
       "      <td>0.591133</td>\n",
       "    </tr>\n",
       "  </tbody>\n",
       "</table>\n",
       "<p>168 rows × 5 columns</p>\n",
       "</div>"
      ],
      "text/plain": [
       "    unique_id                  ds   dayhour        OT  TimeLL_gpt2\n",
       "0          OT 2018-06-19 20:00:00  0.369565  0.443584     0.567137\n",
       "1          OT 2018-06-19 21:00:00  0.413043  0.303540     0.580921\n",
       "2          OT 2018-06-19 22:00:00  0.456522  0.334624     0.590469\n",
       "3          OT 2018-06-19 23:00:00  0.500000  0.377434     0.565925\n",
       "4          OT 2018-06-20 00:00:00 -0.500000  0.412445     0.588435\n",
       "..        ...                 ...       ...       ...          ...\n",
       "163        OT 2018-06-26 15:00:00  0.152174  0.653706     0.613228\n",
       "164        OT 2018-06-26 16:00:00  0.195652  0.661449     0.605517\n",
       "165        OT 2018-06-26 17:00:00  0.239130  0.618695     0.620055\n",
       "166        OT 2018-06-26 18:00:00  0.282609  0.591427     0.632654\n",
       "167        OT 2018-06-26 19:00:00  0.326087  0.579757     0.591133\n",
       "\n",
       "[168 rows x 5 columns]"
      ]
     },
     "execution_count": 32,
     "metadata": {},
     "output_type": "execute_result"
    }
   ],
   "source": [
    "Y_test_df"
   ]
  },
  {
   "cell_type": "code",
   "execution_count": 23,
   "metadata": {},
   "outputs": [],
   "source": [
    "Y_test_df.to_csv(\"timellm_pred_ett1_gpt2_200epochs.csv\", index=False)"
   ]
  },
  {
   "cell_type": "code",
   "execution_count": 34,
   "metadata": {},
   "outputs": [
    {
     "data": {
      "text/html": [
       "<div>\n",
       "<style scoped>\n",
       "    .dataframe tbody tr th:only-of-type {\n",
       "        vertical-align: middle;\n",
       "    }\n",
       "\n",
       "    .dataframe tbody tr th {\n",
       "        vertical-align: top;\n",
       "    }\n",
       "\n",
       "    .dataframe thead th {\n",
       "        text-align: right;\n",
       "    }\n",
       "</style>\n",
       "<table border=\"1\" class=\"dataframe\">\n",
       "  <thead>\n",
       "    <tr style=\"text-align: right;\">\n",
       "      <th></th>\n",
       "      <th>unique_id</th>\n",
       "      <th>ds</th>\n",
       "      <th>dayhour</th>\n",
       "      <th>OT</th>\n",
       "    </tr>\n",
       "  </thead>\n",
       "  <tbody>\n",
       "    <tr>\n",
       "      <th>14593</th>\n",
       "      <td>OT</td>\n",
       "      <td>2018-03-01 01:00:00</td>\n",
       "      <td>-0.456522</td>\n",
       "      <td>0.346294</td>\n",
       "    </tr>\n",
       "    <tr>\n",
       "      <th>14594</th>\n",
       "      <td>OT</td>\n",
       "      <td>2018-03-01 02:00:00</td>\n",
       "      <td>-0.413043</td>\n",
       "      <td>0.361892</td>\n",
       "    </tr>\n",
       "    <tr>\n",
       "      <th>14595</th>\n",
       "      <td>OT</td>\n",
       "      <td>2018-03-01 03:00:00</td>\n",
       "      <td>-0.369565</td>\n",
       "      <td>0.369635</td>\n",
       "    </tr>\n",
       "    <tr>\n",
       "      <th>14596</th>\n",
       "      <td>OT</td>\n",
       "      <td>2018-03-01 04:00:00</td>\n",
       "      <td>-0.326087</td>\n",
       "      <td>0.322954</td>\n",
       "    </tr>\n",
       "    <tr>\n",
       "      <th>14597</th>\n",
       "      <td>OT</td>\n",
       "      <td>2018-03-01 05:00:00</td>\n",
       "      <td>-0.282609</td>\n",
       "      <td>0.365763</td>\n",
       "    </tr>\n",
       "    <tr>\n",
       "      <th>...</th>\n",
       "      <td>...</td>\n",
       "      <td>...</td>\n",
       "      <td>...</td>\n",
       "      <td>...</td>\n",
       "    </tr>\n",
       "    <tr>\n",
       "      <th>17247</th>\n",
       "      <td>OT</td>\n",
       "      <td>2018-06-19 15:00:00</td>\n",
       "      <td>0.152174</td>\n",
       "      <td>0.361892</td>\n",
       "    </tr>\n",
       "    <tr>\n",
       "      <th>17248</th>\n",
       "      <td>OT</td>\n",
       "      <td>2018-06-19 16:00:00</td>\n",
       "      <td>0.195652</td>\n",
       "      <td>0.307411</td>\n",
       "    </tr>\n",
       "    <tr>\n",
       "      <th>17249</th>\n",
       "      <td>OT</td>\n",
       "      <td>2018-06-19 17:00:00</td>\n",
       "      <td>0.239130</td>\n",
       "      <td>0.342423</td>\n",
       "    </tr>\n",
       "    <tr>\n",
       "      <th>17250</th>\n",
       "      <td>OT</td>\n",
       "      <td>2018-06-19 18:00:00</td>\n",
       "      <td>0.282609</td>\n",
       "      <td>0.420243</td>\n",
       "    </tr>\n",
       "    <tr>\n",
       "      <th>17251</th>\n",
       "      <td>OT</td>\n",
       "      <td>2018-06-19 19:00:00</td>\n",
       "      <td>0.326087</td>\n",
       "      <td>0.424115</td>\n",
       "    </tr>\n",
       "  </tbody>\n",
       "</table>\n",
       "<p>2659 rows × 4 columns</p>\n",
       "</div>"
      ],
      "text/plain": [
       "      unique_id                  ds   dayhour        OT\n",
       "14593        OT 2018-03-01 01:00:00 -0.456522  0.346294\n",
       "14594        OT 2018-03-01 02:00:00 -0.413043  0.361892\n",
       "14595        OT 2018-03-01 03:00:00 -0.369565  0.369635\n",
       "14596        OT 2018-03-01 04:00:00 -0.326087  0.322954\n",
       "14597        OT 2018-03-01 05:00:00 -0.282609  0.365763\n",
       "...         ...                 ...       ...       ...\n",
       "17247        OT 2018-06-19 15:00:00  0.152174  0.361892\n",
       "17248        OT 2018-06-19 16:00:00  0.195652  0.307411\n",
       "17249        OT 2018-06-19 17:00:00  0.239130  0.342423\n",
       "17250        OT 2018-06-19 18:00:00  0.282609  0.420243\n",
       "17251        OT 2018-06-19 19:00:00  0.326087  0.424115\n",
       "\n",
       "[2659 rows x 4 columns]"
      ]
     },
     "execution_count": 34,
     "metadata": {},
     "output_type": "execute_result"
    }
   ],
   "source": [
    "Y_train_df"
   ]
  },
  {
   "cell_type": "code",
   "execution_count": 35,
   "metadata": {},
   "outputs": [
    {
     "data": {
      "text/html": [
       "<div>\n",
       "<style scoped>\n",
       "    .dataframe tbody tr th:only-of-type {\n",
       "        vertical-align: middle;\n",
       "    }\n",
       "\n",
       "    .dataframe tbody tr th {\n",
       "        vertical-align: top;\n",
       "    }\n",
       "\n",
       "    .dataframe thead th {\n",
       "        text-align: right;\n",
       "    }\n",
       "</style>\n",
       "<table border=\"1\" class=\"dataframe\">\n",
       "  <thead>\n",
       "    <tr style=\"text-align: right;\">\n",
       "      <th></th>\n",
       "      <th>unique_id</th>\n",
       "      <th>ds</th>\n",
       "      <th>dayhour</th>\n",
       "      <th>OT</th>\n",
       "      <th>TimeLL_gpt2</th>\n",
       "    </tr>\n",
       "  </thead>\n",
       "  <tbody>\n",
       "    <tr>\n",
       "      <th>0</th>\n",
       "      <td>OT</td>\n",
       "      <td>2018-06-19 20:00:00</td>\n",
       "      <td>0.369565</td>\n",
       "      <td>0.443584</td>\n",
       "      <td>0.567137</td>\n",
       "    </tr>\n",
       "    <tr>\n",
       "      <th>1</th>\n",
       "      <td>OT</td>\n",
       "      <td>2018-06-19 21:00:00</td>\n",
       "      <td>0.413043</td>\n",
       "      <td>0.303540</td>\n",
       "      <td>0.580921</td>\n",
       "    </tr>\n",
       "    <tr>\n",
       "      <th>2</th>\n",
       "      <td>OT</td>\n",
       "      <td>2018-06-19 22:00:00</td>\n",
       "      <td>0.456522</td>\n",
       "      <td>0.334624</td>\n",
       "      <td>0.590469</td>\n",
       "    </tr>\n",
       "    <tr>\n",
       "      <th>3</th>\n",
       "      <td>OT</td>\n",
       "      <td>2018-06-19 23:00:00</td>\n",
       "      <td>0.500000</td>\n",
       "      <td>0.377434</td>\n",
       "      <td>0.565925</td>\n",
       "    </tr>\n",
       "    <tr>\n",
       "      <th>4</th>\n",
       "      <td>OT</td>\n",
       "      <td>2018-06-20 00:00:00</td>\n",
       "      <td>-0.500000</td>\n",
       "      <td>0.412445</td>\n",
       "      <td>0.588435</td>\n",
       "    </tr>\n",
       "    <tr>\n",
       "      <th>...</th>\n",
       "      <td>...</td>\n",
       "      <td>...</td>\n",
       "      <td>...</td>\n",
       "      <td>...</td>\n",
       "      <td>...</td>\n",
       "    </tr>\n",
       "    <tr>\n",
       "      <th>163</th>\n",
       "      <td>OT</td>\n",
       "      <td>2018-06-26 15:00:00</td>\n",
       "      <td>0.152174</td>\n",
       "      <td>0.653706</td>\n",
       "      <td>0.613228</td>\n",
       "    </tr>\n",
       "    <tr>\n",
       "      <th>164</th>\n",
       "      <td>OT</td>\n",
       "      <td>2018-06-26 16:00:00</td>\n",
       "      <td>0.195652</td>\n",
       "      <td>0.661449</td>\n",
       "      <td>0.605517</td>\n",
       "    </tr>\n",
       "    <tr>\n",
       "      <th>165</th>\n",
       "      <td>OT</td>\n",
       "      <td>2018-06-26 17:00:00</td>\n",
       "      <td>0.239130</td>\n",
       "      <td>0.618695</td>\n",
       "      <td>0.620055</td>\n",
       "    </tr>\n",
       "    <tr>\n",
       "      <th>166</th>\n",
       "      <td>OT</td>\n",
       "      <td>2018-06-26 18:00:00</td>\n",
       "      <td>0.282609</td>\n",
       "      <td>0.591427</td>\n",
       "      <td>0.632654</td>\n",
       "    </tr>\n",
       "    <tr>\n",
       "      <th>167</th>\n",
       "      <td>OT</td>\n",
       "      <td>2018-06-26 19:00:00</td>\n",
       "      <td>0.326087</td>\n",
       "      <td>0.579757</td>\n",
       "      <td>0.591133</td>\n",
       "    </tr>\n",
       "  </tbody>\n",
       "</table>\n",
       "<p>168 rows × 5 columns</p>\n",
       "</div>"
      ],
      "text/plain": [
       "    unique_id                  ds   dayhour        OT  TimeLL_gpt2\n",
       "0          OT 2018-06-19 20:00:00  0.369565  0.443584     0.567137\n",
       "1          OT 2018-06-19 21:00:00  0.413043  0.303540     0.580921\n",
       "2          OT 2018-06-19 22:00:00  0.456522  0.334624     0.590469\n",
       "3          OT 2018-06-19 23:00:00  0.500000  0.377434     0.565925\n",
       "4          OT 2018-06-20 00:00:00 -0.500000  0.412445     0.588435\n",
       "..        ...                 ...       ...       ...          ...\n",
       "163        OT 2018-06-26 15:00:00  0.152174  0.653706     0.613228\n",
       "164        OT 2018-06-26 16:00:00  0.195652  0.661449     0.605517\n",
       "165        OT 2018-06-26 17:00:00  0.239130  0.618695     0.620055\n",
       "166        OT 2018-06-26 18:00:00  0.282609  0.591427     0.632654\n",
       "167        OT 2018-06-26 19:00:00  0.326087  0.579757     0.591133\n",
       "\n",
       "[168 rows x 5 columns]"
      ]
     },
     "execution_count": 35,
     "metadata": {},
     "output_type": "execute_result"
    }
   ],
   "source": [
    "Y_test_df"
   ]
  },
  {
   "cell_type": "code",
   "execution_count": 36,
   "metadata": {},
   "outputs": [
    {
     "name": "stderr",
     "output_type": "stream",
     "text": [
      "/tmp/ipykernel_5411/2338329755.py:1: SettingWithCopyWarning: \n",
      "A value is trying to be set on a copy of a slice from a DataFrame.\n",
      "Try using .loc[row_indexer,col_indexer] = value instead\n",
      "\n",
      "See the caveats in the documentation: https://pandas.pydata.org/pandas-docs/stable/user_guide/indexing.html#returning-a-view-versus-a-copy\n",
      "  Y_train_df[\"OT\"] = ot_scaler.inverse_transform(Y_train_df[[\"OT\"]])\n"
     ]
    }
   ],
   "source": []
  },
  {
   "cell_type": "code",
   "execution_count": 36,
   "metadata": {},
   "outputs": [
    {
     "name": "stderr",
     "output_type": "stream",
     "text": [
      "/tmp/ipykernel_64909/2590133583.py:1: SettingWithCopyWarning: \n",
      "A value is trying to be set on a copy of a slice from a DataFrame.\n",
      "Try using .loc[row_indexer,col_indexer] = value instead\n",
      "\n",
      "See the caveats in the documentation: https://pandas.pydata.org/pandas-docs/stable/user_guide/indexing.html#returning-a-view-versus-a-copy\n",
      "  Y_train_df[\"OT\"] = ot_scaler.inverse_transform(Y_train_df[[\"OT\"]])\n"
     ]
    }
   ],
   "source": [
    "Y_train_df[\"OT\"] = ot_scaler.inverse_transform(Y_train_df[[\"OT\"]])\n",
    "Y_test_df[\"OT\"] = ot_scaler.inverse_transform(Y_test_df[[\"OT\"]])\n",
    "Y_test_df[\"TimeLL_gpt2\"] = ot_scaler.inverse_transform(Y_test_df[[\"TimeLL_gpt2\"]])"
   ]
  },
  {
   "cell_type": "code",
   "execution_count": 37,
   "metadata": {},
   "outputs": [
    {
     "data": {
      "image/png": "[encoded data removed]",
      "text/plain": [
       "<Figure size 1500x600 with 1 Axes>"
      ]
     },
     "metadata": {},
     "output_type": "display_data"
    }
   ],
   "source": [
    "plt.figure(figsize=(15, 6))  # Ajuste aqui para o tamanho desejado, exemplo: 10 polegadas de largura por 6 de altura\n",
    "plt.plot(Y_train_df['ds'], Y_train_df['OT'])\n",
    "plt.plot(Y_test_df['ds'], Y_test_df['OT'], label='Actual')\n",
    "plt.plot(Y_test_df['ds'], Y_test_df['TimeLL_gpt2'], label='TimeLL_gpt2', ls='--', color='green')\n",
    "plt.legend(loc='best')\n",
    "plt.show()\n"
   ]
  },
  {
   "cell_type": "code",
   "execution_count": 24,
   "metadata": {},
   "outputs": [
    {
     "ename": "KeyError",
     "evalue": "'y'",
     "output_type": "error",
     "traceback": [
      "\u001b[0;31m---------------------------------------------------------------------------\u001b[0m",
      "\u001b[0;31mKeyError\u001b[0m                                  Traceback (most recent call last)",
      "File \u001b[0;32m~/mestrado/Time-LLM/.venv/lib/python3.11/site-packages/pandas/core/indexes/base.py:3802\u001b[0m, in \u001b[0;36mIndex.get_loc\u001b[0;34m(self, key, method, tolerance)\u001b[0m\n\u001b[1;32m   3801\u001b[0m \u001b[38;5;28;01mtry\u001b[39;00m:\n\u001b[0;32m-> 3802\u001b[0m     \u001b[38;5;28;01mreturn\u001b[39;00m \u001b[38;5;28;43mself\u001b[39;49m\u001b[38;5;241;43m.\u001b[39;49m\u001b[43m_engine\u001b[49m\u001b[38;5;241;43m.\u001b[39;49m\u001b[43mget_loc\u001b[49m\u001b[43m(\u001b[49m\u001b[43mcasted_key\u001b[49m\u001b[43m)\u001b[49m\n\u001b[1;32m   3803\u001b[0m \u001b[38;5;28;01mexcept\u001b[39;00m \u001b[38;5;167;01mKeyError\u001b[39;00m \u001b[38;5;28;01mas\u001b[39;00m err:\n",
      "File \u001b[0;32m~/mestrado/Time-LLM/.venv/lib/python3.11/site-packages/pandas/_libs/index.pyx:138\u001b[0m, in \u001b[0;36mpandas._libs.index.IndexEngine.get_loc\u001b[0;34m()\u001b[0m\n",
      "File \u001b[0;32m~/mestrado/Time-LLM/.venv/lib/python3.11/site-packages/pandas/_libs/index.pyx:165\u001b[0m, in \u001b[0;36mpandas._libs.index.IndexEngine.get_loc\u001b[0;34m()\u001b[0m\n",
      "File \u001b[0;32mpandas/_libs/hashtable_class_helper.pxi:5745\u001b[0m, in \u001b[0;36mpandas._libs.hashtable.PyObjectHashTable.get_item\u001b[0;34m()\u001b[0m\n",
      "File \u001b[0;32mpandas/_libs/hashtable_class_helper.pxi:5753\u001b[0m, in \u001b[0;36mpandas._libs.hashtable.PyObjectHashTable.get_item\u001b[0;34m()\u001b[0m\n",
      "\u001b[0;31mKeyError\u001b[0m: 'y'",
      "\nThe above exception was the direct cause of the following exception:\n",
      "\u001b[0;31mKeyError\u001b[0m                                  Traceback (most recent call last)",
      "Cell \u001b[0;32mIn[24], line 9\u001b[0m\n\u001b[1;32m      5\u001b[0m airline2_df \u001b[38;5;241m=\u001b[39m Y_test_df[Y_test_df\u001b[38;5;241m.\u001b[39munique_id \u001b[38;5;241m==\u001b[39m \u001b[38;5;124m'\u001b[39m\u001b[38;5;124mAirline2\u001b[39m\u001b[38;5;124m'\u001b[39m]\n\u001b[1;32m      7\u001b[0m fig, (ax1, ax2) \u001b[38;5;241m=\u001b[39m plt\u001b[38;5;241m.\u001b[39msubplots(ncols\u001b[38;5;241m=\u001b[39m\u001b[38;5;241m1\u001b[39m, nrows\u001b[38;5;241m=\u001b[39m\u001b[38;5;241m2\u001b[39m, figsize\u001b[38;5;241m=\u001b[39m(\u001b[38;5;241m16\u001b[39m,\u001b[38;5;241m8\u001b[39m))\n\u001b[0;32m----> 9\u001b[0m ax1\u001b[38;5;241m.\u001b[39mplot(train1_df[\u001b[38;5;124m'\u001b[39m\u001b[38;5;124mds\u001b[39m\u001b[38;5;124m'\u001b[39m], \u001b[43mtrain1_df\u001b[49m\u001b[43m[\u001b[49m\u001b[38;5;124;43m'\u001b[39;49m\u001b[38;5;124;43my\u001b[39;49m\u001b[38;5;124;43m'\u001b[39;49m\u001b[43m]\u001b[49m)\n\u001b[1;32m     10\u001b[0m ax1\u001b[38;5;241m.\u001b[39mplot(airline1_df[\u001b[38;5;124m'\u001b[39m\u001b[38;5;124mds\u001b[39m\u001b[38;5;124m'\u001b[39m], airline1_df[\u001b[38;5;124m'\u001b[39m\u001b[38;5;124my\u001b[39m\u001b[38;5;124m'\u001b[39m], label\u001b[38;5;241m=\u001b[39m\u001b[38;5;124m'\u001b[39m\u001b[38;5;124mActual\u001b[39m\u001b[38;5;124m'\u001b[39m)\n\u001b[1;32m     11\u001b[0m ax1\u001b[38;5;241m.\u001b[39mplot(airline1_df[\u001b[38;5;124m'\u001b[39m\u001b[38;5;124mds\u001b[39m\u001b[38;5;124m'\u001b[39m], airline1_df[\u001b[38;5;124m'\u001b[39m\u001b[38;5;124mTimeLL_gpt2\u001b[39m\u001b[38;5;124m'\u001b[39m], label\u001b[38;5;241m=\u001b[39m\u001b[38;5;124m'\u001b[39m\u001b[38;5;124mTimeLL_gpt2\u001b[39m\u001b[38;5;124m'\u001b[39m, ls\u001b[38;5;241m=\u001b[39m\u001b[38;5;124m'\u001b[39m\u001b[38;5;124m--\u001b[39m\u001b[38;5;124m'\u001b[39m, color\u001b[38;5;241m=\u001b[39m\u001b[38;5;124m'\u001b[39m\u001b[38;5;124mgreen\u001b[39m\u001b[38;5;124m'\u001b[39m)\n",
      "File \u001b[0;32m~/mestrado/Time-LLM/.venv/lib/python3.11/site-packages/pandas/core/frame.py:3807\u001b[0m, in \u001b[0;36mDataFrame.__getitem__\u001b[0;34m(self, key)\u001b[0m\n\u001b[1;32m   3805\u001b[0m \u001b[38;5;28;01mif\u001b[39;00m \u001b[38;5;28mself\u001b[39m\u001b[38;5;241m.\u001b[39mcolumns\u001b[38;5;241m.\u001b[39mnlevels \u001b[38;5;241m>\u001b[39m \u001b[38;5;241m1\u001b[39m:\n\u001b[1;32m   3806\u001b[0m     \u001b[38;5;28;01mreturn\u001b[39;00m \u001b[38;5;28mself\u001b[39m\u001b[38;5;241m.\u001b[39m_getitem_multilevel(key)\n\u001b[0;32m-> 3807\u001b[0m indexer \u001b[38;5;241m=\u001b[39m \u001b[38;5;28;43mself\u001b[39;49m\u001b[38;5;241;43m.\u001b[39;49m\u001b[43mcolumns\u001b[49m\u001b[38;5;241;43m.\u001b[39;49m\u001b[43mget_loc\u001b[49m\u001b[43m(\u001b[49m\u001b[43mkey\u001b[49m\u001b[43m)\u001b[49m\n\u001b[1;32m   3808\u001b[0m \u001b[38;5;28;01mif\u001b[39;00m is_integer(indexer):\n\u001b[1;32m   3809\u001b[0m     indexer \u001b[38;5;241m=\u001b[39m [indexer]\n",
      "File \u001b[0;32m~/mestrado/Time-LLM/.venv/lib/python3.11/site-packages/pandas/core/indexes/base.py:3804\u001b[0m, in \u001b[0;36mIndex.get_loc\u001b[0;34m(self, key, method, tolerance)\u001b[0m\n\u001b[1;32m   3802\u001b[0m     \u001b[38;5;28;01mreturn\u001b[39;00m \u001b[38;5;28mself\u001b[39m\u001b[38;5;241m.\u001b[39m_engine\u001b[38;5;241m.\u001b[39mget_loc(casted_key)\n\u001b[1;32m   3803\u001b[0m \u001b[38;5;28;01mexcept\u001b[39;00m \u001b[38;5;167;01mKeyError\u001b[39;00m \u001b[38;5;28;01mas\u001b[39;00m err:\n\u001b[0;32m-> 3804\u001b[0m     \u001b[38;5;28;01mraise\u001b[39;00m \u001b[38;5;167;01mKeyError\u001b[39;00m(key) \u001b[38;5;28;01mfrom\u001b[39;00m \u001b[38;5;21;01merr\u001b[39;00m\n\u001b[1;32m   3805\u001b[0m \u001b[38;5;28;01mexcept\u001b[39;00m \u001b[38;5;167;01mTypeError\u001b[39;00m:\n\u001b[1;32m   3806\u001b[0m     \u001b[38;5;66;03m# If we have a listlike key, _check_indexing_error will raise\u001b[39;00m\n\u001b[1;32m   3807\u001b[0m     \u001b[38;5;66;03m#  InvalidIndexError. Otherwise we fall through and re-raise\u001b[39;00m\n\u001b[1;32m   3808\u001b[0m     \u001b[38;5;66;03m#  the TypeError.\u001b[39;00m\n\u001b[1;32m   3809\u001b[0m     \u001b[38;5;28mself\u001b[39m\u001b[38;5;241m.\u001b[39m_check_indexing_error(key)\n",
      "\u001b[0;31mKeyError\u001b[0m: 'y'"
     ]
    },
    {
     "data": {
      "image/png": "[encoded data removed]",
      "text/plain": [
       "<Figure size 1600x800 with 2 Axes>"
      ]
     },
     "metadata": {},
     "output_type": "display_data"
    }
   ],
   "source": [
    "train1_df = Y_train_df[Y_train_df.unique_id == 'Airline1']\n",
    "train2_df = Y_train_df[Y_train_df.unique_id == 'Airline2']\n",
    "\n",
    "airline1_df = Y_test_df[Y_test_df.unique_id == 'Airline1']\n",
    "airline2_df = Y_test_df[Y_test_df.unique_id == 'Airline2']\n",
    "\n",
    "fig, (ax1, ax2) = plt.subplots(ncols=1, nrows=2, figsize=(16,8))\n",
    "\n",
    "ax1.plot(train1_df['ds'], train1_df['y'])\n",
    "ax1.plot(airline1_df['ds'], airline1_df['y'], label='Actual')\n",
    "ax1.plot(airline1_df['ds'], airline1_df['TimeLL_gpt2'], label='TimeLL_gpt2', ls='--', color='green')\n",
    "ax1.legend(loc='best')\n",
    "ax1.set_xlabel('Time')\n",
    "ax1.set_ylabel('Monthly passengers')\n",
    "\n",
    "ax2.plot(train2_df['ds'], train2_df['y'])\n",
    "ax2.plot(airline2_df['ds'], airline2_df['y'], label='Actual')\n",
    "ax2.plot(airline2_df['ds'], airline2_df['TimeLL_gpt2'], label='TimeLL_gpt2', ls='--', color='green')\n",
    "ax2.legend(loc='best')\n",
    "ax2.set_xlabel('Time')\n",
    "ax2.set_ylabel('Monthly passengers')\n",
    "\n",
    "plt.tight_layout()"
   ]
  },
  {
   "cell_type": "code",
   "execution_count": 19,
   "metadata": {},
   "outputs": [
    {
     "data": {
      "image/png": "[encoded data removed]",
      "text/plain": [
       "<Figure size 1600x800 with 2 Axes>"
      ]
     },
     "metadata": {},
     "output_type": "display_data"
    }
   ],
   "source": [
    "train1_df = Y_train_df[Y_train_df.unique_id == 'Airline1']\n",
    "train2_df = Y_train_df[Y_train_df.unique_id == 'Airline2']\n",
    "\n",
    "airline1_df = Y_test_df[Y_test_df.unique_id == 'Airline1']\n",
    "airline2_df = Y_test_df[Y_test_df.unique_id == 'Airline2']\n",
    "\n",
    "fig, (ax1, ax2) = plt.subplots(ncols=1, nrows=2, figsize=(16,8))\n",
    "\n",
    "ax1.plot(train1_df['ds'], train1_df['y'])\n",
    "ax1.plot(airline1_df['ds'], airline1_df['y'], label='Actual')\n",
    "ax1.plot(airline1_df['ds'], airline1_df['TimeLLM'], label='TimeLLM', ls='--', color='green')\n",
    "ax1.legend(loc='best')\n",
    "ax1.set_xlabel('Time')\n",
    "ax1.set_ylabel('Monthly passengers')\n",
    "\n",
    "ax2.plot(train2_df['ds'], train2_df['y'])\n",
    "ax2.plot(airline2_df['ds'], airline2_df['y'], label='Actual')\n",
    "ax2.plot(airline2_df['ds'], airline2_df['TimeLLM'], label='TimeLLM', ls='--', color='green')\n",
    "ax2.legend(loc='best')\n",
    "ax2.set_xlabel('Time')\n",
    "ax2.set_ylabel('Monthly passengers')\n",
    "\n",
    "plt.tight_layout()"
   ]
  },
  {
   "cell_type": "code",
   "execution_count": null,
   "metadata": {},
   "outputs": [],
   "source": [
    "train1_df = Y_train_df[Y_train_df.unique_id == 'Airline1']\n",
    "train2_df = Y_train_df[Y_train_df.unique_id == 'Airline2']\n",
    "\n",
    "airline1_df = Y_test_df[Y_test_df.unique_id == 'Airline1']\n",
    "airline2_df = Y_test_df[Y_test_df.unique_id == 'Airline2']\n",
    "\n",
    "fig, (ax1, ax2) = plt.subplots(ncols=1, nrows=2, figsize=(16,8))\n",
    "\n",
    "ax1.plot(train1_df['ds'], train1_df['y'])\n",
    "ax1.plot(airline1_df['ds'], airline1_df['y'], label='Actual')\n",
    "ax1.plot(airline1_df['ds'], airline1_df['TimeLLM'], label='TimeLLM', ls='--', color='green')\n",
    "ax1.legend(loc='best')\n",
    "ax1.set_xlabel('Time')\n",
    "ax1.set_ylabel('Monthly passengers')\n",
    "\n",
    "ax2.plot(train2_df['ds'], train2_df['y'])\n",
    "ax2.plot(airline2_df['ds'], airline2_df['y'], label='Actual')\n",
    "ax2.plot(airline2_df['ds'], airline2_df['TimeLL_bert'], label='TimeLL_bert', ls='--', color='green')\n",
    "ax2.legend(loc='best')\n",
    "ax2.set_xlabel('Time')\n",
    "ax2.set_ylabel('Monthly passengers')\n",
    "\n",
    "plt.tight_layout()"
   ]
  }
 ],
 "metadata": {
  "kernelspec": {
   "display_name": ".venv",
   "language": "python",
   "name": "python3"
  },
  "language_info": {
   "codemirror_mode": {
    "name": "ipython",
    "version": 3
   },
   "file_extension": ".py",
   "mimetype": "text/x-python",
   "name": "python",
   "nbconvert_exporter": "python",
   "pygments_lexer": "ipython3",
   "version": "3.11.9"
  }
 },
 "nbformat": 4,
 "nbformat_minor": 2
}
